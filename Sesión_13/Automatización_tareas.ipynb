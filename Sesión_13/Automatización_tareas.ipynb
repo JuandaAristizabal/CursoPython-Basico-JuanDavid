{
 "cells": [
  {
   "cell_type": "code",
   "execution_count": 1,
   "id": "12ab67d7",
   "metadata": {},
   "outputs": [
    {
     "name": "stdout",
     "output_type": "stream",
     "text": [
      "Datos cargados: 10000 filas, 9 columnas\n",
      "Total producción (bpd): 11486580.5\n",
      "Presión promedio (psi): 1756.57\n"
     ]
    }
   ],
   "source": [
    "\"\"\"\n",
    "Laboratorio 1: Automatización de tareas de análisis\n",
    "\n",
    "Objetivo: Automatizar la limpieza y análisis básico del dataset de producción.\n",
    "\"\"\"\n",
    "\n",
    "import pandas as pd\n",
    "\n",
    "\"\"\"\n",
    "Instrucciones:\n",
    "1. Carga el archivo '../datos/datos_produccion_automatizada_grande.csv' en un DataFrame.\n",
    "\"\"\"\n",
    "ruta = r'/workspaces/CursoPython-Basico-JuanDavid/Sesión_13/datos/datos_produccion_automatizada_grande.csv'\n",
    "df = pd.read_csv(ruta, parse_dates=['fecha'])\n",
    "print(f'Datos cargados: {df.shape[0]} filas, {df.shape[1]} columnas')\n",
    "\n",
    "\"\"\"\n",
    "1.1. Calcula el total de producción y el promedio de presión.\n",
    "\"\"\"\n",
    "total_produccion = df['produccion_bpd'].sum()\n",
    "promedio_presion = df['presion_psi'].mean()\n",
    "print(f'Total producción (bpd): {total_produccion}')\n",
    "print(f'Presión promedio (psi): {promedio_presion:.2f}')"
   ]
  },
  {
   "cell_type": "code",
   "execution_count": 2,
   "id": "4ee3181d",
   "metadata": {},
   "outputs": [
    {
     "name": "stdout",
     "output_type": "stream",
     "text": [
      "Datos después de limpieza: 8384 filas, 9 columnas\n"
     ]
    }
   ],
   "source": [
    "\"\"\"\n",
    "Instrucciones:\n",
    "2. Elimina duplicados y valores nulos.\n",
    "\"\"\"\n",
    "df = df.drop_duplicates()\n",
    "df = df.dropna()\n",
    "print(f'Datos después de limpieza: {df.shape[0]} filas, {df.shape[1]} columnas')"
   ]
  },
  {
   "cell_type": "code",
   "execution_count": 3,
   "id": "e03ddef6",
   "metadata": {},
   "outputs": [
    {
     "name": "stdout",
     "output_type": "stream",
     "text": [
      "Total producción (bpd): 10001025.6\n",
      "Presión promedio (psi): 1756.50\n",
      "                               fecha  produccion_bpd  presion_psi  \\\n",
      "count                           8384     8384.000000  8384.000000   \n",
      "mean   2027-05-15 02:01:20.724236544     1192.870420  1756.499094   \n",
      "min              1990-01-01 00:00:00    -1478.800000 -1857.700000   \n",
      "25%              2025-09-11 10:30:00     1042.475000  1656.300000   \n",
      "50%              2027-05-24 15:00:00     1181.600000  1749.000000   \n",
      "75%              2029-02-14 13:30:00     1301.300000  1842.500000   \n",
      "max              2030-11-04 18:00:00     4625.400000  4343.300000   \n",
      "std                              NaN      413.749011   364.088241   \n",
      "\n",
      "       temperatura_f  agua_porcentaje  gas_porcentaje  \n",
      "count    8384.000000      8384.000000     8384.000000  \n",
      "mean      145.010675        14.986009       17.999416  \n",
      "min      -242.600000         0.000000        2.600000  \n",
      "25%       136.900000        11.600000       15.300000  \n",
      "50%       145.100000        15.050000       18.000000  \n",
      "75%       153.000000        18.400000       20.700000  \n",
      "max       274.600000        37.400000       33.400000  \n",
      "std        21.233363         4.974880        3.941642  \n"
     ]
    }
   ],
   "source": [
    "\"\"\"\n",
    "Instrucciones:\n",
    "3. Calcula el total de producción y el promedio de presión.\n",
    "\"\"\"\n",
    "total_produccion = df['produccion_bpd'].sum()\n",
    "promedio_presion = df['presion_psi'].mean()\n",
    "print(f'Total producción (bpd): {total_produccion}')\n",
    "print(f'Presión promedio (psi): {promedio_presion:.2f}')\n",
    "print(df.describe())"
   ]
  },
  {
   "cell_type": "code",
   "execution_count": 4,
   "id": "0ef009ff",
   "metadata": {},
   "outputs": [
    {
     "name": "stdout",
     "output_type": "stream",
     "text": [
      "Datos limpios guardados en 'datos_produccion_automatizada_grande_limpio.csv'\n",
      "Automatización de tareas completada.\n"
     ]
    }
   ],
   "source": [
    "\"\"\"\n",
    "Instrucciones:\n",
    "4. Guarda el DataFrame limpio en '../datos/datos_produccion_automatizada_grande_limpio.csv'.\n",
    "\"\"\"\n",
    "df.to_csv(r'/workspaces/CursoPython-Basico-JuanDavid/Sesión_13/datos/datos_produccion_automatizada_grande_limpio.csv', index=False)\n",
    "print(\"Datos limpios guardados en 'datos_produccion_automatizada_grande_limpio.csv'\")\n",
    "print(\"Automatización de tareas completada.\")"
   ]
  }
 ],
 "metadata": {
  "kernelspec": {
   "display_name": "petroleum-viz",
   "language": "python",
   "name": "python3"
  },
  "language_info": {
   "codemirror_mode": {
    "name": "ipython",
    "version": 3
   },
   "file_extension": ".py",
   "mimetype": "text/x-python",
   "name": "python",
   "nbconvert_exporter": "python",
   "pygments_lexer": "ipython3",
   "version": "3.9.23"
  }
 },
 "nbformat": 4,
 "nbformat_minor": 5
}
