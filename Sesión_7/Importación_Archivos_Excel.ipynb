{
 "cells": [
  {
   "cell_type": "code",
   "execution_count": 1,
   "id": "204ff705",
   "metadata": {},
   "outputs": [],
   "source": [
    "# Instalar dependencias necesarias\n",
    "# pip install pandas openpyxl xlrd\n",
    "\n",
    "import pandas as pd\n",
    "import numpy as np\n",
    "from datetime import datetime, timedelta"
   ]
  },
  {
   "cell_type": "markdown",
   "id": "0f06662b",
   "metadata": {},
   "source": [
    "0. SINTAXIS BÁSICA"
   ]
  },
  {
   "cell_type": "code",
   "execution_count": 2,
   "id": "86cfbf2c",
   "metadata": {},
   "outputs": [],
   "source": [
    "# Lectura simple\n",
    "#df = pd.read_excel('archivo.xlsx')\n",
    "\n",
    "# Con hoja específica\n",
    "#df = pd.read_excel('archivo.xlsx', sheet_name='Hoja1')"
   ]
  },
  {
   "cell_type": "markdown",
   "id": "4fcf64eb",
   "metadata": {},
   "source": [
    "1. CREACIÓN ARCHIVOS EXCEL"
   ]
  },
  {
   "cell_type": "code",
   "execution_count": 3,
   "id": "15255456",
   "metadata": {},
   "outputs": [
    {
     "name": "stdout",
     "output_type": "stream",
     "text": [
      "Archivo 'encuestas_satisfaccion.xlsx' creado exitosamente\n"
     ]
    }
   ],
   "source": [
    "# Crear un archivo Excel con múltiples hojas\n",
    "with pd.ExcelWriter('datos/encuestas_satisfaccion.xlsx', engine='openpyxl') as writer:\n",
    "    # Hoja 1: Resultados\n",
    "    resultados = pd.DataFrame({\n",
    "        'cliente': ['Tech Corp', 'Finance Ltd', 'Retail SA', 'Energy Co', 'Health Inc'],\n",
    "        'proyecto': ['P001', 'P002', 'P003', 'P004', 'P005'],\n",
    "        'satisfaccion_general': [4.5, 4.2, 4.8, 3.9, 4.6],\n",
    "        'calidad_entrega': [4.6, 4.3, 4.9, 4.0, 4.5],\n",
    "        'comunicacion': [4.4, 4.1, 4.7, 3.8, 4.7],\n",
    "        'valor_precio': [4.5, 4.2, 4.8, 3.9, 4.6],\n",
    "        'fecha_encuesta': pd.date_range('2024-01-01', periods=5, freq='W')\n",
    "    })\n",
    "    resultados.to_excel(writer, sheet_name='Resultados', index=False)\n",
    "\n",
    "    # Hoja 2: Preguntas\n",
    "    preguntas = pd.DataFrame({\n",
    "        'id_pregunta': ['Q1', 'Q2', 'Q3', 'Q4'],\n",
    "        'categoria': ['General', 'Calidad', 'Comunicación', 'Valor'],\n",
    "        'pregunta': [\n",
    "            '¿Qué tan satisfecho está con el proyecto en general?',\n",
    "            '¿Cómo califica la calidad de los entregables?',\n",
    "            '¿Cómo evalúa la comunicación del equipo?',\n",
    "            '¿Considera que recibió valor por su inversión?'\n",
    "        ],\n",
    "        'escala': ['1-5', '1-5', '1-5', '1-5']\n",
    "    })\n",
    "    preguntas.to_excel(writer, sheet_name='Preguntas', index=False)\n",
    "\n",
    "print(\"Archivo 'encuestas_satisfaccion.xlsx' creado exitosamente\")"
   ]
  },
  {
   "cell_type": "markdown",
   "id": "c76830db",
   "metadata": {},
   "source": [
    "2. LECTURA BÁSICA"
   ]
  },
  {
   "cell_type": "code",
   "execution_count": 4,
   "id": "a183a059",
   "metadata": {},
   "outputs": [
    {
     "name": "stdout",
     "output_type": "stream",
     "text": [
      "Primera hoja del archivo:\n",
      "       cliente proyecto  satisfaccion_general  calidad_entrega  comunicacion  \\\n",
      "0    Tech Corp     P001                   4.5              4.6           4.4   \n",
      "1  Finance Ltd     P002                   4.2              4.3           4.1   \n",
      "2    Retail SA     P003                   4.8              4.9           4.7   \n",
      "3    Energy Co     P004                   3.9              4.0           3.8   \n",
      "4   Health Inc     P005                   4.6              4.5           4.7   \n",
      "\n",
      "   valor_precio fecha_encuesta  \n",
      "0           4.5     2024-01-07  \n",
      "1           4.2     2024-01-14  \n",
      "2           4.8     2024-01-21  \n",
      "3           3.9     2024-01-28  \n",
      "4           4.6     2024-02-04  \n"
     ]
    }
   ],
   "source": [
    "# Leer la primera hoja (por defecto)\n",
    "df_resultados = pd.read_excel('datos/encuestas_satisfaccion.xlsx')\n",
    "print(\"Primera hoja del archivo:\")\n",
    "print(df_resultados)"
   ]
  },
  {
   "cell_type": "markdown",
   "id": "1604f9ff",
   "metadata": {},
   "source": [
    "3. LEER HOJA ESPECÍFICA"
   ]
  },
  {
   "cell_type": "code",
   "execution_count": 5,
   "id": "1e34b907",
   "metadata": {},
   "outputs": [
    {
     "name": "stdout",
     "output_type": "stream",
     "text": [
      "\n",
      "Hoja 'Preguntas':\n",
      "  id_pregunta     categoria  \\\n",
      "0          Q1       General   \n",
      "1          Q2       Calidad   \n",
      "2          Q3  Comunicación   \n",
      "3          Q4         Valor   \n",
      "\n",
      "                                            pregunta escala  \n",
      "0  ¿Qué tan satisfecho está con el proyecto en ge...    1-5  \n",
      "1      ¿Cómo califica la calidad de los entregables?    1-5  \n",
      "2           ¿Cómo evalúa la comunicación del equipo?    1-5  \n",
      "3     ¿Considera que recibió valor por su inversión?    1-5  \n",
      "\n",
      "Primera hoja por índice:\n",
      "       cliente proyecto  satisfaccion_general  calidad_entrega  comunicacion  \\\n",
      "0    Tech Corp     P001                   4.5              4.6           4.4   \n",
      "1  Finance Ltd     P002                   4.2              4.3           4.1   \n",
      "\n",
      "   valor_precio fecha_encuesta  \n",
      "0           4.5     2024-01-07  \n",
      "1           4.2     2024-01-14  \n"
     ]
    }
   ],
   "source": [
    "# Por nombre\n",
    "df_preguntas = pd.read_excel(\n",
    "    'datos/encuestas_satisfaccion.xlsx',\n",
    "    sheet_name='Preguntas'\n",
    ")\n",
    "print(\"\\nHoja 'Preguntas':\")\n",
    "print(df_preguntas)\n",
    "\n",
    "# Por índice (0-based)\n",
    "df_primera_hoja = pd.read_excel(\n",
    "    'datos/encuestas_satisfaccion.xlsx',\n",
    "    sheet_name=0\n",
    ")\n",
    "print(\"\\nPrimera hoja por índice:\")\n",
    "print(df_primera_hoja.head(2))"
   ]
  },
  {
   "cell_type": "markdown",
   "id": "714684c4",
   "metadata": {},
   "source": [
    "4. LEER MÚLTIPLES HOJAS"
   ]
  },
  {
   "cell_type": "code",
   "execution_count": 6,
   "id": "a1151af7",
   "metadata": {},
   "outputs": [
    {
     "name": "stdout",
     "output_type": "stream",
     "text": [
      "\n",
      "Hojas disponibles:\n",
      "- Resultados: (5, 7)\n",
      "- Preguntas: (4, 4)\n",
      "\n",
      "Datos de hojas seleccionadas:\n",
      "\n",
      "Resultados:\n",
      "       cliente proyecto  satisfaccion_general  calidad_entrega  comunicacion  \\\n",
      "0    Tech Corp     P001                   4.5              4.6           4.4   \n",
      "1  Finance Ltd     P002                   4.2              4.3           4.1   \n",
      "\n",
      "   valor_precio fecha_encuesta  \n",
      "0           4.5     2024-01-07  \n",
      "1           4.2     2024-01-14  \n",
      "\n",
      "Preguntas:\n",
      "  id_pregunta categoria                                           pregunta  \\\n",
      "0          Q1   General  ¿Qué tan satisfecho está con el proyecto en ge...   \n",
      "1          Q2   Calidad      ¿Cómo califica la calidad de los entregables?   \n",
      "\n",
      "  escala  \n",
      "0    1-5  \n",
      "1    1-5  \n"
     ]
    }
   ],
   "source": [
    "# Leer todas las hojas\n",
    "todas_hojas = pd.read_excel(\n",
    "    'datos/encuestas_satisfaccion.xlsx',\n",
    "    sheet_name=None  # Devuelve un diccionario\n",
    ")\n",
    "\n",
    "print(\"\\nHojas disponibles:\")\n",
    "for nombre_hoja, df in todas_hojas.items():\n",
    "    print(f\"- {nombre_hoja}: {df.shape}\")\n",
    "\n",
    "# Leer hojas específicas\n",
    "hojas_seleccionadas = pd.read_excel(\n",
    "    'datos/encuestas_satisfaccion.xlsx',\n",
    "    sheet_name=['Resultados', 'Preguntas']\n",
    ")\n",
    "\n",
    "print(\"\\nDatos de hojas seleccionadas:\")\n",
    "for nombre, df in hojas_seleccionadas.items():\n",
    "    print(f\"\\n{nombre}:\")\n",
    "    print(df.head(2))"
   ]
  },
  {
   "cell_type": "markdown",
   "id": "74e79043",
   "metadata": {},
   "source": [
    "5. SELECCIÓN DE COLUMNAS"
   ]
  },
  {
   "cell_type": "code",
   "execution_count": 7,
   "id": "1f1dea31",
   "metadata": {},
   "outputs": [
    {
     "name": "stdout",
     "output_type": "stream",
     "text": [
      "\n",
      "Columnas seleccionadas:\n",
      "       cliente  satisfaccion_general fecha_encuesta\n",
      "0    Tech Corp                   4.5     2024-01-07\n",
      "1  Finance Ltd                   4.2     2024-01-14\n",
      "2    Retail SA                   4.8     2024-01-21\n",
      "3    Energy Co                   3.9     2024-01-28\n",
      "4   Health Inc                   4.6     2024-02-04\n",
      "\n",
      "Columnas A-C y G:\n",
      "       cliente proyecto  satisfaccion_general fecha_encuesta\n",
      "0    Tech Corp     P001                   4.5     2024-01-07\n",
      "1  Finance Ltd     P002                   4.2     2024-01-14\n",
      "2    Retail SA     P003                   4.8     2024-01-21\n",
      "3    Energy Co     P004                   3.9     2024-01-28\n",
      "4   Health Inc     P005                   4.6     2024-02-04\n"
     ]
    }
   ],
   "source": [
    "# Leer solo columnas específicas\n",
    "columnas_interes = ['cliente', 'satisfaccion_general', 'fecha_encuesta']\n",
    "df_parcial = pd.read_excel(\n",
    "    'datos/encuestas_satisfaccion.xlsx',\n",
    "    usecols=columnas_interes\n",
    ")\n",
    "print(\"\\nColumnas seleccionadas:\")\n",
    "print(df_parcial)\n",
    "\n",
    "# Usando índices de columnas (A, B, C...)\n",
    "df_por_letras = pd.read_excel(\n",
    "    'datos/encuestas_satisfaccion.xlsx',\n",
    "    usecols='A:C,G'  # Columnas A hasta C, y G\n",
    ")\n",
    "print(\"\\nColumnas A-C y G:\")\n",
    "print(df_por_letras)"
   ]
  },
  {
   "cell_type": "markdown",
   "id": "a4ee1d94",
   "metadata": {},
   "source": [
    "6. ARCHIVO CON FORMATO COMPLEJO"
   ]
  },
  {
   "cell_type": "code",
   "execution_count": 8,
   "id": "d3f84d69",
   "metadata": {},
   "outputs": [
    {
     "name": "stdout",
     "output_type": "stream",
     "text": [
      "Tiempos (sin encabezado):\n",
      "  Unnamed: 0 Enero 2024    Unnamed: 2  Unnamed: 3  Unnamed: 4  Unnamed: 5  \\\n",
      "0   Semana 1       P001    Ana García           8           8           8   \n",
      "1   Semana 2       P001    Ana García           8           7           8   \n",
      "2   Semana 3       P002  Carlos López           6           8           8   \n",
      "3   Semana 4       P002  Carlos López           7           8           6   \n",
      "\n",
      "   Unnamed: 6  Unnamed: 7  Unnamed: 8  \n",
      "0           7           7          38  \n",
      "1           8           6          37  \n",
      "2           7           8          37  \n",
      "3           8           7          36  \n"
     ]
    }
   ],
   "source": [
    "# Crear Excel con formato más complejo\n",
    "tiempos_gastos_data = {\n",
    "    'Hoja Tiempos': pd.DataFrame({\n",
    "        'Semana': ['', '', 'Semana 1', 'Semana 2', 'Semana 3', 'Semana 4'],\n",
    "        'Proyecto': ['REPORTE DE TIEMPOS', 'Enero 2024', 'P001', 'P001', 'P002', 'P002'],\n",
    "        'Consultor': ['', '', 'Ana García', 'Ana García', 'Carlos López', 'Carlos López'],\n",
    "        'Horas_Lun': ['', '', 8, 8, 6, 7],\n",
    "        'Horas_Mar': ['', '', 8, 7, 8, 8],\n",
    "        'Horas_Mie': ['', '', 8, 8, 8, 6],\n",
    "        'Horas_Jue': ['', '', 7, 8, 7, 8],\n",
    "        'Horas_Vie': ['', '', 7, 6, 8, 7],\n",
    "        'Total': ['', '', 38, 37, 37, 36]\n",
    "    }),\n",
    "    'Hoja Gastos': pd.DataFrame({\n",
    "        'Proyecto': ['P001', 'P001', 'P002', 'P002', 'P003'],\n",
    "        'Categoria': ['Viajes', 'Software', 'Viajes', 'Consultores', 'Software'],\n",
    "        'Descripcion': ['Vuelo a cliente', 'Licencias', 'Hotel', 'Subcontratación', 'Herramientas'],\n",
    "        'Monto': [1200, 500, 800, 3000, 750],\n",
    "        'Fecha': pd.date_range('2024-01-01', periods=5, freq='W'),\n",
    "        'Aprobado': ['Sí', 'Sí', 'Sí', 'Pendiente', 'Sí']\n",
    "    })\n",
    "}\n",
    "\n",
    "with pd.ExcelWriter('datos/tiempos_gastos.xlsx', engine='openpyxl') as writer:\n",
    "    tiempos_gastos_data['Hoja Tiempos'].to_excel(\n",
    "        writer, sheet_name='Tiempos', index=False\n",
    "    )\n",
    "    tiempos_gastos_data['Hoja Gastos'].to_excel(\n",
    "        writer, sheet_name='Gastos', index=False\n",
    "    )\n",
    "\n",
    "# Leer saltando las filas de encabezado\n",
    "df_tiempos_limpio = pd.read_excel(\n",
    "    'datos/tiempos_gastos.xlsx',\n",
    "    sheet_name='Tiempos',\n",
    "    skiprows=2  # Saltar las primeras 2 filas\n",
    ")\n",
    "print(\"Tiempos (sin encabezado):\")\n",
    "print(df_tiempos_limpio)"
   ]
  },
  {
   "cell_type": "markdown",
   "id": "04b349a1",
   "metadata": {},
   "source": [
    "7. CONVERSIÓN TIPOS DE DATOS"
   ]
  },
  {
   "cell_type": "code",
   "execution_count": 9,
   "id": "408537a0",
   "metadata": {},
   "outputs": [
    {
     "name": "stdout",
     "output_type": "stream",
     "text": [
      "\n",
      "Gastos con tipos específicos:\n",
      "<class 'pandas.core.frame.DataFrame'>\n",
      "RangeIndex: 5 entries, 0 to 4\n",
      "Data columns (total 6 columns):\n",
      " #   Column       Non-Null Count  Dtype         \n",
      "---  ------       --------------  -----         \n",
      " 0   Proyecto     5 non-null      string        \n",
      " 1   Categoria    5 non-null      string        \n",
      " 2   Descripcion  5 non-null      object        \n",
      " 3   Monto        5 non-null      float64       \n",
      " 4   Fecha        5 non-null      datetime64[ns]\n",
      " 5   Aprobado     5 non-null      string        \n",
      "dtypes: datetime64[ns](1), float64(1), object(1), string(3)\n",
      "memory usage: 372.0+ bytes\n",
      "None\n"
     ]
    }
   ],
   "source": [
    "# Especificar tipos de datos al leer\n",
    "dtype_spec = {\n",
    "    'Proyecto': 'string',\n",
    "    'Categoria': 'string',\n",
    "    'Monto': 'float64',\n",
    "    'Aprobado': 'string'\n",
    "}\n",
    "\n",
    "df_gastos = pd.read_excel(\n",
    "    'datos/tiempos_gastos.xlsx',\n",
    "    sheet_name='Gastos',\n",
    "    dtype=dtype_spec,\n",
    "    parse_dates=['Fecha']\n",
    ")\n",
    "\n",
    "print(\"\\nGastos con tipos específicos:\")\n",
    "print(df_gastos.info())"
   ]
  },
  {
   "cell_type": "markdown",
   "id": "921a8d78",
   "metadata": {},
   "source": [
    "8. MANEJO DE CELDAS COMBINADAS"
   ]
  },
  {
   "cell_type": "code",
   "execution_count": 10,
   "id": "db4845cb",
   "metadata": {},
   "outputs": [
    {
     "name": "stdout",
     "output_type": "stream",
     "text": [
      "\n",
      "Resumen por región:\n",
      "        Ventas  Gastos  Utilidad\n",
      "Region                          \n",
      "Norte   395000  247000    148000\n",
      "Sur     315000  217000     98000\n"
     ]
    }
   ],
   "source": [
    "# Crear Excel con celdas combinadas (simulado)\n",
    "reporte_regional = pd.DataFrame({\n",
    "    'Region': ['Norte', 'Norte', 'Norte', 'Sur', 'Sur', 'Sur'],\n",
    "    'Mes': ['Enero', 'Febrero', 'Marzo', 'Enero', 'Febrero', 'Marzo'],\n",
    "    'Ventas': [120000, 135000, 140000, 95000, 105000, 115000],\n",
    "    'Gastos': [80000, 85000, 82000, 70000, 72000, 75000],\n",
    "    'Utilidad': [40000, 50000, 58000, 25000, 33000, 40000]\n",
    "})\n",
    "\n",
    "reporte_regional.to_excel('datos/reporte_regional.xlsx', index=False)\n",
    "\n",
    "# Leer y procesar\n",
    "df_regional = pd.read_excel('datos/reporte_regional.xlsx')\n",
    "\n",
    "# Agrupar por región para manejar datos jerárquicos\n",
    "resumen_regional = df_regional.groupby('Region').agg({\n",
    "    'Ventas': 'sum',\n",
    "    'Gastos': 'sum',\n",
    "    'Utilidad': 'sum'\n",
    "})\n",
    "print(\"\\nResumen por región:\")\n",
    "print(resumen_regional)"
   ]
  },
  {
   "cell_type": "markdown",
   "id": "62c69df3",
   "metadata": {},
   "source": [
    "9. LECTURA SELECTIVA DE FILAS"
   ]
  },
  {
   "cell_type": "code",
   "execution_count": 11,
   "id": "f6e0ecf8",
   "metadata": {},
   "outputs": [
    {
     "name": "stdout",
     "output_type": "stream",
     "text": [
      "Primeras 3 filas:\n",
      "       cliente proyecto  satisfaccion_general  calidad_entrega  comunicacion  \\\n",
      "0    Tech Corp     P001                   4.5              4.6           4.4   \n",
      "1  Finance Ltd     P002                   4.2              4.3           4.1   \n",
      "2    Retail SA     P003                   4.8              4.9           4.7   \n",
      "\n",
      "   valor_precio fecha_encuesta  \n",
      "0           4.5     2024-01-07  \n",
      "1           4.2     2024-01-14  \n",
      "2           4.8     2024-01-21  \n",
      "\n",
      "Filas 2-4:\n",
      "     Tech Corp  P001  4.5  4.6  4.4  4.5.1 2024-01-07 00:00:00\n",
      "0  Finance Ltd  P002  4.2  4.3  4.1    4.2          2024-01-14\n",
      "1    Retail SA  P003  4.8  4.9  4.7    4.8          2024-01-21\n",
      "2    Energy Co  P004  3.9  4.0  3.8    3.9          2024-01-28\n"
     ]
    }
   ],
   "source": [
    "# Leer solo las primeras N filas\n",
    "df_muestra = pd.read_excel(\n",
    "    'datos/encuestas_satisfaccion.xlsx',\n",
    "    nrows=3\n",
    ")\n",
    "print(\"Primeras 3 filas:\")\n",
    "print(df_muestra)\n",
    "\n",
    "# Leer rangos específicos\n",
    "df_rango = pd.read_excel(\n",
    "    'datos/encuestas_satisfaccion.xlsx',\n",
    "    skiprows=1,\n",
    "    nrows=3\n",
    ")\n",
    "print(\"\\nFilas 2-4:\")\n",
    "print(df_rango)"
   ]
  },
  {
   "cell_type": "markdown",
   "id": "dddd79a8",
   "metadata": {},
   "source": [
    "10. CONFIGURACIÓN DE ÍNDICES"
   ]
  },
  {
   "cell_type": "code",
   "execution_count": 12,
   "id": "a3d1cff6",
   "metadata": {},
   "outputs": [
    {
     "name": "stdout",
     "output_type": "stream",
     "text": [
      "\n",
      "Con proyecto como índice:\n",
      "              cliente  satisfaccion_general  calidad_entrega  comunicacion  \\\n",
      "proyecto                                                                     \n",
      "P001        Tech Corp                   4.5              4.6           4.4   \n",
      "P002      Finance Ltd                   4.2              4.3           4.1   \n",
      "P003        Retail SA                   4.8              4.9           4.7   \n",
      "P004        Energy Co                   3.9              4.0           3.8   \n",
      "P005       Health Inc                   4.6              4.5           4.7   \n",
      "\n",
      "          valor_precio fecha_encuesta  \n",
      "proyecto                               \n",
      "P001               4.5     2024-01-07  \n",
      "P002               4.2     2024-01-14  \n",
      "P003               4.8     2024-01-21  \n",
      "P004               3.9     2024-01-28  \n",
      "P005               4.6     2024-02-04  \n"
     ]
    }
   ],
   "source": [
    "# Establecer columna como índice\n",
    "df_con_indice = pd.read_excel(\n",
    "    'datos/encuestas_satisfaccion.xlsx',\n",
    "    index_col='proyecto'\n",
    ")\n",
    "print(\"\\nCon proyecto como índice:\")\n",
    "print(df_con_indice)"
   ]
  },
  {
   "cell_type": "markdown",
   "id": "8bc07e61",
   "metadata": {},
   "source": [
    "11. ANÁLISIS POST-IMPORTACIÓN"
   ]
  },
  {
   "cell_type": "code",
   "execution_count": 13,
   "id": "75debd57",
   "metadata": {},
   "outputs": [
    {
     "name": "stdout",
     "output_type": "stream",
     "text": [
      "\n",
      "==================================================\n",
      "Análisis de: datos/encuestas_satisfaccion.xlsx\n",
      "Hoja: Resultados\n",
      "==================================================\n",
      "\n",
      "Forma: (5, 7)\n",
      "Columnas: ['cliente', 'proyecto', 'satisfaccion_general', 'calidad_entrega', 'comunicacion', 'valor_precio', 'fecha_encuesta']\n",
      "\n",
      "Tipos de datos:\n",
      "cliente                         object\n",
      "proyecto                        object\n",
      "satisfaccion_general           float64\n",
      "calidad_entrega                float64\n",
      "comunicacion                   float64\n",
      "valor_precio                   float64\n",
      "fecha_encuesta          datetime64[ns]\n",
      "dtype: object\n",
      "\n",
      "Valores faltantes por columna:\n",
      "cliente                 0\n",
      "proyecto                0\n",
      "satisfaccion_general    0\n",
      "calidad_entrega         0\n",
      "comunicacion            0\n",
      "valor_precio            0\n",
      "fecha_encuesta          0\n",
      "dtype: int64\n",
      "\n",
      "Estadísticas descriptivas:\n",
      "       satisfaccion_general  calidad_entrega  comunicacion  valor_precio  \\\n",
      "count              5.000000         5.000000      5.000000      5.000000   \n",
      "mean               4.400000         4.460000      4.340000      4.400000   \n",
      "min                3.900000         4.000000      3.800000      3.900000   \n",
      "25%                4.200000         4.300000      4.100000      4.200000   \n",
      "50%                4.500000         4.500000      4.400000      4.500000   \n",
      "75%                4.600000         4.600000      4.700000      4.600000   \n",
      "max                4.800000         4.900000      4.700000      4.800000   \n",
      "std                0.353553         0.336155      0.391152      0.353553   \n",
      "\n",
      "            fecha_encuesta  \n",
      "count                    5  \n",
      "mean   2024-01-21 00:00:00  \n",
      "min    2024-01-07 00:00:00  \n",
      "25%    2024-01-14 00:00:00  \n",
      "50%    2024-01-21 00:00:00  \n",
      "75%    2024-01-28 00:00:00  \n",
      "max    2024-02-04 00:00:00  \n",
      "std                    NaN  \n"
     ]
    }
   ],
   "source": [
    "def analizar_excel_importado(filepath, sheet_name=0):\n",
    "    \"\"\"Función para análisis inicial de datos Excel\"\"\"\n",
    "    # Leer datos\n",
    "    df = pd.read_excel(filepath, sheet_name=sheet_name)\n",
    "\n",
    "    print(f\"\\n{'='*50}\")\n",
    "    print(f\"Análisis de: {filepath}\")\n",
    "    print(f\"Hoja: {sheet_name}\")\n",
    "    print(f\"{'='*50}\")\n",
    "\n",
    "    # Información básica\n",
    "    print(f\"\\nForma: {df.shape}\")\n",
    "    print(f\"Columnas: {list(df.columns)}\")\n",
    "\n",
    "    # Tipos de datos\n",
    "    print(\"\\nTipos de datos:\")\n",
    "    print(df.dtypes)\n",
    "\n",
    "    # Valores faltantes\n",
    "    print(\"\\nValores faltantes por columna:\")\n",
    "    print(df.isnull().sum())\n",
    "\n",
    "    # Estadísticas para columnas numéricas\n",
    "    print(\"\\nEstadísticas descriptivas:\")\n",
    "    print(df.describe())\n",
    "\n",
    "    return df\n",
    "\n",
    "# Aplicar análisis\n",
    "df_analizado = analizar_excel_importado(\n",
    "    'datos/encuestas_satisfaccion.xlsx',\n",
    "    'Resultados'\n",
    ")"
   ]
  },
  {
   "cell_type": "markdown",
   "id": "0bbe6208",
   "metadata": {},
   "source": [
    "12. EXPORTACIÓN BÁSICA A EXCEL"
   ]
  },
  {
   "cell_type": "code",
   "execution_count": 14,
   "id": "8745a67f",
   "metadata": {},
   "outputs": [
    {
     "name": "stdout",
     "output_type": "stream",
     "text": [
      "Dashboard exportado\n"
     ]
    }
   ],
   "source": [
    "# Crear datos de ejemplo\n",
    "dashboard_data = pd.DataFrame({\n",
    "    'KPI': ['Ingresos', 'Gastos', 'Utilidad', 'Margen'],\n",
    "    'Q1': [250000, 180000, 70000, 0.28],\n",
    "    'Q2': [280000, 195000, 85000, 0.30],\n",
    "    'Q3': [310000, 205000, 105000, 0.34],\n",
    "    'Q4': [350000, 220000, 130000, 0.37]\n",
    "})\n",
    "\n",
    "# Exportar a Excel\n",
    "dashboard_data.to_excel('datos/dashboard_kpis.xlsx', index=False)\n",
    "print(\"Dashboard exportado\")"
   ]
  },
  {
   "cell_type": "markdown",
   "id": "d0afe406",
   "metadata": {},
   "source": [
    "13. EXPORTACIÓN MÚLTIPLES HOJAS CON FORMATO A EXCEL"
   ]
  },
  {
   "cell_type": "code",
   "execution_count": null,
   "id": "8df8c6c1",
   "metadata": {},
   "outputs": [
    {
     "name": "stdout",
     "output_type": "stream",
     "text": [
      "Reporte ejecutivo creado con 3 hojas\n"
     ]
    },
    {
     "name": "stderr",
     "output_type": "stream",
     "text": [
      "/tmp/ipykernel_75295/3498512606.py:23: FutureWarning: 'M' is deprecated and will be removed in a future version, please use 'ME' instead.\n",
      "  'Mes': pd.date_range('2024-01', periods=12, freq='M'),\n"
     ]
    }
   ],
   "source": [
    "# Crear reporte completo con múltiples hojas\n",
    "with pd.ExcelWriter('datos/reporte_ejecutivo.xlsx', engine='openpyxl') as writer:\n",
    "    # Hoja 1: Resumen Ejecutivo\n",
    "    resumen = pd.DataFrame({\n",
    "        'Métrica': ['Ingresos Totales', 'Gastos Totales', 'Utilidad Neta', \n",
    "                    'Proyectos Activos', 'Satisfacción Promedio'],\n",
    "        'Valor': [1190000, 800000, 390000, 12, 4.4],\n",
    "        'Vs. Año Anterior': ['+15%', '+10%', '+25%', '+3', '+0.2']\n",
    "    })\n",
    "    resumen.to_excel(writer, sheet_name='Resumen', index=False)\n",
    "\n",
    "    # Hoja 2: Detalle por Cliente\n",
    "    clientes = pd.DataFrame({\n",
    "        'Cliente': ['Tech Corp', 'Finance Ltd', 'Retail SA', 'Energy Co'],\n",
    "        'Proyectos': [3, 2, 4, 2],\n",
    "        'Facturación': [450000, 280000, 320000, 140000],\n",
    "        'Margen': [0.32, 0.28, 0.35, 0.25]\n",
    "    })\n",
    "    clientes.to_excel(writer, sheet_name='Por Cliente', index=False)\n",
    "\n",
    "    # Hoja 3: Proyecciones\n",
    "    proyecciones = pd.DataFrame({\n",
    "        'Mes': pd.date_range('2024-01', periods=12, freq='M'),\n",
    "        'Ingreso_Proyectado': np.random.randint(280000, 400000, 12),\n",
    "        'Gasto_Proyectado': np.random.randint(200000, 280000, 12)\n",
    "    })\n",
    "    proyecciones['Utilidad_Proyectada'] = (\n",
    "        proyecciones['Ingreso_Proyectado'] - proyecciones['Gasto_Proyectado']\n",
    "    )\n",
    "    proyecciones.to_excel(writer, sheet_name='Proyecciones', index=False)\n",
    "\n",
    "print(\"Reporte ejecutivo creado con 3 hojas\")\n"
   ]
  }
 ],
 "metadata": {
  "kernelspec": {
   "display_name": "Python 3",
   "language": "python",
   "name": "python3"
  },
  "language_info": {
   "codemirror_mode": {
    "name": "ipython",
    "version": 3
   },
   "file_extension": ".py",
   "mimetype": "text/x-python",
   "name": "python",
   "nbconvert_exporter": "python",
   "pygments_lexer": "ipython3",
   "version": "3.12.1"
  }
 },
 "nbformat": 4,
 "nbformat_minor": 5
}
