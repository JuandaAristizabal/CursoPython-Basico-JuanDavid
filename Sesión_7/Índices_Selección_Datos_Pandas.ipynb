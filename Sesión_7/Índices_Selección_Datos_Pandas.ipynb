{
 "cells": [
  {
   "cell_type": "code",
   "execution_count": 2,
   "id": "7bd2a37f",
   "metadata": {},
   "outputs": [],
   "source": [
    "import pandas as pd"
   ]
  },
  {
   "cell_type": "markdown",
   "id": "c97af1b8",
   "metadata": {},
   "source": [
    "SELECCIÓN EN SERIES"
   ]
  },
  {
   "cell_type": "code",
   "execution_count": null,
   "id": "81089cf2",
   "metadata": {},
   "outputs": [
    {
     "name": "stdout",
     "output_type": "stream",
     "text": [
      "Ingresos Q3: 145000\n",
      "Ingresos Q1: 120000\n",
      "\n",
      "Ingresos Q1-Q3:\n",
      "Q1    120000\n",
      "Q2     95000\n",
      "Q3    145000\n",
      "dtype: int64\n"
     ]
    },
    {
     "data": {
      "text/plain": [
       "Q1     True\n",
       "Q2    False\n",
       "Q3     True\n",
       "Q4    False\n",
       "Q5     True\n",
       "dtype: bool"
      ]
     },
     "execution_count": 7,
     "metadata": {},
     "output_type": "execute_result"
    }
   ],
   "source": [
    "# Crear una Series de ejemplo\n",
    "ingresos = pd.Series(\n",
    "    [120000, 95000, 145000, 88000, 156000],\n",
    "    index=['Q1', 'Q2', 'Q3', 'Q4', 'Q5']\n",
    ")\n",
    "\n",
    "# Acceso individual\n",
    "print(\"Ingresos Q3:\", ingresos['Q3'])\n",
    "print(\"Ingresos Q1:\", ingresos.loc['Q1'])\n",
    "\n",
    "# Acceso múltiple\n",
    "print(\"\\nIngresos Q1-Q3:\")\n",
    "print(ingresos[['Q1', 'Q2', 'Q3']])\n",
    "\n",
    "ingresos>100000\n"
   ]
  },
  {
   "cell_type": "code",
   "execution_count": 8,
   "id": "75cfc101",
   "metadata": {},
   "outputs": [
    {
     "name": "stdout",
     "output_type": "stream",
     "text": [
      "Primer trimestre: 120000\n",
      "Últimos tres trimestres:\n",
      "Q3    145000\n",
      "Q4     88000\n",
      "Q5    156000\n",
      "dtype: int64\n",
      "\n",
      "Primeros tres trimestres:\n",
      "Q1    120000\n",
      "Q2     95000\n",
      "Q3    145000\n",
      "dtype: int64\n"
     ]
    }
   ],
   "source": [
    "# Acceso por posición\n",
    "print(\"Primer trimestre:\", ingresos.iloc[0])\n",
    "print(\"Últimos tres trimestres:\")\n",
    "print(ingresos.iloc[-3:])\n",
    "\n",
    "# Rango de posiciones\n",
    "print(\"\\nPrimeros tres trimestres:\")\n",
    "print(ingresos.iloc[0:3])"
   ]
  },
  {
   "cell_type": "code",
   "execution_count": null,
   "id": "285f7527",
   "metadata": {},
   "outputs": [
    {
     "name": "stdout",
     "output_type": "stream",
     "text": [
      "Trimestres con ingresos > 100k:\n",
      "Q1    120000\n",
      "Q3    145000\n",
      "Q5    156000\n",
      "dtype: int64\n",
      "\n",
      "Ingresos entre 90k y 150k:\n",
      "Q1    120000\n",
      "Q2     95000\n",
      "Q3    145000\n",
      "dtype: int64\n"
     ]
    }
   ],
   "source": [
    "# Filtrado Condicional\n",
    "\n",
    "# Filtrar valores superiores a 100,000\n",
    "ingresos_altos = ingresos[ingresos > 100000]\n",
    "print(\"Trimestres con ingresos > 100k:\")\n",
    "print(ingresos_altos)\n",
    "\n",
    "# Múltiples condiciones\n",
    "filtro = (ingresos > 90000) & (ingresos < 150000)\n",
    "print(\"\\nIngresos entre 90k y 150k:\")\n",
    "print(ingresos[filtro])"
   ]
  },
  {
   "cell_type": "markdown",
   "id": "e1166e6f",
   "metadata": {},
   "source": [
    "SELECCIÓN EN DATAFRAMES"
   ]
  },
  {
   "cell_type": "code",
   "execution_count": 10,
   "id": "59e55a08",
   "metadata": {},
   "outputs": [
    {
     "name": "stdout",
     "output_type": "stream",
     "text": [
      "DataFrame de Consultores:\n",
      "            nombre departamento  años_exp  tarifa_hora  horas_mes\n",
      "C001     Ana López   Estrategia         5          150        160\n",
      "C002   Carlos Ruiz           TI         3          120        180\n",
      "C003   María Silva     Finanzas         7          180        150\n",
      "C004   Juan Torres   Estrategia         4          140        170\n",
      "C005  Laura García           TI         6          160        165\n"
     ]
    }
   ],
   "source": [
    "# Preparación de Datos\n",
    "\n",
    "# DataFrame de ejemplo: Datos de consultores\n",
    "consultores = pd.DataFrame({\n",
    "    'nombre': ['Ana López', 'Carlos Ruiz', 'María Silva', 'Juan Torres', 'Laura García'],\n",
    "    'departamento': ['Estrategia', 'TI', 'Finanzas', 'Estrategia', 'TI'],\n",
    "    'años_exp': [5, 3, 7, 4, 6],\n",
    "    'tarifa_hora': [150, 120, 180, 140, 160],\n",
    "    'horas_mes': [160, 180, 150, 170, 165]\n",
    "}, index=['C001', 'C002', 'C003', 'C004', 'C005'])\n",
    "\n",
    "print(\"DataFrame de Consultores:\")\n",
    "print(consultores)"
   ]
  },
  {
   "cell_type": "code",
   "execution_count": 11,
   "id": "d8d3ae07",
   "metadata": {},
   "outputs": [
    {
     "name": "stdout",
     "output_type": "stream",
     "text": [
      "\n",
      "Tarifas por hora:\n",
      "C001    150\n",
      "C002    120\n",
      "C003    180\n",
      "C004    140\n",
      "C005    160\n",
      "Name: tarifa_hora, dtype: int64\n",
      "\n",
      "Información básica:\n",
      "            nombre departamento\n",
      "C001     Ana López   Estrategia\n",
      "C002   Carlos Ruiz           TI\n",
      "C003   María Silva     Finanzas\n",
      "C004   Juan Torres   Estrategia\n",
      "C005  Laura García           TI\n"
     ]
    }
   ],
   "source": [
    "# Selección de columnas\n",
    "\n",
    "# Una columna (retorna Series)\n",
    "tarifas = consultores['tarifa_hora']\n",
    "print(\"\\nTarifas por hora:\")\n",
    "print(tarifas)\n",
    "\n",
    "# Múltiples columnas (retorna DataFrame)\n",
    "info_basica = consultores[['nombre', 'departamento']]\n",
    "print(\"\\nInformación básica:\")\n",
    "print(info_basica)"
   ]
  },
  {
   "cell_type": "code",
   "execution_count": 12,
   "id": "63986100",
   "metadata": {},
   "outputs": [
    {
     "name": "stdout",
     "output_type": "stream",
     "text": [
      "\n",
      "Consultor C003:\n",
      "nombre          María Silva\n",
      "departamento       Finanzas\n",
      "años_exp                  7\n",
      "tarifa_hora             180\n",
      "horas_mes               150\n",
      "Name: C003, dtype: object\n",
      "\n",
      "Consultores C001 y C004:\n",
      "           nombre departamento  años_exp  tarifa_hora  horas_mes\n",
      "C001    Ana López   Estrategia         5          150        160\n",
      "C004  Juan Torres   Estrategia         4          140        170\n",
      "\n",
      "Tarifas de consultores específicos:\n",
      "            nombre  tarifa_hora\n",
      "C001     Ana López          150\n",
      "C003   María Silva          180\n",
      "C005  Laura García          160\n",
      "\n",
      "Rango de consultores:\n",
      "           nombre departamento  años_exp\n",
      "C002  Carlos Ruiz           TI         3\n",
      "C003  María Silva     Finanzas         7\n",
      "C004  Juan Torres   Estrategia         4\n"
     ]
    }
   ],
   "source": [
    "# Selección con loc (por etiquetas)\n",
    "\n",
    "# Una fila específica\n",
    "print(\"\\nConsultor C003:\")\n",
    "print(consultores.loc['C003'])\n",
    "\n",
    "# Múltiples filas\n",
    "print(\"\\nConsultores C001 y C004:\")\n",
    "print(consultores.loc[['C001', 'C004']])\n",
    "\n",
    "# Filas y columnas específicas\n",
    "print(\"\\nTarifas de consultores específicos:\")\n",
    "print(consultores.loc[['C001', 'C003', 'C005'], ['nombre', 'tarifa_hora']])\n",
    "\n",
    "# Rango de filas, columnas específicas\n",
    "print(\"\\nRango de consultores:\")\n",
    "print(consultores.loc['C002':'C004', ['nombre', 'departamento', 'años_exp']])\n",
    "\n"
   ]
  },
  {
   "cell_type": "code",
   "execution_count": 13,
   "id": "23c35cd5",
   "metadata": {},
   "outputs": [
    {
     "name": "stdout",
     "output_type": "stream",
     "text": [
      "\n",
      "Primer consultor:\n",
      "nombre           Ana López\n",
      "departamento    Estrategia\n",
      "años_exp                 5\n",
      "tarifa_hora            150\n",
      "horas_mes              160\n",
      "Name: C001, dtype: object\n",
      "\n",
      "Subconjunto por posición:\n",
      "           nombre departamento\n",
      "C001    Ana López   Estrategia\n",
      "C002  Carlos Ruiz           TI\n",
      "C003  María Silva     Finanzas\n",
      "\n",
      "Filas 1 y 3:\n",
      "           nombre departamento  años_exp  tarifa_hora  horas_mes\n",
      "C001    Ana López   Estrategia         5          150        160\n",
      "C003  María Silva     Finanzas         7          180        150\n",
      "\n",
      "Último consultor (info parcial):\n",
      "nombre          Laura García\n",
      "departamento              TI\n",
      "tarifa_hora              160\n",
      "Name: C005, dtype: object\n"
     ]
    }
   ],
   "source": [
    "# Selección con iloc (por posición)\n",
    "\n",
    "# Primera fila\n",
    "print(\"\\nPrimer consultor:\")\n",
    "print(consultores.iloc[0])\n",
    "\n",
    "# Primeras 3 filas, primeras 2 columnas\n",
    "print(\"\\nSubconjunto por posición:\")\n",
    "print(consultores.iloc[0:3, 0:2])\n",
    "\n",
    "# Filas específicas, todas las columnas\n",
    "print(\"\\nFilas 1 y 3:\")\n",
    "print(consultores.iloc[[0, 2]])\n",
    "\n",
    "# Última fila, columnas específicas\n",
    "print(\"\\nÚltimo consultor (info parcial):\")\n",
    "print(consultores.iloc[-1, [0, 1, 3]])"
   ]
  },
  {
   "cell_type": "markdown",
   "id": "4a046cc6",
   "metadata": {},
   "source": [
    "FILTRADO AVANZADO"
   ]
  },
  {
   "cell_type": "code",
   "execution_count": 14,
   "id": "ca3736ae",
   "metadata": {},
   "outputs": [
    {
     "name": "stdout",
     "output_type": "stream",
     "text": [
      "Consultores senior (>4 años):\n",
      "            nombre departamento  años_exp  tarifa_hora  horas_mes\n",
      "C001     Ana López   Estrategia         5          150        160\n",
      "C003   María Silva     Finanzas         7          180        150\n",
      "C005  Laura García           TI         6          160        165\n",
      "\n",
      "Equipo de TI:\n",
      "            nombre departamento  años_exp  tarifa_hora  horas_mes\n",
      "C002   Carlos Ruiz           TI         3          120        180\n",
      "C005  Laura García           TI         6          160        165\n"
     ]
    }
   ],
   "source": [
    "# Condiciones Simples\n",
    "\n",
    "# Consultores con más de 4 años de experiencia\n",
    "seniors = consultores[consultores['años_exp'] > 4]\n",
    "print(\"Consultores senior (>4 años):\")\n",
    "print(seniors)\n",
    "\n",
    "# Consultores del departamento de TI\n",
    "ti_team = consultores[consultores['departamento'] == 'TI']\n",
    "print(\"\\nEquipo de TI:\")\n",
    "print(ti_team)\n"
   ]
  },
  {
   "cell_type": "code",
   "execution_count": 17,
   "id": "2fe024d4",
   "metadata": {},
   "outputs": [
    {
     "name": "stdout",
     "output_type": "stream",
     "text": [
      "Consultores senior de TI:\n",
      "            nombre departamento  años_exp  tarifa_hora  horas_mes\n",
      "C005  Laura García           TI         6          160        165\n",
      "\n",
      "Consultores de alto valor:\n",
      "            nombre departamento  años_exp  tarifa_hora  horas_mes\n",
      "C002   Carlos Ruiz           TI         3          120        180\n",
      "C003   María Silva     Finanzas         7          180        150\n",
      "C005  Laura García           TI         6          160        165\n",
      "\n",
      "Filtro complejo:\n",
      "            nombre departamento  años_exp  tarifa_hora  horas_mes\n",
      "C001     Ana López   Estrategia         5          150        160\n",
      "C004   Juan Torres   Estrategia         4          140        170\n",
      "C005  Laura García           TI         6          160        165\n"
     ]
    }
   ],
   "source": [
    "# Condiciones Múltiples\n",
    "\n",
    "# AND: Consultores senior de TI\n",
    "senior_ti = consultores[\n",
    "    (consultores['años_exp'] > 4) & \n",
    "    (consultores['departamento'] == 'TI')\n",
    "]\n",
    "print(\"Consultores senior de TI:\")\n",
    "print(senior_ti)\n",
    "\n",
    "# OR: Alta tarifa o muchas horas\n",
    "alto_valor = consultores[\n",
    "    (consultores['tarifa_hora'] > 150) | \n",
    "    (consultores['horas_mes'] > 170)\n",
    "]\n",
    "print(\"\\nConsultores de alto valor:\")\n",
    "print(alto_valor)\n",
    "\n",
    "# Combinación compleja\n",
    "filtro_complejo = consultores[\n",
    "    ((consultores['departamento'] == 'Estrategia') & (consultores['años_exp'] >= 4)) |\n",
    "    ((consultores['departamento'] == 'TI') & (consultores['tarifa_hora'] > 150))\n",
    "]\n",
    "print(\"\\nFiltro complejo:\")\n",
    "print(filtro_complejo)"
   ]
  },
  {
   "cell_type": "code",
   "execution_count": 18,
   "id": "ed47c94c",
   "metadata": {},
   "outputs": [
    {
     "name": "stdout",
     "output_type": "stream",
     "text": [
      "Usando query():\n",
      "            nombre departamento  años_exp  tarifa_hora  horas_mes\n",
      "C001     Ana López   Estrategia         5          150        160\n",
      "C003   María Silva     Finanzas         7          180        150\n",
      "C005  Laura García           TI         6          160        165\n",
      "\n",
      "Query con variables:\n",
      "            nombre departamento  años_exp  tarifa_hora  horas_mes\n",
      "C001     Ana López   Estrategia         5          150        160\n",
      "C003   María Silva     Finanzas         7          180        150\n",
      "C005  Laura García           TI         6          160        165\n"
     ]
    }
   ],
   "source": [
    "# Método query()\n",
    "\n",
    "# Sintaxis más legible para filtros complejos\n",
    "resultado = consultores.query('años_exp > 4 and tarifa_hora > 140')\n",
    "print(\"Usando query():\")\n",
    "print(resultado)\n",
    "\n",
    "# Con variables\n",
    "tarifa_min = 150\n",
    "exp_min = 5\n",
    "resultado2 = consultores.query('tarifa_hora >= @tarifa_min or años_exp >= @exp_min')\n",
    "print(\"\\nQuery con variables:\")\n",
    "print(resultado2)"
   ]
  },
  {
   "cell_type": "code",
   "execution_count": 19,
   "id": "8b76233e",
   "metadata": {},
   "outputs": [
    {
     "name": "stdout",
     "output_type": "stream",
     "text": [
      "Consultores de Estrategia y Finanzas:\n",
      "           nombre departamento  años_exp  tarifa_hora  horas_mes\n",
      "C001    Ana López   Estrategia         5          150        160\n",
      "C003  María Silva     Finanzas         7          180        150\n",
      "C004  Juan Torres   Estrategia         4          140        170\n"
     ]
    }
   ],
   "source": [
    "# Filtrado con isin() - Pertenece a un conjunto\n",
    "\n",
    "# Seleccionar departamentos específicos\n",
    "departamentos_objetivo = ['Estrategia', 'Finanzas']\n",
    "filtro_dept = consultores[consultores['departamento'].isin(departamentos_objetivo)]\n",
    "print(\"Consultores de Estrategia y Finanzas:\")\n",
    "print(filtro_dept)\n"
   ]
  },
  {
   "cell_type": "markdown",
   "id": "a6be4039",
   "metadata": {},
   "source": [
    "MODIFICACIÓN DE DATOS"
   ]
  },
  {
   "cell_type": "code",
   "execution_count": 21,
   "id": "ac6ed44d",
   "metadata": {},
   "outputs": [
    {
     "data": {
      "text/html": [
       "<div>\n",
       "<style scoped>\n",
       "    .dataframe tbody tr th:only-of-type {\n",
       "        vertical-align: middle;\n",
       "    }\n",
       "\n",
       "    .dataframe tbody tr th {\n",
       "        vertical-align: top;\n",
       "    }\n",
       "\n",
       "    .dataframe thead th {\n",
       "        text-align: right;\n",
       "    }\n",
       "</style>\n",
       "<table border=\"1\" class=\"dataframe\">\n",
       "  <thead>\n",
       "    <tr style=\"text-align: right;\">\n",
       "      <th></th>\n",
       "      <th>nombre</th>\n",
       "      <th>departamento</th>\n",
       "      <th>años_exp</th>\n",
       "      <th>tarifa_hora</th>\n",
       "      <th>horas_mes</th>\n",
       "    </tr>\n",
       "  </thead>\n",
       "  <tbody>\n",
       "    <tr>\n",
       "      <th>C001</th>\n",
       "      <td>Ana López</td>\n",
       "      <td>Estrategia</td>\n",
       "      <td>5</td>\n",
       "      <td>150</td>\n",
       "      <td>160</td>\n",
       "    </tr>\n",
       "    <tr>\n",
       "      <th>C002</th>\n",
       "      <td>Carlos Ruiz</td>\n",
       "      <td>TI</td>\n",
       "      <td>3</td>\n",
       "      <td>120</td>\n",
       "      <td>180</td>\n",
       "    </tr>\n",
       "    <tr>\n",
       "      <th>C003</th>\n",
       "      <td>María Silva</td>\n",
       "      <td>Finanzas</td>\n",
       "      <td>7</td>\n",
       "      <td>180</td>\n",
       "      <td>150</td>\n",
       "    </tr>\n",
       "    <tr>\n",
       "      <th>C004</th>\n",
       "      <td>Juan Torres</td>\n",
       "      <td>Estrategia</td>\n",
       "      <td>4</td>\n",
       "      <td>140</td>\n",
       "      <td>170</td>\n",
       "    </tr>\n",
       "    <tr>\n",
       "      <th>C005</th>\n",
       "      <td>Laura García</td>\n",
       "      <td>TI</td>\n",
       "      <td>6</td>\n",
       "      <td>160</td>\n",
       "      <td>165</td>\n",
       "    </tr>\n",
       "  </tbody>\n",
       "</table>\n",
       "</div>"
      ],
      "text/plain": [
       "            nombre departamento  años_exp  tarifa_hora  horas_mes\n",
       "C001     Ana López   Estrategia         5          150        160\n",
       "C002   Carlos Ruiz           TI         3          120        180\n",
       "C003   María Silva     Finanzas         7          180        150\n",
       "C004   Juan Torres   Estrategia         4          140        170\n",
       "C005  Laura García           TI         6          160        165"
      ]
     },
     "execution_count": 21,
     "metadata": {},
     "output_type": "execute_result"
    }
   ],
   "source": [
    "consultores"
   ]
  },
  {
   "cell_type": "code",
   "execution_count": 20,
   "id": "59a038d3",
   "metadata": {},
   "outputs": [
    {
     "name": "stdout",
     "output_type": "stream",
     "text": [
      "Tarifa actualizada para C001:\n",
      "nombre           Ana López\n",
      "departamento    Estrategia\n",
      "años_exp                 5\n",
      "tarifa_hora            160\n",
      "horas_mes              160\n",
      "Name: C001, dtype: object\n",
      "\n",
      "Tarifas de TI incrementadas:\n",
      "            nombre departamento  años_exp  tarifa_hora  horas_mes\n",
      "C002   Carlos Ruiz           TI         3          130        180\n",
      "C005  Laura García           TI         6          170        165\n"
     ]
    }
   ],
   "source": [
    "# Actualización de Valores\n",
    "\n",
    "# Copiar DataFrame para no modificar el original\n",
    "df_actualizado = consultores.copy()\n",
    "\n",
    "# Actualizar un valor específico\n",
    "df_actualizado.loc['C001', 'tarifa_hora'] = 160\n",
    "print(\"Tarifa actualizada para C001:\")\n",
    "print(df_actualizado.loc['C001'])\n",
    "\n",
    "# Actualizar múltiples valores\n",
    "df_actualizado.loc[df_actualizado['departamento'] == 'TI', 'tarifa_hora'] += 10\n",
    "print(\"\\nTarifas de TI incrementadas:\")\n",
    "print(df_actualizado[df_actualizado['departamento'] == 'TI'])"
   ]
  },
  {
   "cell_type": "code",
   "execution_count": 22,
   "id": "58dfb5a6",
   "metadata": {},
   "outputs": [
    {
     "data": {
      "text/html": [
       "<div>\n",
       "<style scoped>\n",
       "    .dataframe tbody tr th:only-of-type {\n",
       "        vertical-align: middle;\n",
       "    }\n",
       "\n",
       "    .dataframe tbody tr th {\n",
       "        vertical-align: top;\n",
       "    }\n",
       "\n",
       "    .dataframe thead th {\n",
       "        text-align: right;\n",
       "    }\n",
       "</style>\n",
       "<table border=\"1\" class=\"dataframe\">\n",
       "  <thead>\n",
       "    <tr style=\"text-align: right;\">\n",
       "      <th></th>\n",
       "      <th>nombre</th>\n",
       "      <th>departamento</th>\n",
       "      <th>años_exp</th>\n",
       "      <th>tarifa_hora</th>\n",
       "      <th>horas_mes</th>\n",
       "    </tr>\n",
       "  </thead>\n",
       "  <tbody>\n",
       "    <tr>\n",
       "      <th>C001</th>\n",
       "      <td>Ana López</td>\n",
       "      <td>Estrategia</td>\n",
       "      <td>5</td>\n",
       "      <td>160</td>\n",
       "      <td>160</td>\n",
       "    </tr>\n",
       "    <tr>\n",
       "      <th>C002</th>\n",
       "      <td>Carlos Ruiz</td>\n",
       "      <td>TI</td>\n",
       "      <td>3</td>\n",
       "      <td>130</td>\n",
       "      <td>180</td>\n",
       "    </tr>\n",
       "    <tr>\n",
       "      <th>C003</th>\n",
       "      <td>María Silva</td>\n",
       "      <td>Finanzas</td>\n",
       "      <td>7</td>\n",
       "      <td>180</td>\n",
       "      <td>150</td>\n",
       "    </tr>\n",
       "    <tr>\n",
       "      <th>C004</th>\n",
       "      <td>Juan Torres</td>\n",
       "      <td>Estrategia</td>\n",
       "      <td>4</td>\n",
       "      <td>140</td>\n",
       "      <td>170</td>\n",
       "    </tr>\n",
       "    <tr>\n",
       "      <th>C005</th>\n",
       "      <td>Laura García</td>\n",
       "      <td>TI</td>\n",
       "      <td>6</td>\n",
       "      <td>170</td>\n",
       "      <td>165</td>\n",
       "    </tr>\n",
       "  </tbody>\n",
       "</table>\n",
       "</div>"
      ],
      "text/plain": [
       "            nombre departamento  años_exp  tarifa_hora  horas_mes\n",
       "C001     Ana López   Estrategia         5          160        160\n",
       "C002   Carlos Ruiz           TI         3          130        180\n",
       "C003   María Silva     Finanzas         7          180        150\n",
       "C004   Juan Torres   Estrategia         4          140        170\n",
       "C005  Laura García           TI         6          170        165"
      ]
     },
     "execution_count": 22,
     "metadata": {},
     "output_type": "execute_result"
    }
   ],
   "source": [
    "df_actualizado"
   ]
  },
  {
   "cell_type": "code",
   "execution_count": 23,
   "id": "fbbd6049",
   "metadata": {},
   "outputs": [
    {
     "name": "stdout",
     "output_type": "stream",
     "text": [
      "Consultores con niveles:\n",
      "            nombre  años_exp   nivel\n",
      "C001     Ana López         5     Mid\n",
      "C002   Carlos Ruiz         3  Junior\n",
      "C003   María Silva         7  Senior\n",
      "C004   Juan Torres         4     Mid\n",
      "C005  Laura García         6  Senior\n",
      "\n",
      "Ingresos mensuales:\n",
      "            nombre  tarifa_hora  horas_mes  ingreso_mensual\n",
      "C001     Ana López          150        160            24000\n",
      "C002   Carlos Ruiz          120        180            21600\n",
      "C003   María Silva          180        150            27000\n",
      "C004   Juan Torres          140        170            23800\n",
      "C005  Laura García          160        165            26400\n"
     ]
    }
   ],
   "source": [
    "# Creación de Columnas Basadas en Condiciones\n",
    "\n",
    "# Categorizar consultores por experiencia\n",
    "consultores['nivel'] = 'Junior'\n",
    "consultores.loc[consultores['años_exp'] > 3, 'nivel'] = 'Mid'\n",
    "consultores.loc[consultores['años_exp'] > 5, 'nivel'] = 'Senior'\n",
    "\n",
    "print(\"Consultores con niveles:\")\n",
    "print(consultores[['nombre', 'años_exp', 'nivel']])\n",
    "\n",
    "# Cálculo de ingresos mensuales\n",
    "consultores['ingreso_mensual'] = consultores['tarifa_hora'] * consultores['horas_mes']\n",
    "print(\"\\nIngresos mensuales:\")\n",
    "print(consultores[['nombre', 'tarifa_hora', 'horas_mes', 'ingreso_mensual']])\n"
   ]
  },
  {
   "cell_type": "markdown",
   "id": "eea5dbc0",
   "metadata": {},
   "source": [
    "Casos de Uso Prácticos: Análisis de Rentabilidad"
   ]
  },
  {
   "cell_type": "code",
   "execution_count": 24,
   "id": "2f52c16d",
   "metadata": {},
   "outputs": [
    {
     "name": "stdout",
     "output_type": "stream",
     "text": [
      "Top 3 consultores por rentabilidad:\n",
      "            nombre departamento  score_rentabilidad\n",
      "C003   María Silva     Finanzas                27.0\n",
      "C005  Laura García           TI                26.4\n",
      "C001     Ana López   Estrategia                24.0\n"
     ]
    }
   ],
   "source": [
    "# Identificar consultores más rentables\n",
    "# (alta tarifa y muchas horas)\n",
    "consultores['score_rentabilidad'] = (\n",
    "    consultores['tarifa_hora'] * consultores['horas_mes'] / 1000\n",
    ")\n",
    "\n",
    "top_performers = consultores.nlargest(3, 'score_rentabilidad')\n",
    "print(\"Top 3 consultores por rentabilidad:\")\n",
    "print(top_performers[['nombre', 'departamento', 'score_rentabilidad']])"
   ]
  },
  {
   "cell_type": "markdown",
   "id": "603dc2dc",
   "metadata": {},
   "source": [
    "Casos de Uso Prácticos: Segmentación de Equipos"
   ]
  },
  {
   "cell_type": "code",
   "execution_count": 25,
   "id": "17829e8b",
   "metadata": {},
   "outputs": [
    {
     "name": "stdout",
     "output_type": "stream",
     "text": [
      "\n",
      "Estrategia:\n",
      "  Consultores: 2\n",
      "  Tarifa promedio: $145.00\n",
      "  Experiencia promedio: 4.5 años\n",
      "\n",
      "TI:\n",
      "  Consultores: 2\n",
      "  Tarifa promedio: $140.00\n",
      "  Experiencia promedio: 4.5 años\n",
      "\n",
      "Finanzas:\n",
      "  Consultores: 1\n",
      "  Tarifa promedio: $180.00\n",
      "  Experiencia promedio: 7.0 años\n"
     ]
    }
   ],
   "source": [
    "# Agrupar por departamento y mostrar estadísticas\n",
    "for dept in consultores['departamento'].unique():\n",
    "    equipo = consultores[consultores['departamento'] == dept]\n",
    "    print(f\"\\n{dept}:\")\n",
    "    print(f\"  Consultores: {len(equipo)}\")\n",
    "    print(f\"  Tarifa promedio: ${equipo['tarifa_hora'].mean():.2f}\")\n",
    "    print(f\"  Experiencia promedio: {equipo['años_exp'].mean():.1f} años\")"
   ]
  },
  {
   "cell_type": "markdown",
   "id": "8b2ab53f",
   "metadata": {},
   "source": [
    "Ejercicio Integrador"
   ]
  },
  {
   "cell_type": "code",
   "execution_count": 26,
   "id": "d57c880b",
   "metadata": {},
   "outputs": [
    {
     "name": "stdout",
     "output_type": "stream",
     "text": [
      "Proyectos activos:\n",
      "  codigo    cliente consultor_lead  presupuesto  estado\n",
      "0   P001  Tech Corp           C001        75000  Activo\n",
      "2   P003  Retail SA           C002        45000  Activo\n",
      "3   P004  Tech Corp           C004        95000  Activo\n",
      "\n",
      "Proyectos Tech Corp > 80k:\n",
      "  codigo    cliente consultor_lead  presupuesto  estado\n",
      "3   P004  Tech Corp           C004        95000  Activo\n",
      "\n",
      "Consultores lead de proyectos activos:\n",
      "  codigo consultor_lead  presupuesto\n",
      "0   P001           C001        75000\n",
      "2   P003           C002        45000\n",
      "3   P004           C004        95000\n"
     ]
    }
   ],
   "source": [
    "# Dataset de proyectos\n",
    "proyectos = pd.DataFrame({\n",
    "    'codigo': ['P001', 'P002', 'P003', 'P004', 'P005'],\n",
    "    'cliente': ['Tech Corp', 'Finance Ltd', 'Retail SA', 'Tech Corp', 'Energy Co'],\n",
    "    'consultor_lead': ['C001', 'C003', 'C002', 'C004', 'C005'],\n",
    "    'presupuesto': [75000, 120000, 45000, 95000, 150000],\n",
    "    'estado': ['Activo', 'Completado', 'Activo', 'Activo', 'Planificado']\n",
    "})\n",
    "\n",
    "# 1. Proyectos activos\n",
    "activos = proyectos[proyectos['estado'] == 'Activo']\n",
    "print(\"Proyectos activos:\")\n",
    "print(activos)\n",
    "\n",
    "# 2. Proyectos de alto valor (>80k) de Tech Corp\n",
    "tech_alto_valor = proyectos[\n",
    "    (proyectos['cliente'] == 'Tech Corp') & \n",
    "    (proyectos['presupuesto'] > 80000)\n",
    "]\n",
    "print(\"\\nProyectos Tech Corp > 80k:\")\n",
    "print(tech_alto_valor)\n",
    "\n",
    "# 3. Información del consultor lead para proyectos activos\n",
    "info_leads = proyectos.loc[\n",
    "    proyectos['estado'] == 'Activo',\n",
    "    ['codigo', 'consultor_lead', 'presupuesto']\n",
    "]\n",
    "print(\"\\nConsultores lead de proyectos activos:\")\n",
    "print(info_leads)"
   ]
  }
 ],
 "metadata": {
  "kernelspec": {
   "display_name": "Python 3",
   "language": "python",
   "name": "python3"
  },
  "language_info": {
   "codemirror_mode": {
    "name": "ipython",
    "version": 3
   },
   "file_extension": ".py",
   "mimetype": "text/x-python",
   "name": "python",
   "nbconvert_exporter": "python",
   "pygments_lexer": "ipython3",
   "version": "3.12.1"
  }
 },
 "nbformat": 4,
 "nbformat_minor": 5
}
