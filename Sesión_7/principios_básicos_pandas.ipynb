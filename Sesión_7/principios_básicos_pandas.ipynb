{
 "cells": [
  {
   "cell_type": "code",
   "execution_count": 1,
   "id": "6be0fa91",
   "metadata": {},
   "outputs": [
    {
     "name": "stdout",
     "output_type": "stream",
     "text": [
      "Versión de Pandas: 2.2.3\n",
      "Versión de NumPy: 2.2.4\n"
     ]
    }
   ],
   "source": [
    "import pandas as pd\n",
    "import numpy as np\n",
    "\n",
    "print(f\"Versión de Pandas: {pd.__version__}\")\n",
    "print(f\"Versión de NumPy: {np.__version__}\")"
   ]
  },
  {
   "cell_type": "markdown",
   "id": "67f0d3b7",
   "metadata": {},
   "source": [
    "CREACIÓN DE SERIES"
   ]
  },
  {
   "cell_type": "code",
   "execution_count": 2,
   "id": "19d3aa6a",
   "metadata": {},
   "outputs": [
    {
     "name": "stdout",
     "output_type": "stream",
     "text": [
      "0    1000\n",
      "1    1500\n",
      "2    1200\n",
      "3    1800\n",
      "4    2000\n",
      "dtype: int64\n"
     ]
    }
   ],
   "source": [
    "# Series básica\n",
    "ventas = pd.Series([1000, 1500, 1200, 1800, 2000])\n",
    "print(ventas)"
   ]
  },
  {
   "cell_type": "code",
   "execution_count": 3,
   "id": "200e39f9",
   "metadata": {},
   "outputs": [
    {
     "name": "stdout",
     "output_type": "stream",
     "text": [
      "Enero      1000\n",
      "Febrero    1500\n",
      "Marzo      1200\n",
      "Abril      1800\n",
      "Mayo       2000\n",
      "dtype: int64\n"
     ]
    }
   ],
   "source": [
    "# Series con índice personalizado\n",
    "meses = ['Enero', 'Febrero', 'Marzo', 'Abril', 'Mayo']\n",
    "ventas_mensuales = pd.Series([1000, 1500, 1200, 1800, 2000], index=meses)\n",
    "print(ventas_mensuales)"
   ]
  },
  {
   "cell_type": "code",
   "execution_count": 4,
   "id": "141fd6d5",
   "metadata": {},
   "outputs": [
    {
     "name": "stdout",
     "output_type": "stream",
     "text": [
      "Producto A    4.5\n",
      "Producto B    4.2\n",
      "Producto C    4.8\n",
      "Producto D    3.9\n",
      "dtype: float64\n"
     ]
    }
   ],
   "source": [
    "# Datos un dicccionario\n",
    "satisfaccion = pd.Series({\n",
    "    'Producto A': 4.5,\n",
    "    'Producto B': 4.2,\n",
    "    'Producto C': 4.8,\n",
    "    'Producto D': 3.9\n",
    "})\n",
    "print(satisfaccion)"
   ]
  },
  {
   "cell_type": "code",
   "execution_count": 5,
   "id": "c0ce2ddf",
   "metadata": {},
   "outputs": [
    {
     "name": "stdout",
     "output_type": "stream",
     "text": [
      "Valores: [1000 1500 1200 1800 2000]\n",
      "Índice: Index(['Enero', 'Febrero', 'Marzo', 'Abril', 'Mayo'], dtype='object')\n",
      "Tipo de datos: int64\n",
      "Tamaño: 5\n",
      "Forma: (5,)\n"
     ]
    }
   ],
   "source": [
    "# Atributos básicos de una Serie\n",
    "print(f\"Valores: {ventas_mensuales.values}\")\n",
    "print(f\"Índice: {ventas_mensuales.index}\")\n",
    "print(f\"Tipo de datos: {ventas_mensuales.dtype}\")\n",
    "print(f\"Tamaño: {ventas_mensuales.size}\")\n",
    "print(f\"Forma: {ventas_mensuales.shape}\")"
   ]
  },
  {
   "cell_type": "markdown",
   "id": "ec1762b7",
   "metadata": {},
   "source": [
    "CREACIÓN DE DATAFRAMES"
   ]
  },
  {
   "cell_type": "code",
   "execution_count": 6,
   "id": "4e0aa0af",
   "metadata": {},
   "outputs": [
    {
     "name": "stdout",
     "output_type": "stream",
     "text": [
      "     cliente  presupuesto  duracion_dias  satisfaccion\n",
      "0  Empresa A        50000             30           4.5\n",
      "1  Empresa B        75000             45           4.2\n",
      "2  Empresa C        30000             20           4.8\n",
      "3  Empresa D        90000             60           4.0\n"
     ]
    }
   ],
   "source": [
    "# Diccionario de datos\n",
    "proyectos = pd.DataFrame({\n",
    "    'cliente': ['Empresa A', 'Empresa B', 'Empresa C', 'Empresa D'],\n",
    "    'presupuesto': [50000, 75000, 30000, 90000],\n",
    "    'duracion_dias': [30, 45, 20, 60],\n",
    "    'satisfaccion': [4.5, 4.2, 4.8, 4.0]\n",
    "})\n",
    "\n",
    "print(proyectos)"
   ]
  },
  {
   "cell_type": "code",
   "execution_count": 7,
   "id": "c027a755",
   "metadata": {},
   "outputs": [
    {
     "name": "stdout",
     "output_type": "stream",
     "text": [
      "            nombre departamento  salario  años_experiencia\n",
      "E001    Ana García  Consultoría    45000                 3\n",
      "E002  Carlos López     Análisis    50000                 5\n",
      "E003  María Torres  Consultoría    48000                 4\n",
      "E004    Juan Pérez   Desarrollo    55000                 6\n"
     ]
    }
   ],
   "source": [
    "# DataFrame con índice personalizado\n",
    "df_empleados = pd.DataFrame({\n",
    "    'nombre': ['Ana García', 'Carlos López', 'María Torres', 'Juan Pérez'],\n",
    "    'departamento': ['Consultoría', 'Análisis', 'Consultoría', 'Desarrollo'],\n",
    "    'salario': [45000, 50000, 48000, 55000],\n",
    "    'años_experiencia': [3, 5, 4, 6]\n",
    "}, index=['E001', 'E002', 'E003', 'E004'])\n",
    "\n",
    "print(df_empleados)"
   ]
  },
  {
   "cell_type": "code",
   "execution_count": 8,
   "id": "8a794015",
   "metadata": {},
   "outputs": [
    {
     "name": "stdout",
     "output_type": "stream",
     "text": [
      "  trimestre region  ventas\n",
      "0        Q1  Norte  120000\n",
      "1        Q1    Sur   95000\n",
      "2        Q2  Norte  135000\n",
      "3        Q2    Sur  105000\n"
     ]
    }
   ],
   "source": [
    "# Lista de diccionarios\n",
    "ventas_data = [\n",
    "    {'trimestre': 'Q1', 'region': 'Norte', 'ventas': 120000},\n",
    "    {'trimestre': 'Q1', 'region': 'Sur', 'ventas': 95000},\n",
    "    {'trimestre': 'Q2', 'region': 'Norte', 'ventas': 135000},\n",
    "    {'trimestre': 'Q2', 'region': 'Sur', 'ventas': 105000}\n",
    "]\n",
    "\n",
    "df_ventas = pd.DataFrame(ventas_data)\n",
    "print(df_ventas)"
   ]
  },
  {
   "cell_type": "code",
   "execution_count": 9,
   "id": "6636976f",
   "metadata": {},
   "outputs": [
    {
     "name": "stdout",
     "output_type": "stream",
     "text": [
      "Forma: (4, 4)\n",
      "Columnas: ['cliente', 'presupuesto', 'duracion_dias', 'satisfaccion']\n",
      "Índice: RangeIndex(start=0, stop=4, step=1)\n",
      "\n",
      "Tipos de datos:\n",
      "cliente           object\n",
      "presupuesto        int64\n",
      "duracion_dias      int64\n",
      "satisfaccion     float64\n",
      "dtype: object\n",
      "\n",
      "Información general:\n",
      "<class 'pandas.core.frame.DataFrame'>\n",
      "RangeIndex: 4 entries, 0 to 3\n",
      "Data columns (total 4 columns):\n",
      " #   Column         Non-Null Count  Dtype  \n",
      "---  ------         --------------  -----  \n",
      " 0   cliente        4 non-null      object \n",
      " 1   presupuesto    4 non-null      int64  \n",
      " 2   duracion_dias  4 non-null      int64  \n",
      " 3   satisfaccion   4 non-null      float64\n",
      "dtypes: float64(1), int64(2), object(1)\n",
      "memory usage: 260.0+ bytes\n",
      "None\n"
     ]
    }
   ],
   "source": [
    "# Atributos básicos de un DataFrame\n",
    "print(f\"Forma: {proyectos.shape}\")\n",
    "print(f\"Columnas: {proyectos.columns.tolist()}\")\n",
    "print(f\"Índice: {proyectos.index}\")\n",
    "print(f\"\\nTipos de datos:\")\n",
    "print(proyectos.dtypes)\n",
    "print(f\"\\nInformación general:\")\n",
    "print(proyectos.info())"
   ]
  },
  {
   "cell_type": "markdown",
   "id": "bce1aa62",
   "metadata": {},
   "source": [
    "OPERACIONES BÁSICAS EN SERIES"
   ]
  },
  {
   "cell_type": "code",
   "execution_count": 10,
   "id": "42031c90",
   "metadata": {},
   "outputs": [
    {
     "name": "stdout",
     "output_type": "stream",
     "text": [
      "Ventas en USD:\n",
      "Enero      1100.0\n",
      "Febrero    1650.0\n",
      "Marzo      1320.0\n",
      "Abril      1980.0\n",
      "Mayo       2200.0\n",
      "dtype: float64\n",
      "\n",
      "Promedio: $1,500.00\n",
      "Total: $7,500.00\n",
      "Máximo: $2,000.00\n"
     ]
    }
   ],
   "source": [
    "# Operaciones aritméticas\n",
    "ventas_mensuales_usd = ventas_mensuales * 1.1  # Conversión de moneda\n",
    "print(\"Ventas en USD:\")\n",
    "print(ventas_mensuales_usd)\n",
    "\n",
    "# Operaciones estadísticas\n",
    "print(f\"\\nPromedio: ${ventas_mensuales.mean():,.2f}\")\n",
    "print(f\"Total: ${ventas_mensuales.sum():,.2f}\")\n",
    "print(f\"Máximo: ${ventas_mensuales.max():,.2f}\")"
   ]
  },
  {
   "cell_type": "markdown",
   "id": "f84a33fe",
   "metadata": {},
   "source": [
    "OPERACIONES EN DATAFRAMES"
   ]
  },
  {
   "cell_type": "code",
   "execution_count": 11,
   "id": "738dd2c9",
   "metadata": {},
   "outputs": [
    {
     "name": "stdout",
     "output_type": "stream",
     "text": [
      "Presupuestos:\n",
      "0    50000\n",
      "1    75000\n",
      "2    30000\n",
      "3    90000\n",
      "Name: presupuesto, dtype: int64\n",
      "\n",
      "DataFrame actualizado:\n",
      "     cliente  presupuesto  duracion_dias  satisfaccion  costo_diario\n",
      "0  Empresa A        50000             30           4.5   1666.666667\n",
      "1  Empresa B        75000             45           4.2   1666.666667\n",
      "2  Empresa C        30000             20           4.8   1500.000000\n",
      "3  Empresa D        90000             60           4.0   1500.000000\n",
      "\n",
      "Presupuesto promedio: $61,250.00\n",
      "Duración promedio: 38.8 días\n"
     ]
    }
   ],
   "source": [
    "# Acceso a columnas (devuelve una Series)\n",
    "presupuestos = proyectos['presupuesto']\n",
    "print(\"Presupuestos:\")\n",
    "print(presupuestos)\n",
    "\n",
    "# Crear nueva columna\n",
    "proyectos['costo_diario'] = proyectos['presupuesto'] / proyectos['duracion_dias']\n",
    "print(\"\\nDataFrame actualizado:\")\n",
    "print(proyectos)\n",
    "\n",
    "# Operaciones por columna\n",
    "print(f\"\\nPresupuesto promedio: ${proyectos['presupuesto'].mean():,.2f}\")\n",
    "print(f\"Duración promedio: {proyectos['duracion_dias'].mean():.1f} días\")"
   ]
  },
  {
   "cell_type": "markdown",
   "id": "bc8bbcb7",
   "metadata": {},
   "source": [
    "Caso: Análisis de Portafolio de Clientes"
   ]
  },
  {
   "cell_type": "code",
   "execution_count": 12,
   "id": "cf406bf7",
   "metadata": {},
   "outputs": [
    {
     "name": "stdout",
     "output_type": "stream",
     "text": [
      "Portfolio de Clientes:\n",
      "       empresa      sector  facturacion_anual  proyectos_activos  \\\n",
      "0    Tech Corp  Tecnología             250000                  3   \n",
      "1  Finance Ltd    Finanzas             180000                  2   \n",
      "2    Retail SA      Retail             320000                  5   \n",
      "3    Energy Co     Energía             290000                  4   \n",
      "4   Health Inc       Salud             195000                  2   \n",
      "\n",
      "   años_relacion  \n",
      "0              2  \n",
      "1              5  \n",
      "2              1  \n",
      "3              3  \n",
      "4              4  \n"
     ]
    }
   ],
   "source": [
    "# Crear un DataFrame con datos de clientes\n",
    "clientes = pd.DataFrame({\n",
    "    'empresa': ['Tech Corp', 'Finance Ltd', 'Retail SA', 'Energy Co', 'Health Inc'],\n",
    "    'sector': ['Tecnología', 'Finanzas', 'Retail', 'Energía', 'Salud'],\n",
    "    'facturacion_anual': [250000, 180000, 320000, 290000, 195000],\n",
    "    'proyectos_activos': [3, 2, 5, 4, 2],\n",
    "    'años_relacion': [2, 5, 1, 3, 4]\n",
    "})\n",
    "\n",
    "# 1. Visualizar el DataFrame\n",
    "print(\"Portfolio de Clientes:\")\n",
    "print(clientes)"
   ]
  },
  {
   "cell_type": "code",
   "execution_count": 13,
   "id": "8ded5d5e",
   "metadata": {},
   "outputs": [
    {
     "name": "stdout",
     "output_type": "stream",
     "text": [
      "       empresa      sector  facturacion_anual  proyectos_activos  \\\n",
      "0    Tech Corp  Tecnología             250000                  3   \n",
      "1  Finance Ltd    Finanzas             180000                  2   \n",
      "2    Retail SA      Retail             320000                  5   \n",
      "3    Energy Co     Energía             290000                  4   \n",
      "4   Health Inc       Salud             195000                  2   \n",
      "\n",
      "   años_relacion  facturacion_por_proyecto  \n",
      "0              2              83333.333333  \n",
      "1              5              90000.000000  \n",
      "2              1              64000.000000  \n",
      "3              3              72500.000000  \n",
      "4              4              97500.000000  \n"
     ]
    }
   ],
   "source": [
    "# 2. Calcular métricas clave\n",
    "clientes['facturacion_por_proyecto'] = (\n",
    "    clientes['facturacion_anual'] / clientes['proyectos_activos']\n",
    ")\n",
    "\n",
    "print(clientes)"
   ]
  },
  {
   "cell_type": "code",
   "execution_count": 14,
   "id": "bf313b10",
   "metadata": {},
   "outputs": [
    {
     "name": "stdout",
     "output_type": "stream",
     "text": [
      "\n",
      "Análisis del Portafolio:\n",
      "       empresa  facturacion_anual  facturacion_por_proyecto  es_vip\n",
      "0    Tech Corp             250000              83333.333333    True\n",
      "1  Finance Ltd             180000              90000.000000   False\n",
      "2    Retail SA             320000              64000.000000    True\n",
      "3    Energy Co             290000              72500.000000    True\n",
      "4   Health Inc             195000              97500.000000   False\n"
     ]
    }
   ],
   "source": [
    "# 3. Identificar clientes VIP (facturación > 200k)\n",
    "clientes['es_vip'] = clientes['facturacion_anual'] > 200000\n",
    "\n",
    "print(\"\\nAnálisis del Portafolio:\")\n",
    "print(clientes[['empresa', 'facturacion_anual', 'facturacion_por_proyecto', 'es_vip']])"
   ]
  }
 ],
 "metadata": {
  "kernelspec": {
   "display_name": "Python 3",
   "language": "python",
   "name": "python3"
  },
  "language_info": {
   "codemirror_mode": {
    "name": "ipython",
    "version": 3
   },
   "file_extension": ".py",
   "mimetype": "text/x-python",
   "name": "python",
   "nbconvert_exporter": "python",
   "pygments_lexer": "ipython3",
   "version": "3.12.1"
  }
 },
 "nbformat": 4,
 "nbformat_minor": 5
}
