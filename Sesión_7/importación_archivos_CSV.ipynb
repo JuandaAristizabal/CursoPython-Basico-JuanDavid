{
 "cells": [
  {
   "cell_type": "code",
   "execution_count": 1,
   "id": "aba78820",
   "metadata": {},
   "outputs": [],
   "source": [
    "import pandas as pd"
   ]
  },
  {
   "cell_type": "markdown",
   "id": "f7d75969",
   "metadata": {},
   "source": [
    "0. SINTAXIS BÁSICA"
   ]
  },
  {
   "cell_type": "code",
   "execution_count": 2,
   "id": "c97a11b0",
   "metadata": {},
   "outputs": [],
   "source": [
    "# Lectura simple\n",
    "#df = pd.read_csv('archivo.csv')"
   ]
  },
  {
   "cell_type": "markdown",
   "id": "ffd1c573",
   "metadata": {},
   "source": [
    "1. LECTURA BÁSICA"
   ]
  },
  {
   "cell_type": "code",
   "execution_count": 3,
   "id": "9f99683d",
   "metadata": {},
   "outputs": [
    {
     "name": "stdout",
     "output_type": "stream",
     "text": [
      "Datos de ventas:\n",
      "        fecha    cliente     producto  cantidad  precio_unitario  total\n",
      "0  2024-01-15  Empresa A  Consultoría        40              150   6000\n",
      "1  2024-01-16  Empresa B     Análisis        20              200   4000\n",
      "2  2024-01-17  Empresa C   Desarrollo        60              180  10800\n",
      "3  2024-01-18  Empresa A  Consultoría        30              150   4500\n",
      "4  2024-01-19  Empresa D     Análisis        25              200   5000\n"
     ]
    }
   ],
   "source": [
    "# Preparar datos de ejemplo\n",
    "import pandas as pd\n",
    "import os\n",
    "\n",
    "# Crear directorio si no existe\n",
    "os.makedirs('datos', exist_ok=True)\n",
    "\n",
    "# Crear archivo CSV de ventas\n",
    "ventas_csv = \"\"\"fecha,cliente,producto,cantidad,precio_unitario,total\n",
    "2024-01-15,Empresa A,Consultoría,40,150,6000\n",
    "2024-01-16,Empresa B,Análisis,20,200,4000\n",
    "2024-01-17,Empresa C,Desarrollo,60,180,10800\n",
    "2024-01-18,Empresa A,Consultoría,30,150,4500\n",
    "2024-01-19,Empresa D,Análisis,25,200,5000\"\"\"\n",
    "\n",
    "with open('datos/ventas.csv', 'w', encoding='utf-8') as f:\n",
    "    f.write(ventas_csv)\n",
    "\n",
    "# Leer el archivo\n",
    "df_ventas = pd.read_csv('datos/ventas.csv')\n",
    "print(\"Datos de ventas:\")\n",
    "print(df_ventas)"
   ]
  },
  {
   "cell_type": "markdown",
   "id": "71bbb8c9",
   "metadata": {},
   "source": [
    "2. ESPECIFICAR TIPOS DE DATOS"
   ]
  },
  {
   "cell_type": "code",
   "execution_count": 4,
   "id": "66887ce2",
   "metadata": {},
   "outputs": [
    {
     "name": "stdout",
     "output_type": "stream",
     "text": [
      "\n",
      "Tipos de datos:\n",
      "fecha                      object\n",
      "cliente            string[python]\n",
      "producto           string[python]\n",
      "cantidad                    int32\n",
      "precio_unitario           float32\n",
      "total                     float32\n",
      "dtype: object\n",
      "        fecha    cliente     producto  cantidad  precio_unitario  total\n",
      "0  2024-01-15  Empresa A  Consultoría        40              150   6000\n",
      "1  2024-01-16  Empresa B     Análisis        20              200   4000\n",
      "2  2024-01-17  Empresa C   Desarrollo        60              180  10800\n",
      "3  2024-01-18  Empresa A  Consultoría        30              150   4500\n",
      "4  2024-01-19  Empresa D     Análisis        25              200   5000\n"
     ]
    }
   ],
   "source": [
    "# Definir tipos de datos específicos\n",
    "dtypes = {\n",
    "    'cliente': 'string',\n",
    "    'producto': 'string',\n",
    "    'cantidad': 'int32',\n",
    "    'precio_unitario': 'float32',\n",
    "    'total': 'float32'\n",
    "}\n",
    "\n",
    "df_ventas_typed = pd.read_csv('datos/ventas.csv', dtype=dtypes)\n",
    "print(\"\\nTipos de datos:\")\n",
    "print(df_ventas_typed.dtypes)\n",
    "\n",
    "print(df_ventas)"
   ]
  },
  {
   "cell_type": "markdown",
   "id": "5a56cac6",
   "metadata": {},
   "source": [
    "3. MANEJO DE FECHAS"
   ]
  },
  {
   "cell_type": "code",
   "execution_count": 5,
   "id": "4210b10f",
   "metadata": {},
   "outputs": [
    {
     "name": "stdout",
     "output_type": "stream",
     "text": [
      "\n",
      "Con fechas parseadas:\n",
      "<class 'pandas.core.frame.DataFrame'>\n",
      "RangeIndex: 5 entries, 0 to 4\n",
      "Data columns (total 6 columns):\n",
      " #   Column           Non-Null Count  Dtype         \n",
      "---  ------           --------------  -----         \n",
      " 0   fecha            5 non-null      datetime64[ns]\n",
      " 1   cliente          5 non-null      object        \n",
      " 2   producto         5 non-null      object        \n",
      " 3   cantidad         5 non-null      int64         \n",
      " 4   precio_unitario  5 non-null      int64         \n",
      " 5   total            5 non-null      int64         \n",
      "dtypes: datetime64[ns](1), int64(3), object(2)\n",
      "memory usage: 372.0+ bytes\n",
      "None\n",
      "        fecha    cliente     producto  cantidad  precio_unitario  total\n",
      "0  2024-01-15  Empresa A  Consultoría        40              150   6000\n",
      "1  2024-01-16  Empresa B     Análisis        20              200   4000\n",
      "2  2024-01-17  Empresa C   Desarrollo        60              180  10800\n",
      "3  2024-01-18  Empresa A  Consultoría        30              150   4500\n",
      "4  2024-01-19  Empresa D     Análisis        25              200   5000\n"
     ]
    }
   ],
   "source": [
    "# Parsear columnas de fecha automáticamente\n",
    "df_ventas_fechas = pd.read_csv(\n",
    "    'datos/ventas.csv',\n",
    "    parse_dates=['fecha']\n",
    ")\n",
    "\n",
    "print(\"\\nCon fechas parseadas:\")\n",
    "print(df_ventas_fechas.info())\n",
    "\n",
    "print(df_ventas)"
   ]
  },
  {
   "cell_type": "markdown",
   "id": "b4f504ed",
   "metadata": {},
   "source": [
    "4. SELECCIÓN DE COLUMNAS"
   ]
  },
  {
   "cell_type": "code",
   "execution_count": 6,
   "id": "f73594c4",
   "metadata": {},
   "outputs": [
    {
     "name": "stdout",
     "output_type": "stream",
     "text": [
      "\n",
      "Solo columnas seleccionadas:\n",
      "       fecha    cliente  total\n",
      "0 2024-01-15  Empresa A   6000\n",
      "1 2024-01-16  Empresa B   4000\n",
      "2 2024-01-17  Empresa C  10800\n",
      "3 2024-01-18  Empresa A   4500\n",
      "4 2024-01-19  Empresa D   5000\n"
     ]
    }
   ],
   "source": [
    "# Leer solo columnas específicas\n",
    "columnas_interes = ['fecha', 'cliente', 'total']\n",
    "df_parcial = pd.read_csv(\n",
    "    'datos/ventas.csv',\n",
    "    usecols=columnas_interes,\n",
    "    parse_dates=['fecha']\n",
    ")\n",
    "\n",
    "print(\"\\nSolo columnas seleccionadas:\")\n",
    "print(df_parcial)"
   ]
  },
  {
   "cell_type": "markdown",
   "id": "ba19ed68",
   "metadata": {},
   "source": [
    "5. ESTABLECER ÍNDICE"
   ]
  },
  {
   "cell_type": "code",
   "execution_count": 7,
   "id": "9b507b94",
   "metadata": {},
   "outputs": [
    {
     "name": "stdout",
     "output_type": "stream",
     "text": [
      "\n",
      "Proyectos con ID como índice:\n",
      "                    nombre_proyecto      cliente fecha_inicio  fecha_fin  \\\n",
      "id_proyecto                                                                \n",
      "P001         Transformación Digital    Tech Corp   2024-01-01 2024-03-31   \n",
      "P002            Análisis de Mercado  Finance Ltd   2024-02-01 2024-04-30   \n",
      "P003          Optimización Procesos    Retail SA   2023-11-01 2024-01-31   \n",
      "P004               Estrategia Cloud    Tech Corp   2024-03-01 2024-06-30   \n",
      "P005                  Due Diligence    Energy Co   2024-01-15 2024-02-28   \n",
      "\n",
      "             presupuesto       estado  \n",
      "id_proyecto                            \n",
      "P001              150000       Activo  \n",
      "P002               80000       Activo  \n",
      "P003               95000   Completado  \n",
      "P004              200000  Planificado  \n",
      "P005              120000       Activo  \n"
     ]
    }
   ],
   "source": [
    "# Crear CSV con IDs\n",
    "proyectos_csv = \"\"\"id_proyecto,nombre_proyecto,cliente,fecha_inicio,fecha_fin,presupuesto,estado\n",
    "P001,Transformación Digital,Tech Corp,2024-01-01,2024-03-31,150000,Activo\n",
    "P002,Análisis de Mercado,Finance Ltd,2024-02-01,2024-04-30,80000,Activo\n",
    "P003,Optimización Procesos,Retail SA,2023-11-01,2024-01-31,95000,Completado\n",
    "P004,Estrategia Cloud,Tech Corp,2024-03-01,2024-06-30,200000,Planificado\n",
    "P005,Due Diligence,Energy Co,2024-01-15,2024-02-28,120000,Activo\"\"\"\n",
    "\n",
    "with open('datos/proyectos.csv', 'w', encoding='utf-8') as f:\n",
    "    f.write(proyectos_csv)\n",
    "\n",
    "# Usar columna como índice\n",
    "df_proyectos = pd.read_csv(\n",
    "    'datos/proyectos.csv',\n",
    "    index_col='id_proyecto',\n",
    "    parse_dates=['fecha_inicio', 'fecha_fin']\n",
    ")\n",
    "\n",
    "print(\"\\nProyectos con ID como índice:\")\n",
    "print(df_proyectos)"
   ]
  },
  {
   "cell_type": "markdown",
   "id": "2d58a1da",
   "metadata": {},
   "source": [
    "6. ARCHIVOS CON DIFERENTES LIMITADORES"
   ]
  },
  {
   "cell_type": "code",
   "execution_count": 8,
   "id": "9a2f1668",
   "metadata": {},
   "outputs": [
    {
     "name": "stdout",
     "output_type": "stream",
     "text": [
      "Empleados (delimitador ;):\n",
      "  id_empleado        nombre departamento  salario fecha_contratacion\n",
      "0        E001    Ana García  Consultoría    45000         2021-03-15\n",
      "1        E002  Carlos López     Análisis    50000         2020-07-01\n",
      "2        E003  María Torres  Consultoría    48000         2021-01-20\n",
      "3        E004    Juan Pérez   Desarrollo    55000         2019-11-10\n",
      "4        E005    Laura Ruiz     Análisis    52000         2020-09-05\n"
     ]
    }
   ],
   "source": [
    "# Archivo con punto y coma\n",
    "empleados_csv = \"\"\"id_empleado;nombre;departamento;salario;fecha_contratacion\n",
    "E001;Ana García;Consultoría;45000;2021-03-15\n",
    "E002;Carlos López;Análisis;50000;2020-07-01\n",
    "E003;María Torres;Consultoría;48000;2021-01-20\n",
    "E004;Juan Pérez;Desarrollo;55000;2019-11-10\n",
    "E005;Laura Ruiz;Análisis;52000;2020-09-05\"\"\"\n",
    "\n",
    "with open('datos/empleados.csv', 'w', encoding='utf-8') as f:\n",
    "    f.write(empleados_csv)\n",
    "\n",
    "# Leer con delimitador personalizado\n",
    "df_empleados = pd.read_csv(\n",
    "    'datos/empleados.csv',\n",
    "    sep=';',\n",
    "    parse_dates=['fecha_contratacion']\n",
    ")\n",
    "\n",
    "print(\"Empleados (delimitador ;):\")\n",
    "print(df_empleados)"
   ]
  },
  {
   "cell_type": "markdown",
   "id": "2753f6b6",
   "metadata": {},
   "source": [
    "7. ARCHIVOS CON ENCABEZADOS MÚLTIPLES"
   ]
  },
  {
   "cell_type": "code",
   "execution_count": 9,
   "id": "097d9e8e",
   "metadata": {},
   "outputs": [
    {
     "name": "stdout",
     "output_type": "stream",
     "text": [
      "Reporte de horas (sin encabezado):\n",
      "      consultor  semana1  semana2  semana3  semana4  total\n",
      "0    Ana García       40       38       42       40    160\n",
      "1  Carlos López       45       40       43       42    170\n",
      "2  María Torres       38       40       39       38    155\n"
     ]
    }
   ],
   "source": [
    "# CSV con información adicional en las primeras líneas\n",
    "reporte_csv = \"\"\"Reporte de Horas Facturables\n",
    "Generado: 2024-01-20\n",
    "Período: Enero 2024\n",
    "\n",
    "consultor,semana1,semana2,semana3,semana4,total\n",
    "Ana García,40,38,42,40,160\n",
    "Carlos López,45,40,43,42,170\n",
    "María Torres,38,40,39,38,155\"\"\"\n",
    "\n",
    "with open('datos/reporte_horas.csv', 'w', encoding='utf-8') as f:\n",
    "    f.write(reporte_csv)\n",
    "\n",
    "# Saltar las primeras líneas\n",
    "df_horas = pd.read_csv(\n",
    "    'datos/reporte_horas.csv',\n",
    "    skiprows=4  # Saltar las primeras 4 líneas\n",
    ")\n",
    "\n",
    "print(\"Reporte de horas (sin encabezado):\")\n",
    "print(df_horas)"
   ]
  },
  {
   "cell_type": "markdown",
   "id": "d6323464",
   "metadata": {},
   "source": [
    "8. MANEJO DE VALORES FALTANTES"
   ]
  },
  {
   "cell_type": "code",
   "execution_count": 10,
   "id": "a5aaa102",
   "metadata": {},
   "outputs": [
    {
     "name": "stdout",
     "output_type": "stream",
     "text": [
      "Métricas con valores faltantes:\n",
      "     proyecto       q1       q2       q3     q4  satisfaccion_cliente\n",
      "0  Proyecto A  25000.0  30000.0      NaN  35000                   4.5\n",
      "1  Proyecto B  40000.0  45000.0  50000.0  55000                   NaN\n",
      "2  Proyecto C      NaN  20000.0  22000.0  25000                   4.2\n",
      "3  Proyecto D  60000.0      NaN  70000.0  75000                   4.8\n",
      "4  Proyecto E  30000.0  35000.0      NaN  40000                   4.0\n",
      "\n",
      "Valores nulos por columna:\n",
      "proyecto                0\n",
      "q1                      1\n",
      "q2                      1\n",
      "q3                      2\n",
      "q4                      0\n",
      "satisfaccion_cliente    1\n",
      "dtype: int64\n"
     ]
    }
   ],
   "source": [
    "# CSV con valores faltantes\n",
    "metricas_csv = \"\"\"proyecto,q1,q2,q3,q4,satisfaccion_cliente\n",
    "Proyecto A,25000,30000,,35000,4.5\n",
    "Proyecto B,40000,45000,50000,55000,\n",
    "Proyecto C,,20000,22000,25000,4.2\n",
    "Proyecto D,60000,N/A,70000,75000,4.8\n",
    "Proyecto E,30000,35000,PENDING,40000,4.0\"\"\"\n",
    "\n",
    "with open('datos/metricas.csv', 'w', encoding='utf-8') as f:\n",
    "    f.write(metricas_csv)\n",
    "\n",
    "# Especificar valores que representan NA\n",
    "df_metricas = pd.read_csv(\n",
    "    'datos/metricas.csv',\n",
    "    na_values=['N/A', 'PENDING', '']\n",
    ")\n",
    "\n",
    "print(\"Métricas con valores faltantes:\")\n",
    "print(df_metricas)\n",
    "print(\"\\nValores nulos por columna:\")\n",
    "print(df_metricas.isnull().sum())"
   ]
  },
  {
   "cell_type": "markdown",
   "id": "230cb8ea",
   "metadata": {},
   "source": [
    "9. LECTURA DE ARCHIVOS GRANDES"
   ]
  },
  {
   "cell_type": "code",
   "execution_count": null,
   "id": "5ddf8666",
   "metadata": {},
   "outputs": [
    {
     "name": "stdout",
     "output_type": "stream",
     "text": [
      "\n",
      "Ventas > 4500 (procesado por chunks):\n",
      "        fecha    cliente     producto  cantidad  precio_unitario  total\n",
      "0  2024-01-15  Empresa A  Consultoría        40              150   6000\n",
      "1  2024-01-17  Empresa C   Desarrollo        60              180  10800\n",
      "2  2024-01-19  Empresa D     Análisis        25              200   5000\n"
     ]
    }
   ],
   "source": [
    "# Para archivos muy grandes, leer por chunks (pedazos)\n",
    "chunk_size = 2\n",
    "\n",
    "# Simular procesamiento por chunks\n",
    "chunks = []\n",
    "for chunk in pd.read_csv('datos/ventas.csv', chunksize=chunk_size):\n",
    "    # Procesar cada chunk\n",
    "    chunk_procesado = chunk[chunk['total'] > 4500]\n",
    "    chunks.append(chunk_procesado)\n",
    "\n",
    "# Combinar todos los chunks\n",
    "df_filtrado = pd.concat(chunks, ignore_index=True)\n",
    "print(\"\\nVentas > 4500 (procesado por chunks):\")\n",
    "print(df_filtrado)"
   ]
  },
  {
   "cell_type": "markdown",
   "id": "99ffb662",
   "metadata": {},
   "source": [
    "10. CODIFICACIÓN Y CARÁCTERES ESPECIALES"
   ]
  },
  {
   "cell_type": "code",
   "execution_count": 12,
   "id": "3c38c5bd",
   "metadata": {},
   "outputs": [
    {
     "name": "stdout",
     "output_type": "stream",
     "text": [
      "Clientes LATAM:\n",
      "                empresa      país        contacto          teléfono\n",
      "0  Tecnología São Paulo    Brasil      José Silva  +55-11-1234-5678\n",
      "1    Consultoría México    México  María González  +52-55-8765-4321\n",
      "2       Análisis Bogotá  Colombia    Andrés Muñoz   +57-1-9876-5432\n"
     ]
    }
   ],
   "source": [
    "# CSV con caracteres especiales\n",
    "clientes_latam = \"\"\"empresa,país,contacto,teléfono\n",
    "Tecnología São Paulo,Brasil,José Silva,+55-11-1234-5678\n",
    "Consultoría México,México,María González,+52-55-8765-4321\n",
    "Análisis Bogotá,Colombia,Andrés Muñoz,+57-1-9876-5432\n",
    "\"\"\"\n",
    "\n",
    "with open('datos/clientes_latam.csv', 'w', encoding='utf-8') as f:\n",
    "    f.write(clientes_latam)\n",
    "\n",
    "# Leer con encoding UTF-8\n",
    "df_clientes = pd.read_csv('datos/clientes_latam.csv', encoding='utf-8')\n",
    "print(\"Clientes LATAM:\")\n",
    "print(df_clientes)"
   ]
  },
  {
   "cell_type": "markdown",
   "id": "8c595f18",
   "metadata": {},
   "source": [
    "11. VALIDACIÓN Y LIMPIEZA POST-IMPORTACIÓN"
   ]
  },
  {
   "cell_type": "code",
   "execution_count": 13,
   "id": "4f54956a",
   "metadata": {},
   "outputs": [
    {
     "name": "stdout",
     "output_type": "stream",
     "text": [
      "\n",
      "=== Validación de ventas.csv ===\n",
      "Forma: (5, 6)\n",
      "Columnas: ['fecha', 'cliente', 'producto', 'cantidad', 'precio_unitario', 'total']\n",
      "\n",
      "Tipos de datos:\n",
      "fecha              object\n",
      "cliente            object\n",
      "producto           object\n",
      "cantidad            int64\n",
      "precio_unitario     int64\n",
      "total               int64\n",
      "dtype: object\n",
      "\n",
      "Valores nulos:\n",
      "fecha              0\n",
      "cliente            0\n",
      "producto           0\n",
      "cantidad           0\n",
      "precio_unitario    0\n",
      "total              0\n",
      "dtype: int64\n",
      "\n",
      "Primeras 3 filas:\n",
      "        fecha    cliente     producto  cantidad  precio_unitario  total\n",
      "0  2024-01-15  Empresa A  Consultoría        40              150   6000\n",
      "1  2024-01-16  Empresa B     Análisis        20              200   4000\n",
      "2  2024-01-17  Empresa C   Desarrollo        60              180  10800\n"
     ]
    }
   ],
   "source": [
    "# Función para validar datos importados\n",
    "def validar_datos_csv(df, nombre_archivo):\n",
    "    print(f\"\\n=== Validación de {nombre_archivo} ===\")\n",
    "    print(f\"Forma: {df.shape}\")\n",
    "    print(f\"Columnas: {list(df.columns)}\")\n",
    "    print(f\"\\nTipos de datos:\")\n",
    "    print(df.dtypes)\n",
    "    print(f\"\\nValores nulos:\")\n",
    "    print(df.isnull().sum())\n",
    "    print(f\"\\nPrimeras 3 filas:\")\n",
    "    print(df.head(3))\n",
    "\n",
    "# Validar datos importados\n",
    "validar_datos_csv(df_ventas, \"ventas.csv\")"
   ]
  },
  {
   "cell_type": "markdown",
   "id": "df71acfc",
   "metadata": {},
   "source": [
    "12. EXPORTAR A CSV"
   ]
  },
  {
   "cell_type": "code",
   "execution_count": 14,
   "id": "dd960e07",
   "metadata": {},
   "outputs": [
    {
     "name": "stdout",
     "output_type": "stream",
     "text": [
      "Archivos exportados exitosamente\n"
     ]
    }
   ],
   "source": [
    "# Crear DataFrame de ejemplo\n",
    "resumen_mensual = pd.DataFrame({\n",
    "    'mes': ['Enero', 'Febrero', 'Marzo'],\n",
    "    'ingresos': [250000, 280000, 310000],\n",
    "    'gastos': [180000, 195000, 205000],\n",
    "    'utilidad': [70000, 85000, 105000]\n",
    "})\n",
    "\n",
    "# Exportar a CSV\n",
    "resumen_mensual.to_csv(\n",
    "    'datos/resumen_mensual.csv',\n",
    "    index=False,  # No incluir el índice\n",
    "    encoding='utf-8'\n",
    ")\n",
    "\n",
    "# Exportar con opciones adicionales\n",
    "resumen_mensual.to_csv(\n",
    "    'datos/resumen_mensual_formato.csv',\n",
    "    index=False,\n",
    "    sep=';',  # Usar punto y coma\n",
    "    decimal=',',  # Usar coma para decimales\n",
    "    float_format='%.2f'  # Formato de decimales\n",
    ")\n",
    "\n",
    "print(\"Archivos exportados exitosamente\")"
   ]
  },
  {
   "cell_type": "code",
   "execution_count": 11,
   "id": "c313db72",
   "metadata": {},
   "outputs": [],
   "source": [
    "def cuadrado ( n ): \n",
    "    return n ** 2\n",
    "\n",
    "resultado = cuadrado(4)"
   ]
  },
  {
   "cell_type": "code",
   "execution_count": 10,
   "id": "7003a08e",
   "metadata": {},
   "outputs": [],
   "source": [
    "def saludar(nombre=\"Amigo\"): return f\"Hola, {nombre}\"\n",
    "\n",
    "resultado = saludar()"
   ]
  }
 ],
 "metadata": {
  "kernelspec": {
   "display_name": "Python 3",
   "language": "python",
   "name": "python3"
  },
  "language_info": {
   "codemirror_mode": {
    "name": "ipython",
    "version": 3
   },
   "file_extension": ".py",
   "mimetype": "text/x-python",
   "name": "python",
   "nbconvert_exporter": "python",
   "pygments_lexer": "ipython3",
   "version": "3.12.1"
  }
 },
 "nbformat": 4,
 "nbformat_minor": 5
}
