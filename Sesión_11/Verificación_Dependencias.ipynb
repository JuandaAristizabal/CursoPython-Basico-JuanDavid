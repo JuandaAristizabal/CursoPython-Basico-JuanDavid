{
 "cells": [
  {
   "cell_type": "code",
   "execution_count": 4,
   "id": "1ef7ba34",
   "metadata": {},
   "outputs": [
    {
     "name": "stdout",
     "output_type": "stream",
     "text": [
      "Versión de Pandas: 2.3.0+4.g1dfc98e16a\n",
      "Versión de NumPy: 2.0.2\n"
     ]
    }
   ],
   "source": [
    "import pandas as pd\n",
    "import numpy as np\n",
    "from datetime import datetime, timedelta\n",
    "\n",
    "print(f\"Versión de Pandas: {pd.__version__}\")\n",
    "print(f\"Versión de NumPy: {np.__version__}\")\n",
    "\n",
    "# Configuración para mejor visualización\n",
    "pd.set_option('display.max_columns', None)\n",
    "pd.set_option('display.width', None)\n",
    "pd.set_option('display.max_colwidth', 50)"
   ]
  },
  {
   "cell_type": "code",
   "execution_count": 2,
   "id": "af697409",
   "metadata": {},
   "outputs": [],
   "source": [
    "# Link de la Clase: https://github.com/mornaeldernar/python-clase-11?tab=readme-ov-file"
   ]
  }
 ],
 "metadata": {
  "kernelspec": {
   "display_name": "petroleum-viz",
   "language": "python",
   "name": "python3"
  },
  "language_info": {
   "codemirror_mode": {
    "name": "ipython",
    "version": 3
   },
   "file_extension": ".py",
   "mimetype": "text/x-python",
   "name": "python",
   "nbconvert_exporter": "python",
   "pygments_lexer": "ipython3",
   "version": "3.9.23"
  }
 },
 "nbformat": 4,
 "nbformat_minor": 5
}
