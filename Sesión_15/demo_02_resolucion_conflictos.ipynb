{
 "cells": [
  {
   "cell_type": "markdown",
   "id": "d0f35361",
   "metadata": {},
   "source": [
    "Sesión 15: Integración de Datos de Múltiples Fuentes\n",
    "Demo 02: Resolución de Conflictos entre Fuentes\n",
    "\n",
    "Este demo demuestra técnicas para identificar y resolver inconsistencias\n",
    "entre diferentes fuentes de datos en operaciones petroleras.\n",
    "\n",
    "Autor: AdP Meridian Consulting\n",
    "Fecha: 2025"
   ]
  },
  {
   "cell_type": "code",
   "execution_count": 1,
   "id": "8f1dab78",
   "metadata": {},
   "outputs": [],
   "source": [
    "\n",
    "import pandas as pd\n",
    "import numpy as np\n",
    "import matplotlib.pyplot as plt\n",
    "import seaborn as sns\n",
    "from datetime import datetime, timedelta\n",
    "import warnings\n",
    "warnings.filterwarnings('ignore')"
   ]
  },
  {
   "cell_type": "markdown",
   "id": "3b53796b",
   "metadata": {},
   "source": [
    "# DEMO 02: RESOLUCIÓN DE CONFLICTOS ENTRE FUENTES "
   ]
  },
  {
   "cell_type": "markdown",
   "id": "0786811e",
   "metadata": {},
   "source": [
    "### 1. CREACIÓN DE FUENTES DE DATOS CON CONFLICTOS"
   ]
  },
  {
   "cell_type": "code",
   "execution_count": 2,
   "id": "9edf6981",
   "metadata": {},
   "outputs": [],
   "source": [
    "# Datos base de producción\n",
    "np.random.seed(42)\n",
    "fechas = pd.date_range('2024-01-01', '2024-01-07', freq='D')\n",
    "pozos = ['PZ001', 'PZ002', 'PZ003']"
   ]
  },
  {
   "cell_type": "code",
   "execution_count": 3,
   "id": "681de63a",
   "metadata": {},
   "outputs": [
    {
     "name": "stdout",
     "output_type": "stream",
     "text": [
      "✓ Creando datos FUENTE 1 - Sistema SCADA:\n",
      "  - Registros: 21\n",
      "  - Calidad promedio: {'Excelente': 18, 'Buena': 3}\n",
      "\n"
     ]
    }
   ],
   "source": [
    "# FUENTE 1: Sistema SCADA (Automático)\n",
    "print(\"✓ Creando datos FUENTE 1 - Sistema SCADA:\")\n",
    "scada_data = []\n",
    "for fecha in fechas:\n",
    "    for pozo in pozos:\n",
    "        # Simulamos lecturas automáticas con pequeños ruidos\n",
    "        base_prod = {'PZ001': 150, 'PZ002': 90, 'PZ003': 240}[pozo]\n",
    "        ruido = np.random.normal(0, 5)\n",
    "        \n",
    "        scada_data.append({\n",
    "            'fecha': fecha,\n",
    "            'pozo_id': pozo,\n",
    "            'produccion_crudo_bpd': base_prod + ruido,\n",
    "            'presion_cabeza_psi': 600 + np.random.normal(0, 20),\n",
    "            'temperatura_c': 65 + np.random.normal(0, 3),\n",
    "            'fuente': 'SCADA',\n",
    "            'timestamp_registro': fecha + timedelta(hours=23, minutes=55),\n",
    "            'calidad_dato': np.random.choice(['Excelente', 'Buena'], p=[0.8, 0.2])\n",
    "        })\n",
    "\n",
    "fuente_scada = pd.DataFrame(scada_data)\n",
    "print(f\"  - Registros: {len(fuente_scada)}\")\n",
    "print(f\"  - Calidad promedio: {fuente_scada['calidad_dato'].value_counts().to_dict()}\")\n",
    "print()"
   ]
  },
  {
   "cell_type": "code",
   "execution_count": 4,
   "id": "bce69b2f",
   "metadata": {},
   "outputs": [
    {
     "name": "stdout",
     "output_type": "stream",
     "text": [
      "✓ Creando datos FUENTE 2 - Reportes Manuales:\n",
      "  - Registros: 21\n",
      "  - Valores nulos en presión: 2\n",
      "  - Valores nulos en temperatura: 1\n",
      "\n"
     ]
    }
   ],
   "source": [
    "# FUENTE 2: Reportes Operadores (Manual)\n",
    "print(\"✓ Creando datos FUENTE 2 - Reportes Manuales:\")\n",
    "manual_data = []\n",
    "for fecha in fechas:\n",
    "    for pozo in pozos:\n",
    "        # Simulamos reportes manuales con posibles errores humanos\n",
    "        base_prod = {'PZ001': 150, 'PZ002': 90, 'PZ003': 240}[pozo]\n",
    "        \n",
    "        # Introducir errores típicos\n",
    "        if np.random.random() < 0.1:  # 10% de error de transcripción\n",
    "            error_factor = np.random.choice([0.1, 10])  # Decimal mal puesto\n",
    "            produccion = base_prod * error_factor\n",
    "        else:\n",
    "            produccion = base_prod + np.random.normal(0, 10)\n",
    "        \n",
    "        # Algunos campos pueden estar vacíos\n",
    "        presion = 600 + np.random.normal(0, 25) if np.random.random() > 0.05 else np.nan\n",
    "        temperatura = 65 + np.random.normal(0, 5) if np.random.random() > 0.03 else np.nan\n",
    "        \n",
    "        manual_data.append({\n",
    "            'fecha': fecha,\n",
    "            'pozo_id': pozo,\n",
    "            'produccion_crudo_bpd': produccion,\n",
    "            'presion_cabeza_psi': presion,\n",
    "            'temperatura_c': temperatura,\n",
    "            'fuente': 'MANUAL',\n",
    "            'timestamp_registro': fecha + timedelta(hours=np.random.randint(8, 18)),\n",
    "            'operador': np.random.choice(['Juan P.', 'Maria R.', 'Carlos S.', 'Ana T.'])\n",
    "        })\n",
    "\n",
    "fuente_manual = pd.DataFrame(manual_data)\n",
    "print(f\"  - Registros: {len(fuente_manual)}\")\n",
    "print(f\"  - Valores nulos en presión: {fuente_manual['presion_cabeza_psi'].isnull().sum()}\")\n",
    "print(f\"  - Valores nulos en temperatura: {fuente_manual['temperatura_c'].isnull().sum()}\")\n",
    "print()"
   ]
  },
  {
   "cell_type": "code",
   "execution_count": 5,
   "id": "734b2a7d",
   "metadata": {},
   "outputs": [
    {
     "name": "stdout",
     "output_type": "stream",
     "text": [
      "✓ Creando datos FUENTE 3 - Medición Fiscal:\n",
      "  - Registros: 8\n",
      "  - Solo pozos: ['PZ001', 'PZ002']\n",
      "  - Fechas disponibles: 4\n",
      "\n"
     ]
    }
   ],
   "source": [
    "# FUENTE 3: Sistema de Medición Fiscal (Oficial)\n",
    "print(\"✓ Creando datos FUENTE 3 - Medición Fiscal:\")\n",
    "fiscal_data = []\n",
    "# Solo disponible cada 2 días y no para todos los pozos\n",
    "for i, fecha in enumerate(fechas[::2]):  # Cada 2 días\n",
    "    for pozo in pozos[:2]:  # Solo PZ001 y PZ002 tienen medición fiscal\n",
    "        base_prod = {'PZ001': 150, 'PZ002': 90}[pozo]\n",
    "        \n",
    "        fiscal_data.append({\n",
    "            'fecha': fecha,\n",
    "            'pozo_id': pozo,\n",
    "            'produccion_crudo_bpd': base_prod + np.random.normal(0, 2),  # Muy preciso\n",
    "            'fuente': 'FISCAL',\n",
    "            'timestamp_registro': fecha + timedelta(hours=12),\n",
    "            'certificado': True,\n",
    "            'precision': 'Alta'\n",
    "        })\n",
    "\n",
    "fuente_fiscal = pd.DataFrame(fiscal_data)\n",
    "print(f\"  - Registros: {len(fuente_fiscal)}\")\n",
    "print(f\"  - Solo pozos: {sorted(fuente_fiscal['pozo_id'].unique())}\")\n",
    "print(f\"  - Fechas disponibles: {len(fuente_fiscal['fecha'].unique())}\")\n",
    "print()"
   ]
  },
  {
   "cell_type": "markdown",
   "id": "b4ab830d",
   "metadata": {},
   "source": [
    "### 2. IDENTIFICACIÓN DE CONFLICTOS ENTRE FUENTES"
   ]
  },
  {
   "cell_type": "code",
   "execution_count": 6,
   "id": "dd36e728",
   "metadata": {},
   "outputs": [
    {
     "name": "stdout",
     "output_type": "stream",
     "text": [
      "✓ Dataset consolidado de todas las fuentes:\n",
      "  - Total registros: 50\n",
      "  - Tabla:\n",
      "       fecha pozo_id  produccion_crudo_bpd fuente\n",
      "0 2024-01-01   PZ001            152.483571  SCADA\n",
      "1 2024-01-01   PZ002             97.615149  SCADA\n",
      "2 2024-01-01   PZ003            237.652628  SCADA\n",
      "3 2024-01-02   PZ001            147.671351  SCADA\n",
      "4 2024-01-02   PZ002             84.935844  SCADA\n",
      "  - Fuentes: ['FISCAL', 'MANUAL', 'SCADA']\n",
      "\n"
     ]
    }
   ],
   "source": [
    "# Combinar todas las fuentes para análisis\n",
    "todas_fuentes = pd.concat([\n",
    "    fuente_scada[['fecha', 'pozo_id', 'produccion_crudo_bpd', 'fuente']],\n",
    "    fuente_manual[['fecha', 'pozo_id', 'produccion_crudo_bpd', 'fuente']],\n",
    "    fuente_fiscal[['fecha', 'pozo_id', 'produccion_crudo_bpd', 'fuente']]\n",
    "], ignore_index=True)\n",
    "\n",
    "print(\"✓ Dataset consolidado de todas las fuentes:\")\n",
    "print(f\"  - Total registros: {len(todas_fuentes)}\")\n",
    "print(f\"  - Tabla:\")\n",
    "print(todas_fuentes.head())\n",
    "print(f\"  - Fuentes: {sorted(todas_fuentes['fuente'].unique())}\")\n",
    "print()"
   ]
  },
  {
   "cell_type": "code",
   "execution_count": 7,
   "id": "675abc25",
   "metadata": {},
   "outputs": [
    {
     "name": "stdout",
     "output_type": "stream",
     "text": [
      "✓ Comparación lado a lado de fuentes:\n",
      "fuente      fecha pozo_id      FISCAL      MANUAL       SCADA\n",
      "0      2024-01-01   PZ001  152.192660  158.219025  152.483571\n",
      "1      2024-01-01   PZ002   89.329178   70.124311   97.615149\n",
      "2      2024-01-01   PZ003         NaN  238.947429  237.652628\n",
      "3      2024-01-02   PZ001         NaN  157.507859  147.671351\n",
      "4      2024-01-02   PZ002         NaN  900.000000   84.935844\n",
      "5      2024-01-02   PZ003         NaN  249.148843  232.938481\n",
      "6      2024-01-03   PZ001  151.270225  160.867270  147.278086\n",
      "7      2024-01-03   PZ002   87.839598   89.158349   91.878490\n",
      "8      2024-01-03   PZ003         NaN  247.910319  236.991467\n",
      "9      2024-01-04   PZ001         NaN  171.904556  144.711445\n",
      "\n"
     ]
    }
   ],
   "source": [
    "\n",
    "# Pivot para comparar fuentes lado a lado\n",
    "pivot_fuentes = todas_fuentes.pivot_table(\n",
    "    index=['fecha', 'pozo_id'],\n",
    "    columns='fuente',\n",
    "    values='produccion_crudo_bpd',\n",
    "    aggfunc='first'\n",
    ").reset_index()\n",
    "\n",
    "print(\"✓ Comparación lado a lado de fuentes:\")\n",
    "print(pivot_fuentes.head(10))\n",
    "print()"
   ]
  },
  {
   "cell_type": "code",
   "execution_count": 8,
   "id": "025afb4b",
   "metadata": {},
   "outputs": [],
   "source": [
    "# Calcular diferencias entre fuentes\n",
    "pivot_fuentes['diff_scada_manual'] = (\n",
    "    pivot_fuentes['SCADA'] - pivot_fuentes['MANUAL']\n",
    ").abs()\n",
    "\n",
    "pivot_fuentes['diff_scada_fiscal'] = (\n",
    "    pivot_fuentes['SCADA'] - pivot_fuentes['FISCAL']\n",
    ").abs()\n",
    "\n",
    "pivot_fuentes['diff_manual_fiscal'] = (\n",
    "    pivot_fuentes['MANUAL'] - pivot_fuentes['FISCAL']\n",
    ").abs()"
   ]
  },
  {
   "cell_type": "code",
   "execution_count": 9,
   "id": "4684a49c",
   "metadata": {},
   "outputs": [],
   "source": [
    "# Identificar conflictos significativos (diferencia > 10%)\n",
    "umbral_conflicto = 0.10  # 10%"
   ]
  },
  {
   "cell_type": "code",
   "execution_count": 10,
   "id": "db258d45",
   "metadata": {},
   "outputs": [],
   "source": [
    "def identificar_conflicto(row, col1, col2):\n",
    "    if pd.isna(row[col1]) or pd.isna(row[col2]):\n",
    "        return False\n",
    "    diff_porcentual = abs(row[col1] - row[col2]) / max(row[col1], row[col2])\n",
    "    return diff_porcentual > umbral_conflicto"
   ]
  },
  {
   "cell_type": "code",
   "execution_count": 11,
   "id": "bf06d80d",
   "metadata": {},
   "outputs": [],
   "source": [
    "\n",
    "pivot_fuentes['conflicto_scada_manual'] = pivot_fuentes.apply(\n",
    "    lambda row: identificar_conflicto(row, 'SCADA', 'MANUAL'), axis=1\n",
    ")"
   ]
  },
  {
   "cell_type": "code",
   "execution_count": 12,
   "id": "92f8b2b2",
   "metadata": {},
   "outputs": [],
   "source": [
    "\n",
    "pivot_fuentes['conflicto_scada_fiscal'] = pivot_fuentes.apply(\n",
    "    lambda row: identificar_conflicto(row, 'SCADA', 'FISCAL'), axis=1\n",
    ")"
   ]
  },
  {
   "cell_type": "code",
   "execution_count": 13,
   "id": "e6a84bbf",
   "metadata": {},
   "outputs": [
    {
     "name": "stdout",
     "output_type": "stream",
     "text": [
      "✓ Análisis de conflictos:\n",
      "  - Conflictos SCADA vs MANUAL: 6\n",
      "  - Conflictos SCADA vs FISCAL: 0\n",
      "\n",
      "  Ejemplos de conflictos SCADA vs MANUAL:\n",
      "    2024-01-01 PZ002: SCADA=97.6, MANUAL=70.1 (diff=28.2%)\n",
      "    2024-01-02 PZ002: SCADA=84.9, MANUAL=900.0 (diff=90.6%)\n",
      "    2024-01-04 PZ001: SCADA=144.7, MANUAL=171.9 (diff=15.8%)\n",
      "\n"
     ]
    }
   ],
   "source": [
    "print(\"✓ Análisis de conflictos:\")\n",
    "conflictos_sm = pivot_fuentes['conflicto_scada_manual'].sum()\n",
    "conflictos_sf = pivot_fuentes['conflicto_scada_fiscal'].sum()\n",
    "print(f\"  - Conflictos SCADA vs MANUAL: {conflictos_sm}\")\n",
    "print(f\"  - Conflictos SCADA vs FISCAL: {conflictos_sf}\")\n",
    "\n",
    "if conflictos_sm > 0:\n",
    "    print(\"\\n  Ejemplos de conflictos SCADA vs MANUAL:\")\n",
    "    conflictos_ejemplos = pivot_fuentes[pivot_fuentes['conflicto_scada_manual']].head(3)\n",
    "    for _, row in conflictos_ejemplos.iterrows():\n",
    "        pct_diff = abs(row['SCADA'] - row['MANUAL']) / max(row['SCADA'], row['MANUAL']) * 100\n",
    "        print(f\"    {row['fecha'].strftime('%Y-%m-%d')} {row['pozo_id']}: \"\n",
    "              f\"SCADA={row['SCADA']:.1f}, MANUAL={row['MANUAL']:.1f} \"\n",
    "              f\"(diff={pct_diff:.1f}%)\")\n",
    "print()"
   ]
  },
  {
   "cell_type": "markdown",
   "id": "c035b828",
   "metadata": {},
   "source": [
    "### 3. ESTRATEGIAS DE RESOLUCIÓN DE CONFLICTOS"
   ]
  },
  {
   "cell_type": "markdown",
   "id": "f97ae183",
   "metadata": {},
   "source": [
    "#### ESTRATEGIA 1: Jerarquía de Fuentes"
   ]
  },
  {
   "cell_type": "code",
   "execution_count": 14,
   "id": "3a912ac4",
   "metadata": {},
   "outputs": [],
   "source": [
    "jerarquia = {'FISCAL': 1, 'SCADA': 2, 'MANUAL': 3}  # 1 = máxima prioridad"
   ]
  },
  {
   "cell_type": "code",
   "execution_count": 15,
   "id": "9b347aec",
   "metadata": {},
   "outputs": [],
   "source": [
    "def resolver_por_jerarquia(row):\n",
    "    \"\"\"Selecciona el valor de la fuente con mayor prioridad disponible.\"\"\"\n",
    "    for fuente in sorted(jerarquia.keys(), key=lambda x: jerarquia[x]):\n",
    "        if not pd.isna(row[fuente]):\n",
    "            return row[fuente], fuente\n",
    "    return np.nan, 'NINGUNA'"
   ]
  },
  {
   "cell_type": "code",
   "execution_count": 16,
   "id": "9de3795a",
   "metadata": {},
   "outputs": [],
   "source": [
    "pivot_fuentes[['valor_jerarquia', 'fuente_seleccionada']] = pivot_fuentes.apply(\n",
    "    resolver_por_jerarquia, axis=1, result_type='expand'\n",
    ")"
   ]
  },
  {
   "cell_type": "code",
   "execution_count": 17,
   "id": "97add8ab",
   "metadata": {},
   "outputs": [
    {
     "name": "stdout",
     "output_type": "stream",
     "text": [
      "  - Registros resueltos: 21\n",
      "  - Distribución por fuente: {'SCADA': 13, 'FISCAL': 8}\n",
      "fuente      fecha pozo_id      FISCAL      MANUAL       SCADA  \\\n",
      "0      2024-01-01   PZ001  152.192660  158.219025  152.483571   \n",
      "1      2024-01-01   PZ002   89.329178   70.124311   97.615149   \n",
      "2      2024-01-01   PZ003         NaN  238.947429  237.652628   \n",
      "3      2024-01-02   PZ001         NaN  157.507859  147.671351   \n",
      "4      2024-01-02   PZ002         NaN  900.000000   84.935844   \n",
      "\n",
      "fuente  diff_scada_manual  diff_scada_fiscal  diff_manual_fiscal  \\\n",
      "0                5.735454           0.290911            6.026365   \n",
      "1               27.490838           8.285971           19.204867   \n",
      "2                1.294801                NaN                 NaN   \n",
      "3                9.836508                NaN                 NaN   \n",
      "4              815.064156                NaN                 NaN   \n",
      "\n",
      "fuente  conflicto_scada_manual  conflicto_scada_fiscal  valor_jerarquia  \\\n",
      "0                        False                   False       152.192660   \n",
      "1                         True                   False        89.329178   \n",
      "2                        False                   False       237.652628   \n",
      "3                        False                   False       147.671351   \n",
      "4                         True                   False        84.935844   \n",
      "\n",
      "fuente fuente_seleccionada  \n",
      "0                   FISCAL  \n",
      "1                   FISCAL  \n",
      "2                    SCADA  \n",
      "3                    SCADA  \n",
      "4                    SCADA  \n"
     ]
    }
   ],
   "source": [
    "print(f\"  - Registros resueltos: {pivot_fuentes['fuente_seleccionada'].notna().sum()}\")\n",
    "fuente_counts = pivot_fuentes['fuente_seleccionada'].value_counts()\n",
    "print(f\"  - Distribución por fuente: {fuente_counts.to_dict()}\")\n",
    "print(pivot_fuentes.head(5))"
   ]
  },
  {
   "cell_type": "markdown",
   "id": "293c65ad",
   "metadata": {},
   "source": [
    "#### Estrategia 2: Promedio ponderado"
   ]
  },
  {
   "cell_type": "code",
   "execution_count": 18,
   "id": "f1b91e40",
   "metadata": {},
   "outputs": [],
   "source": [
    "pesos = {'FISCAL': 0.6, 'SCADA': 0.3, 'MANUAL': 0.1}"
   ]
  },
  {
   "cell_type": "code",
   "execution_count": 19,
   "id": "3d0770cc",
   "metadata": {},
   "outputs": [],
   "source": [
    "def resolver_por_promedio_ponderado(row):\n",
    "    \"\"\"Calcula promedio ponderado de fuentes disponibles.\"\"\"\n",
    "    valores = []\n",
    "    pesos_disponibles = []\n",
    "    \n",
    "    for fuente, peso in pesos.items():\n",
    "        if not pd.isna(row[fuente]):\n",
    "            valores.append(row[fuente])\n",
    "            pesos_disponibles.append(peso)\n",
    "    \n",
    "    if valores:\n",
    "        # Normalizar pesos\n",
    "        suma_pesos = sum(pesos_disponibles)\n",
    "        pesos_norm = [p/suma_pesos for p in pesos_disponibles]\n",
    "        return sum(v*p for v, p in zip(valores, pesos_norm))\n",
    "    return np.nan"
   ]
  },
  {
   "cell_type": "code",
   "execution_count": 20,
   "id": "bf9e65a6",
   "metadata": {},
   "outputs": [],
   "source": [
    "pivot_fuentes['valor_promedio_ponderado'] = pivot_fuentes.apply(\n",
    "    resolver_por_promedio_ponderado, axis=1\n",
    ")"
   ]
  },
  {
   "cell_type": "code",
   "execution_count": 21,
   "id": "5b2b8682",
   "metadata": {},
   "outputs": [
    {
     "name": "stdout",
     "output_type": "stream",
     "text": [
      "  - Registros con promedio calculado: 21\n",
      "fuente      fecha pozo_id      FISCAL      MANUAL       SCADA  \\\n",
      "0      2024-01-01   PZ001  152.192660  158.219025  152.483571   \n",
      "1      2024-01-01   PZ002   89.329178   70.124311   97.615149   \n",
      "2      2024-01-01   PZ003         NaN  238.947429  237.652628   \n",
      "3      2024-01-02   PZ001         NaN  157.507859  147.671351   \n",
      "4      2024-01-02   PZ002         NaN  900.000000   84.935844   \n",
      "\n",
      "fuente  diff_scada_manual  diff_scada_fiscal  diff_manual_fiscal  \\\n",
      "0                5.735454           0.290911            6.026365   \n",
      "1               27.490838           8.285971           19.204867   \n",
      "2                1.294801                NaN                 NaN   \n",
      "3                9.836508                NaN                 NaN   \n",
      "4              815.064156                NaN                 NaN   \n",
      "\n",
      "fuente  conflicto_scada_manual  conflicto_scada_fiscal  valor_jerarquia  \\\n",
      "0                        False                   False       152.192660   \n",
      "1                         True                   False        89.329178   \n",
      "2                        False                   False       237.652628   \n",
      "3                        False                   False       147.671351   \n",
      "4                         True                   False        84.935844   \n",
      "\n",
      "fuente fuente_seleccionada  valor_promedio_ponderado  \n",
      "0                   FISCAL                152.882569  \n",
      "1                   FISCAL                 89.894483  \n",
      "2                    SCADA                237.976328  \n",
      "3                    SCADA                150.130478  \n",
      "4                    SCADA                288.701883  \n"
     ]
    }
   ],
   "source": [
    "\n",
    "print(f\"  - Registros con promedio calculado: {pivot_fuentes['valor_promedio_ponderado'].notna().sum()}\")\n",
    "print(pivot_fuentes.head(5))"
   ]
  },
  {
   "cell_type": "markdown",
   "id": "191450eb",
   "metadata": {},
   "source": [
    "#### Estrategia 3: Validación cruzada con umbrales"
   ]
  },
  {
   "cell_type": "code",
   "execution_count": 22,
   "id": "bc8e4f3c",
   "metadata": {},
   "outputs": [],
   "source": [
    "def resolver_por_validacion_cruzada(row):\n",
    "    \"\"\"Usa consenso entre fuentes o rechaza outliers.\"\"\"\n",
    "    valores_disponibles = []\n",
    "    fuentes_disponibles = []\n",
    "    \n",
    "    for fuente in ['FISCAL', 'SCADA', 'MANUAL']:\n",
    "        if not pd.isna(row[fuente]):\n",
    "            valores_disponibles.append(row[fuente])\n",
    "            fuentes_disponibles.append(fuente)\n",
    "    \n",
    "    if len(valores_disponibles) < 2:\n",
    "        return valores_disponibles[0] if valores_disponibles else np.nan, fuentes_disponibles[0] if fuentes_disponibles else 'NINGUNA'\n",
    "    \n",
    "    # Si tenemos múltiples valores, verificar consenso\n",
    "    promedio = np.mean(valores_disponibles)\n",
    "    valores_validos = []\n",
    "    fuentes_validas = []\n",
    "    \n",
    "    # Umbral de desviación del 15%\n",
    "    umbral = 0.15\n",
    "    for valor, fuente in zip(valores_disponibles, fuentes_disponibles):\n",
    "        desviacion = abs(valor - promedio) / promedio\n",
    "        if desviacion <= umbral:\n",
    "            valores_validos.append(valor)\n",
    "            fuentes_validas.append(fuente)\n",
    "    \n",
    "    if valores_validos:\n",
    "        # Usar promedio de valores válidos\n",
    "        return np.mean(valores_validos), '+'.join(fuentes_validas)\n",
    "    else:\n",
    "        # Si no hay consenso, usar fuente más confiable\n",
    "        return row['FISCAL'] if not pd.isna(row['FISCAL']) else row['SCADA'], 'FISCAL' if not pd.isna(row['FISCAL']) else 'SCADA'\n"
   ]
  },
  {
   "cell_type": "code",
   "execution_count": 23,
   "id": "94648669",
   "metadata": {},
   "outputs": [],
   "source": [
    "pivot_fuentes[['valor_validacion_cruzada', 'fuentes_validacion']] = pivot_fuentes.apply(\n",
    "    resolver_por_validacion_cruzada, axis=1, result_type='expand'\n",
    ")"
   ]
  },
  {
   "cell_type": "code",
   "execution_count": 32,
   "id": "2ec4d947",
   "metadata": {},
   "outputs": [
    {
     "name": "stdout",
     "output_type": "stream",
     "text": [
      "  - Registros validados: 21\n",
      "  - Distribución de fuentes usadas: {'SCADA+MANUAL': 12, 'FISCAL+SCADA+MANUAL': 7, 'FISCAL+SCADA': 1, 'SCADA': 1}\n",
      "fuente      fecha pozo_id      FISCAL      MANUAL       SCADA  \\\n",
      "0      2024-01-01   PZ001  152.192660  158.219025  152.483571   \n",
      "1      2024-01-01   PZ002   89.329178   70.124311   97.615149   \n",
      "2      2024-01-01   PZ003         NaN  238.947429  237.652628   \n",
      "\n",
      "fuente  diff_scada_manual  diff_scada_fiscal  diff_manual_fiscal  \\\n",
      "0                5.735454           0.290911            6.026365   \n",
      "1               27.490838           8.285971           19.204867   \n",
      "2                1.294801                NaN                 NaN   \n",
      "\n",
      "fuente  conflicto_scada_manual  conflicto_scada_fiscal  valor_jerarquia  \\\n",
      "0                        False                   False       152.192660   \n",
      "1                         True                   False        89.329178   \n",
      "2                        False                   False       237.652628   \n",
      "\n",
      "fuente fuente_seleccionada  valor_promedio_ponderado  \\\n",
      "0                   FISCAL                152.882569   \n",
      "1                   FISCAL                 89.894483   \n",
      "2                    SCADA                237.976328   \n",
      "\n",
      "fuente  valor_validacion_cruzada   fuentes_validacion  \n",
      "0                     154.298418  FISCAL+SCADA+MANUAL  \n",
      "1                      93.472164         FISCAL+SCADA  \n",
      "2                     238.300028         SCADA+MANUAL  \n"
     ]
    }
   ],
   "source": [
    "\n",
    "print(f\"  - Registros validados: {pivot_fuentes['fuentes_validacion'].notna().sum()}\")\n",
    "validacion_counts = pivot_fuentes['fuentes_validacion'].value_counts()\n",
    "print(f\"  - Distribución de fuentes usadas: {validacion_counts.head().to_dict()}\")\n",
    "print(pivot_fuentes.head(3))"
   ]
  },
  {
   "cell_type": "markdown",
   "id": "b4b86df1",
   "metadata": {},
   "source": [
    "#### 4. COMPARACIÓN DE ESTRATEGIAS"
   ]
  },
  {
   "cell_type": "code",
   "execution_count": 33,
   "id": "c43b6dde",
   "metadata": {},
   "outputs": [],
   "source": [
    "# Calcular métricas de comparación\n",
    "estrategias = {\n",
    "    'Jerarquía': 'valor_jerarquia',\n",
    "    'Promedio Ponderado': 'valor_promedio_ponderado', \n",
    "    'Validación Cruzada': 'valor_validacion_cruzada'\n",
    "}\n"
   ]
  },
  {
   "cell_type": "code",
   "execution_count": 34,
   "id": "02137b41",
   "metadata": {},
   "outputs": [
    {
     "name": "stdout",
     "output_type": "stream",
     "text": [
      "✓ Estadísticas por estrategia:\n",
      "\n",
      "  Jerarquía:\n",
      "    - Registros completos: 21\n",
      "    - Promedio: 158.77\n",
      "    - Desviación estándar: 63.78\n",
      "    - Rango: 84.94 - 244.88\n",
      "\n",
      "  Promedio Ponderado:\n",
      "    - Registros completos: 21\n",
      "    - Promedio: 169.59\n",
      "    - Desviación estándar: 67.37\n",
      "    - Rango: 84.45 - 288.70\n",
      "\n",
      "  Validación Cruzada:\n",
      "    - Registros completos: 21\n",
      "    - Promedio: 161.37\n",
      "    - Desviación estándar: 64.02\n",
      "    - Rango: 83.10 - 246.04\n",
      "\n",
      "✓ Diferencias entre estrategias:\n",
      "  - Jerarquía vs Promedio: 11.58 bpd promedio\n",
      "  - Jerarquía vs Validación: 4.07 bpd promedio\n",
      "  - Promedio vs Validación: 11.94 bpd promedio\n",
      "\n"
     ]
    }
   ],
   "source": [
    "print(\"✓ Estadísticas por estrategia:\")\n",
    "for nombre, columna in estrategias.items():\n",
    "    datos_validos = pivot_fuentes[columna].dropna()\n",
    "    print(f\"\\n  {nombre}:\")\n",
    "    print(f\"    - Registros completos: {len(datos_validos)}\")\n",
    "    print(f\"    - Promedio: {datos_validos.mean():.2f}\")\n",
    "    print(f\"    - Desviación estándar: {datos_validos.std():.2f}\")\n",
    "    print(f\"    - Rango: {datos_validos.min():.2f} - {datos_validos.max():.2f}\")\n",
    "\n",
    "# Calcular diferencias entre estrategias\n",
    "print(\"\\n✓ Diferencias entre estrategias:\")\n",
    "diff_j_p = (pivot_fuentes['valor_jerarquia'] - pivot_fuentes['valor_promedio_ponderado']).abs().mean()\n",
    "diff_j_v = (pivot_fuentes['valor_jerarquia'] - pivot_fuentes['valor_validacion_cruzada']).abs().mean()\n",
    "diff_p_v = (pivot_fuentes['valor_promedio_ponderado'] - pivot_fuentes['valor_validacion_cruzada']).abs().mean()\n",
    "\n",
    "print(f\"  - Jerarquía vs Promedio: {diff_j_p:.2f} bpd promedio\")\n",
    "print(f\"  - Jerarquía vs Validación: {diff_j_v:.2f} bpd promedio\")\n",
    "print(f\"  - Promedio vs Validación: {diff_p_v:.2f} bpd promedio\")\n",
    "print()"
   ]
  },
  {
   "cell_type": "markdown",
   "id": "f0655ace",
   "metadata": {},
   "source": [
    "#### 5. IMPLEMENTACIÓN DE REGLAS AUTOMÁTICAS"
   ]
  },
  {
   "cell_type": "code",
   "execution_count": 37,
   "id": "78e1de07",
   "metadata": {},
   "outputs": [],
   "source": [
    "def resolver_automatico(row):\n",
    "    \"\"\"\n",
    "    Implementa lógica automática para resolver conflictos:\n",
    "    1. Si existe FISCAL, usarlo (máxima confiabilidad)\n",
    "    2. Si SCADA y MANUAL coinciden (±10%), usar promedio\n",
    "    3. Si difieren significativamente, validar contra patrones históricos\n",
    "    4. En caso de duda, usar SCADA (más frecuente y consistente)\n",
    "    \"\"\"\n",
    "    \n",
    "    # Regla 1: FISCAL tiene prioridad absoluta\n",
    "    if not pd.isna(row['FISCAL']):\n",
    "        return row['FISCAL'], 'FISCAL_DIRECTO'\n",
    "    \n",
    "    # Regla 2: Consenso SCADA-MANUAL\n",
    "    if not pd.isna(row['SCADA']) and not pd.isna(row['MANUAL']):\n",
    "        diff_pct = abs(row['SCADA'] - row['MANUAL']) / max(row['SCADA'], row['MANUAL'])\n",
    "        if diff_pct <= 0.10:  # Diferencia menor al 10%\n",
    "            return (row['SCADA'] + row['MANUAL']) / 2, 'CONSENSO_SM'\n",
    "        else:\n",
    "            # Validar contra rango esperado del pozo\n",
    "            rangos_esperados = {\n",
    "                'PZ001': (140, 160),\n",
    "                'PZ002': (80, 100),\n",
    "                'PZ003': (220, 250)\n",
    "            }\n",
    "            rango = rangos_esperados.get(row['pozo_id'], (0, 1000))\n",
    "            \n",
    "            scada_valido = rango[0] <= row['SCADA'] <= rango[1]\n",
    "            manual_valido = rango[0] <= row['MANUAL'] <= rango[1]\n",
    "            \n",
    "            if scada_valido and not manual_valido:\n",
    "                return row['SCADA'], 'SCADA_VALIDADO'\n",
    "            elif manual_valido and not scada_valido:\n",
    "                return row['MANUAL'], 'MANUAL_VALIDADO'\n",
    "            else:\n",
    "                # Ambos válidos o ambos inválidos: preferir SCADA\n",
    "                return row['SCADA'], 'SCADA_PREFERENCIA'\n",
    "    \n",
    "    # Regla 3: Solo una fuente disponible\n",
    "    if not pd.isna(row['SCADA']):\n",
    "        return row['SCADA'], 'SCADA_UNICO'\n",
    "    elif not pd.isna(row['MANUAL']):\n",
    "        return row['MANUAL'], 'MANUAL_UNICO'\n",
    "    \n",
    "    return np.nan, 'SIN_DATOS'"
   ]
  },
  {
   "cell_type": "code",
   "execution_count": 38,
   "id": "7c5eb66b",
   "metadata": {},
   "outputs": [],
   "source": [
    "pivot_fuentes[['valor_automatico', 'metodo_automatico']] = pivot_fuentes.apply(\n",
    "    resolver_automatico, axis=1, result_type='expand'\n",
    ")"
   ]
  },
  {
   "cell_type": "code",
   "execution_count": 39,
   "id": "667feea0",
   "metadata": {},
   "outputs": [
    {
     "name": "stdout",
     "output_type": "stream",
     "text": [
      "✓ Resolución automática completada:\n",
      "  - CONSENSO_SM: 10 casos\n",
      "  - FISCAL_DIRECTO: 8 casos\n",
      "  - SCADA_VALIDADO: 3 casos\n",
      "\n"
     ]
    }
   ],
   "source": [
    "\n",
    "print(\"✓ Resolución automática completada:\")\n",
    "metodo_counts = pivot_fuentes['metodo_automatico'].value_counts()\n",
    "for metodo, count in metodo_counts.items():\n",
    "    print(f\"  - {metodo}: {count} casos\")\n",
    "print()"
   ]
  },
  {
   "cell_type": "markdown",
   "id": "e184b76d",
   "metadata": {},
   "source": [
    "#### 6. VISUALIZACIÓN DE RESULTADOS"
   ]
  },
  {
   "cell_type": "code",
   "execution_count": 40,
   "id": "fbca5af3",
   "metadata": {},
   "outputs": [
    {
     "data": {
      "image/png": "[encoded data removed]",
      "text/plain": [
       "<Figure size 1600x1200 with 4 Axes>"
      ]
     },
     "metadata": {},
     "output_type": "display_data"
    }
   ],
   "source": [
    "fig, axes = plt.subplots(2, 2, figsize=(16, 12))\n",
    "fig.suptitle('Resolución de Conflictos entre Fuentes de Datos', fontsize=16, y=0.98)\n",
    "\n",
    "# Gráfico 1: Comparación de fuentes para PZ001\n",
    "pz001_data = pivot_fuentes[pivot_fuentes['pozo_id'] == 'PZ001'].copy()\n",
    "ax1 = axes[0, 0]\n",
    "x_pos = range(len(pz001_data))\n",
    "\n",
    "if not pz001_data.empty:\n",
    "    ax1.plot(x_pos, pz001_data['SCADA'], 'b-o', label='SCADA', linewidth=2)\n",
    "    ax1.plot(x_pos, pz001_data['MANUAL'], 'r-s', label='MANUAL', linewidth=2)\n",
    "    fiscal_data = pz001_data['FISCAL'].dropna()\n",
    "    if not fiscal_data.empty:\n",
    "        fiscal_x = [i for i, v in enumerate(pz001_data['FISCAL']) if not pd.isna(v)]\n",
    "        ax1.plot(fiscal_x, fiscal_data, 'g-^', label='FISCAL', linewidth=3, markersize=8)\n",
    "    \n",
    "    ax1.set_xlabel('Día')\n",
    "    ax1.set_ylabel('Producción (bpd)')\n",
    "    ax1.set_title('PZ001 - Comparación de Fuentes')\n",
    "    ax1.legend()\n",
    "    ax1.grid(True, alpha=0.3)\n",
    "    \n",
    "    # Marcar conflictos\n",
    "    conflictos = pz001_data['conflicto_scada_manual']\n",
    "    for i, conflicto in enumerate(conflictos):\n",
    "        if conflicto:\n",
    "            ax1.axvspan(i-0.3, i+0.3, alpha=0.3, color='yellow', label='Conflicto' if i == conflictos.idxmax() else \"\")\n",
    "\n",
    "# Gráfico 2: Distribución de diferencias\n",
    "ax2 = axes[0, 1]\n",
    "diferencias = pivot_fuentes['diff_scada_manual'].dropna()\n",
    "if not diferencias.empty:\n",
    "    ax2.hist(diferencias, bins=15, alpha=0.7, color='skyblue', edgecolor='black')\n",
    "    ax2.axvline(diferencias.mean(), color='red', linestyle='--', linewidth=2, label=f'Media: {diferencias.mean():.1f}')\n",
    "    ax2.set_xlabel('Diferencia Absoluta (bpd)')\n",
    "    ax2.set_ylabel('Frecuencia')\n",
    "    ax2.set_title('Distribución de Diferencias SCADA vs MANUAL')\n",
    "    ax2.legend()\n",
    "    ax2.grid(True, alpha=0.3)\n",
    "\n",
    "# Gráfico 3: Comparación de estrategias\n",
    "ax3 = axes[1, 0]\n",
    "estrategias_data = []\n",
    "for nombre, columna in estrategias.items():\n",
    "    valores = pivot_fuentes[columna].dropna()\n",
    "    if not valores.empty:\n",
    "        estrategias_data.extend([(nombre, v) for v in valores])\n",
    "\n",
    "if estrategias_data:\n",
    "    estrategias_df = pd.DataFrame(estrategias_data, columns=['Estrategia', 'Valor'])\n",
    "    sns.boxplot(data=estrategias_df, x='Estrategia', y='Valor', ax=ax3)\n",
    "    ax3.set_title('Distribución de Valores por Estrategia')\n",
    "    ax3.set_ylabel('Producción (bpd)')\n",
    "    ax3.tick_params(axis='x', rotation=45)\n",
    "\n",
    "# Gráfico 4: Métodos de resolución automática\n",
    "ax4 = axes[1, 1]\n",
    "metodo_counts = pivot_fuentes['metodo_automatico'].value_counts()\n",
    "if not metodo_counts.empty:\n",
    "    bars = ax4.bar(range(len(metodo_counts)), metodo_counts.values)\n",
    "    ax4.set_xticks(range(len(metodo_counts)))\n",
    "    ax4.set_xticklabels(metodo_counts.index, rotation=45, ha='right')\n",
    "    ax4.set_ylabel('Número de Casos')\n",
    "    ax4.set_title('Distribución de Métodos de Resolución')\n",
    "    \n",
    "    # Colorear barras según el tipo de método\n",
    "    colors = ['green', 'blue', 'orange', 'red', 'purple', 'brown', 'gray']\n",
    "    for bar, color in zip(bars, colors):\n",
    "        bar.set_color(color)\n",
    "\n",
    "plt.tight_layout()"
   ]
  },
  {
   "cell_type": "code",
   "execution_count": 41,
   "id": "fc903705",
   "metadata": {},
   "outputs": [
    {
     "name": "stdout",
     "output_type": "stream",
     "text": [
      "✓ Gráficos guardados en: ../datos/demo_02_conflictos.png\n"
     ]
    },
    {
     "data": {
      "text/plain": [
       "<Figure size 640x480 with 0 Axes>"
      ]
     },
     "metadata": {},
     "output_type": "display_data"
    }
   ],
   "source": [
    "plt.savefig('../datos/demo_02_conflictos.png', dpi=300, bbox_inches='tight')\n",
    "print(\"✓ Gráficos guardados en: ../datos/demo_02_conflictos.png\")\n"
   ]
  },
  {
   "cell_type": "markdown",
   "id": "30dd5195",
   "metadata": {},
   "source": [
    "#### 7. EXPORTACIÓN DE RESULTADOS"
   ]
  },
  {
   "cell_type": "code",
   "execution_count": 42,
   "id": "6a9de57e",
   "metadata": {},
   "outputs": [],
   "source": [
    "# Dataset final con resolución automática\n",
    "dataset_final = pivot_fuentes[['fecha', 'pozo_id', 'valor_automatico', 'metodo_automatico']].copy()\n",
    "dataset_final.rename(columns={\n",
    "    'valor_automatico': 'produccion_crudo_bpd',\n",
    "    'metodo_automatico': 'metodo_resolucion'\n",
    "}, inplace=True)\n"
   ]
  },
  {
   "cell_type": "code",
   "execution_count": 43,
   "id": "a001ee14",
   "metadata": {},
   "outputs": [],
   "source": [
    "# Agregar métricas de calidad\n",
    "dataset_final['numero_fuentes_disponibles'] = (\n",
    "    pivot_fuentes[['SCADA', 'MANUAL', 'FISCAL']].notna().sum(axis=1)\n",
    ")"
   ]
  },
  {
   "cell_type": "code",
   "execution_count": 44,
   "id": "0473142a",
   "metadata": {},
   "outputs": [],
   "source": [
    "dataset_final['confiabilidad'] = dataset_final['metodo_resolucion'].map({\n",
    "    'FISCAL_DIRECTO': 'Muy Alta',\n",
    "    'CONSENSO_SM': 'Alta',\n",
    "    'SCADA_VALIDADO': 'Alta',\n",
    "    'MANUAL_VALIDADO': 'Media',\n",
    "    'SCADA_PREFERENCIA': 'Media',\n",
    "    'SCADA_UNICO': 'Media',\n",
    "    'MANUAL_UNICO': 'Baja',\n",
    "    'SIN_DATOS': 'Sin Datos'\n",
    "})"
   ]
  },
  {
   "cell_type": "code",
   "execution_count": 48,
   "id": "a00d3155",
   "metadata": {},
   "outputs": [
    {
     "data": {
      "text/html": [
       "<div>\n",
       "<style scoped>\n",
       "    .dataframe tbody tr th:only-of-type {\n",
       "        vertical-align: middle;\n",
       "    }\n",
       "\n",
       "    .dataframe tbody tr th {\n",
       "        vertical-align: top;\n",
       "    }\n",
       "\n",
       "    .dataframe thead th {\n",
       "        text-align: right;\n",
       "    }\n",
       "</style>\n",
       "<table border=\"1\" class=\"dataframe\">\n",
       "  <thead>\n",
       "    <tr style=\"text-align: right;\">\n",
       "      <th>fuente</th>\n",
       "      <th>fecha</th>\n",
       "      <th>pozo_id</th>\n",
       "      <th>produccion_crudo_bpd</th>\n",
       "      <th>metodo_resolucion</th>\n",
       "      <th>numero_fuentes_disponibles</th>\n",
       "      <th>confiabilidad</th>\n",
       "    </tr>\n",
       "  </thead>\n",
       "  <tbody>\n",
       "    <tr>\n",
       "      <th>0</th>\n",
       "      <td>2024-01-01</td>\n",
       "      <td>PZ001</td>\n",
       "      <td>152.192660</td>\n",
       "      <td>FISCAL_DIRECTO</td>\n",
       "      <td>3</td>\n",
       "      <td>Muy Alta</td>\n",
       "    </tr>\n",
       "    <tr>\n",
       "      <th>1</th>\n",
       "      <td>2024-01-01</td>\n",
       "      <td>PZ002</td>\n",
       "      <td>89.329178</td>\n",
       "      <td>FISCAL_DIRECTO</td>\n",
       "      <td>3</td>\n",
       "      <td>Muy Alta</td>\n",
       "    </tr>\n",
       "    <tr>\n",
       "      <th>2</th>\n",
       "      <td>2024-01-01</td>\n",
       "      <td>PZ003</td>\n",
       "      <td>238.300028</td>\n",
       "      <td>CONSENSO_SM</td>\n",
       "      <td>2</td>\n",
       "      <td>Alta</td>\n",
       "    </tr>\n",
       "    <tr>\n",
       "      <th>3</th>\n",
       "      <td>2024-01-02</td>\n",
       "      <td>PZ001</td>\n",
       "      <td>152.589605</td>\n",
       "      <td>CONSENSO_SM</td>\n",
       "      <td>2</td>\n",
       "      <td>Alta</td>\n",
       "    </tr>\n",
       "    <tr>\n",
       "      <th>4</th>\n",
       "      <td>2024-01-02</td>\n",
       "      <td>PZ002</td>\n",
       "      <td>84.935844</td>\n",
       "      <td>SCADA_VALIDADO</td>\n",
       "      <td>2</td>\n",
       "      <td>Alta</td>\n",
       "    </tr>\n",
       "  </tbody>\n",
       "</table>\n",
       "</div>"
      ],
      "text/plain": [
       "fuente      fecha pozo_id  produccion_crudo_bpd metodo_resolucion  \\\n",
       "0      2024-01-01   PZ001            152.192660    FISCAL_DIRECTO   \n",
       "1      2024-01-01   PZ002             89.329178    FISCAL_DIRECTO   \n",
       "2      2024-01-01   PZ003            238.300028       CONSENSO_SM   \n",
       "3      2024-01-02   PZ001            152.589605       CONSENSO_SM   \n",
       "4      2024-01-02   PZ002             84.935844    SCADA_VALIDADO   \n",
       "\n",
       "fuente  numero_fuentes_disponibles confiabilidad  \n",
       "0                                3      Muy Alta  \n",
       "1                                3      Muy Alta  \n",
       "2                                2          Alta  \n",
       "3                                2          Alta  \n",
       "4                                2          Alta  "
      ]
     },
     "execution_count": 48,
     "metadata": {},
     "output_type": "execute_result"
    }
   ],
   "source": [
    "(dataset_final.head())"
   ]
  },
  {
   "cell_type": "code",
   "execution_count": null,
   "id": "bfa33838",
   "metadata": {},
   "outputs": [],
   "source": [
    "dataset_final.to_csv('../datos/produccion_conflictos_resueltos.csv', index=False)\n",
    "print(\"✓ Dataset final guardado: ../datos/produccion_conflictos_resueltos.csv\")\n"
   ]
  },
  {
   "cell_type": "code",
   "execution_count": 47,
   "id": "56ab8440",
   "metadata": {},
   "outputs": [
    {
     "data": {
      "text/html": [
       "<div>\n",
       "<style scoped>\n",
       "    .dataframe tbody tr th:only-of-type {\n",
       "        vertical-align: middle;\n",
       "    }\n",
       "\n",
       "    .dataframe tbody tr th {\n",
       "        vertical-align: top;\n",
       "    }\n",
       "\n",
       "    .dataframe thead th {\n",
       "        text-align: right;\n",
       "    }\n",
       "</style>\n",
       "<table border=\"1\" class=\"dataframe\">\n",
       "  <thead>\n",
       "    <tr style=\"text-align: right;\">\n",
       "      <th>fuente</th>\n",
       "      <th>fecha</th>\n",
       "      <th>pozo_id</th>\n",
       "      <th>FISCAL</th>\n",
       "      <th>MANUAL</th>\n",
       "      <th>SCADA</th>\n",
       "      <th>diff_scada_manual</th>\n",
       "      <th>diff_scada_fiscal</th>\n",
       "      <th>diff_manual_fiscal</th>\n",
       "      <th>conflicto_scada_manual</th>\n",
       "      <th>conflicto_scada_fiscal</th>\n",
       "      <th>valor_jerarquia</th>\n",
       "      <th>fuente_seleccionada</th>\n",
       "      <th>valor_promedio_ponderado</th>\n",
       "      <th>valor_validacion_cruzada</th>\n",
       "      <th>fuentes_validacion</th>\n",
       "      <th>valor_automatico</th>\n",
       "      <th>metodo_automatico</th>\n",
       "    </tr>\n",
       "  </thead>\n",
       "  <tbody>\n",
       "    <tr>\n",
       "      <th>1</th>\n",
       "      <td>2024-01-01</td>\n",
       "      <td>PZ002</td>\n",
       "      <td>89.329178</td>\n",
       "      <td>70.124311</td>\n",
       "      <td>97.615149</td>\n",
       "      <td>27.490838</td>\n",
       "      <td>8.285971</td>\n",
       "      <td>19.204867</td>\n",
       "      <td>True</td>\n",
       "      <td>False</td>\n",
       "      <td>89.329178</td>\n",
       "      <td>FISCAL</td>\n",
       "      <td>89.894483</td>\n",
       "      <td>93.472164</td>\n",
       "      <td>FISCAL+SCADA</td>\n",
       "      <td>89.329178</td>\n",
       "      <td>FISCAL_DIRECTO</td>\n",
       "    </tr>\n",
       "    <tr>\n",
       "      <th>4</th>\n",
       "      <td>2024-01-02</td>\n",
       "      <td>PZ002</td>\n",
       "      <td>NaN</td>\n",
       "      <td>900.000000</td>\n",
       "      <td>84.935844</td>\n",
       "      <td>815.064156</td>\n",
       "      <td>NaN</td>\n",
       "      <td>NaN</td>\n",
       "      <td>True</td>\n",
       "      <td>False</td>\n",
       "      <td>84.935844</td>\n",
       "      <td>SCADA</td>\n",
       "      <td>288.701883</td>\n",
       "      <td>84.935844</td>\n",
       "      <td>SCADA</td>\n",
       "      <td>84.935844</td>\n",
       "      <td>SCADA_VALIDADO</td>\n",
       "    </tr>\n",
       "    <tr>\n",
       "      <th>9</th>\n",
       "      <td>2024-01-04</td>\n",
       "      <td>PZ001</td>\n",
       "      <td>NaN</td>\n",
       "      <td>171.904556</td>\n",
       "      <td>144.711445</td>\n",
       "      <td>27.193111</td>\n",
       "      <td>NaN</td>\n",
       "      <td>NaN</td>\n",
       "      <td>True</td>\n",
       "      <td>False</td>\n",
       "      <td>144.711445</td>\n",
       "      <td>SCADA</td>\n",
       "      <td>151.509723</td>\n",
       "      <td>158.308001</td>\n",
       "      <td>SCADA+MANUAL</td>\n",
       "      <td>144.711445</td>\n",
       "      <td>SCADA_VALIDADO</td>\n",
       "    </tr>\n",
       "    <tr>\n",
       "      <th>13</th>\n",
       "      <td>2024-01-05</td>\n",
       "      <td>PZ002</td>\n",
       "      <td>88.498476</td>\n",
       "      <td>101.907273</td>\n",
       "      <td>86.400779</td>\n",
       "      <td>15.506494</td>\n",
       "      <td>2.097697</td>\n",
       "      <td>13.408796</td>\n",
       "      <td>True</td>\n",
       "      <td>False</td>\n",
       "      <td>88.498476</td>\n",
       "      <td>FISCAL</td>\n",
       "      <td>89.210047</td>\n",
       "      <td>92.268843</td>\n",
       "      <td>FISCAL+SCADA+MANUAL</td>\n",
       "      <td>88.498476</td>\n",
       "      <td>FISCAL_DIRECTO</td>\n",
       "    </tr>\n",
       "    <tr>\n",
       "      <th>15</th>\n",
       "      <td>2024-01-06</td>\n",
       "      <td>PZ001</td>\n",
       "      <td>NaN</td>\n",
       "      <td>130.654298</td>\n",
       "      <td>153.058381</td>\n",
       "      <td>22.404083</td>\n",
       "      <td>NaN</td>\n",
       "      <td>NaN</td>\n",
       "      <td>True</td>\n",
       "      <td>False</td>\n",
       "      <td>153.058381</td>\n",
       "      <td>SCADA</td>\n",
       "      <td>147.457361</td>\n",
       "      <td>141.856340</td>\n",
       "      <td>SCADA+MANUAL</td>\n",
       "      <td>153.058381</td>\n",
       "      <td>SCADA_VALIDADO</td>\n",
       "    </tr>\n",
       "  </tbody>\n",
       "</table>\n",
       "</div>"
      ],
      "text/plain": [
       "fuente      fecha pozo_id     FISCAL      MANUAL       SCADA  \\\n",
       "1      2024-01-01   PZ002  89.329178   70.124311   97.615149   \n",
       "4      2024-01-02   PZ002        NaN  900.000000   84.935844   \n",
       "9      2024-01-04   PZ001        NaN  171.904556  144.711445   \n",
       "13     2024-01-05   PZ002  88.498476  101.907273   86.400779   \n",
       "15     2024-01-06   PZ001        NaN  130.654298  153.058381   \n",
       "\n",
       "fuente  diff_scada_manual  diff_scada_fiscal  diff_manual_fiscal  \\\n",
       "1               27.490838           8.285971           19.204867   \n",
       "4              815.064156                NaN                 NaN   \n",
       "9               27.193111                NaN                 NaN   \n",
       "13              15.506494           2.097697           13.408796   \n",
       "15              22.404083                NaN                 NaN   \n",
       "\n",
       "fuente  conflicto_scada_manual  conflicto_scada_fiscal  valor_jerarquia  \\\n",
       "1                         True                   False        89.329178   \n",
       "4                         True                   False        84.935844   \n",
       "9                         True                   False       144.711445   \n",
       "13                        True                   False        88.498476   \n",
       "15                        True                   False       153.058381   \n",
       "\n",
       "fuente fuente_seleccionada  valor_promedio_ponderado  \\\n",
       "1                   FISCAL                 89.894483   \n",
       "4                    SCADA                288.701883   \n",
       "9                    SCADA                151.509723   \n",
       "13                  FISCAL                 89.210047   \n",
       "15                   SCADA                147.457361   \n",
       "\n",
       "fuente  valor_validacion_cruzada   fuentes_validacion  valor_automatico  \\\n",
       "1                      93.472164         FISCAL+SCADA         89.329178   \n",
       "4                      84.935844                SCADA         84.935844   \n",
       "9                     158.308001         SCADA+MANUAL        144.711445   \n",
       "13                     92.268843  FISCAL+SCADA+MANUAL         88.498476   \n",
       "15                    141.856340         SCADA+MANUAL        153.058381   \n",
       "\n",
       "fuente metodo_automatico  \n",
       "1         FISCAL_DIRECTO  \n",
       "4         SCADA_VALIDADO  \n",
       "9         SCADA_VALIDADO  \n",
       "13        FISCAL_DIRECTO  \n",
       "15        SCADA_VALIDADO  "
      ]
     },
     "execution_count": 47,
     "metadata": {},
     "output_type": "execute_result"
    }
   ],
   "source": [
    "# Reporte de conflictos detectados\n",
    "reporte_conflictos = pivot_fuentes[\n",
    "    pivot_fuentes['conflicto_scada_manual'] | pivot_fuentes['conflicto_scada_fiscal']\n",
    "].copy()\n",
    "reporte_conflictos.head()"
   ]
  },
  {
   "cell_type": "code",
   "execution_count": null,
   "id": "0f412ca0",
   "metadata": {},
   "outputs": [],
   "source": [
    "\n",
    "if not reporte_conflictos.empty:\n",
    "    reporte_conflictos.to_csv('../datos/reporte_conflictos_detectados.csv', index=False)\n",
    "    print(\"✓ Reporte de conflictos guardado: ../datos/reporte_conflictos_detectados.csv\")\n",
    "print()"
   ]
  },
  {
   "cell_type": "markdown",
   "id": "9582fcfc",
   "metadata": {},
   "source": [
    "#### 8. RESUMEN EJECUTIVO"
   ]
  },
  {
   "cell_type": "code",
   "execution_count": 50,
   "id": "2a0bc60c",
   "metadata": {},
   "outputs": [
    {
     "name": "stdout",
     "output_type": "stream",
     "text": [
      "8. RESUMEN EJECUTIVO\n",
      "--------------------------------------------------\n",
      "✓ Resumen de la resolución de conflictos:\n",
      "  • Total de registros procesados: 21\n",
      "  • Registros con conflictos detectados: 6 (28.6%)\n",
      "  • Registros resueltos automáticamente: 21\n",
      "\n",
      "✓ Distribución de confiabilidad final:\n",
      "  • Alta: 13 registros (61.9%)\n",
      "  • Muy Alta: 8 registros (38.1%)\n",
      "\n",
      "✓ Técnicas implementadas:\n",
      "  • Jerarquía de fuentes basada en confiabilidad\n",
      "  • Promedio ponderado con pesos ajustables\n",
      "  • Validación cruzada con umbrales de consenso\n",
      "  • Validación contra rangos históricos esperados\n",
      "  • Resolución automática con reglas de negocio\n",
      "\n"
     ]
    }
   ],
   "source": [
    "print(\"8. RESUMEN EJECUTIVO\")\n",
    "print(\"-\"*50)\n",
    "total_registros = len(pivot_fuentes)\n",
    "registros_con_conflictos = (pivot_fuentes['conflicto_scada_manual'] | \n",
    "                           pivot_fuentes['conflicto_scada_fiscal']).sum()\n",
    "\n",
    "print(f\"✓ Resumen de la resolución de conflictos:\")\n",
    "print(f\"  • Total de registros procesados: {total_registros}\")\n",
    "print(f\"  • Registros con conflictos detectados: {registros_con_conflictos} ({registros_con_conflictos/total_registros*100:.1f}%)\")\n",
    "print(f\"  • Registros resueltos automáticamente: {dataset_final['produccion_crudo_bpd'].notna().sum()}\")\n",
    "print()\n",
    "\n",
    "print(\"✓ Distribución de confiabilidad final:\")\n",
    "conf_counts = dataset_final['confiabilidad'].value_counts()\n",
    "for nivel, count in conf_counts.items():\n",
    "    print(f\"  • {nivel}: {count} registros ({count/len(dataset_final)*100:.1f}%)\")\n",
    "print()\n",
    "\n",
    "print(\"✓ Técnicas implementadas:\")\n",
    "print(\"  • Jerarquía de fuentes basada en confiabilidad\")\n",
    "print(\"  • Promedio ponderado con pesos ajustables\")\n",
    "print(\"  • Validación cruzada con umbrales de consenso\")\n",
    "print(\"  • Validación contra rangos históricos esperados\")\n",
    "print(\"  • Resolución automática con reglas de negocio\")\n",
    "print()"
   ]
  }
 ],
 "metadata": {
  "kernelspec": {
   "display_name": "base",
   "language": "python",
   "name": "python3"
  },
  "language_info": {
   "codemirror_mode": {
    "name": "ipython",
    "version": 3
   },
   "file_extension": ".py",
   "mimetype": "text/x-python",
   "name": "python",
   "nbconvert_exporter": "python",
   "pygments_lexer": "ipython3",
   "version": "3.11.9"
  }
 },
 "nbformat": 4,
 "nbformat_minor": 5
}
