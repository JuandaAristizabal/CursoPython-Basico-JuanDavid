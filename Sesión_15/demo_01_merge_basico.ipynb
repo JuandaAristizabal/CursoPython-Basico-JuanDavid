{
 "cells": [
  {
   "cell_type": "markdown",
   "id": "cda61683",
   "metadata": {},
   "source": [
    "Sesión 15: Integración de Datos de Múltiples Fuentes\n",
    "Demo 01: Operaciones Básicas de Merge\n",
    "\n",
    "Este demo muestra las técnicas fundamentales para combinar datasets\n",
    "utilizando operaciones de merge (inner, outer, left, right).\n",
    "\n",
    "Autor: AdP Meridian Consulting\n",
    "Fecha: 2024"
   ]
  },
  {
   "cell_type": "code",
   "execution_count": 1,
   "id": "2c620ca5",
   "metadata": {},
   "outputs": [],
   "source": [
    "import pandas as pd\n",
    "import numpy as np\n",
    "import matplotlib.pyplot as plt\n",
    "import seaborn as sns\n",
    "from datetime import datetime\n",
    "import warnings\n",
    "warnings.filterwarnings('ignore')"
   ]
  },
  {
   "cell_type": "markdown",
   "id": "aad81659",
   "metadata": {},
   "source": [
    "## DEMO 01: OPERACIONES BÁSICAS DE MERGE"
   ]
  },
  {
   "cell_type": "markdown",
   "id": "1bedce5c",
   "metadata": {},
   "source": [
    "### 1. CARGA DE DATASETS INDIVIDUALES"
   ]
  },
  {
   "cell_type": "code",
   "execution_count": 3,
   "id": "8032192a",
   "metadata": {},
   "outputs": [
    {
     "name": "stdout",
     "output_type": "stream",
     "text": [
      "✓ Datos de Producción cargados:\n",
      "  - Registros: 35\n",
      "  - Pozos únicos: 5\n",
      "  - Período: 2024-01-01 00:00:00 a 2024-01-07 00:00:00\n",
      "\n"
     ]
    }
   ],
   "source": [
    "# Cargar datos de producción\n",
    "produccion = pd.read_csv('../datos/produccion_pozos.csv')\n",
    "produccion['fecha'] = pd.to_datetime(produccion['fecha'])\n",
    "print(\"✓ Datos de Producción cargados:\")\n",
    "print(f\"  - Registros: {len(produccion)}\")\n",
    "print(f\"  - Pozos únicos: {produccion['pozo_id'].nunique()}\")\n",
    "print(f\"  - Período: {produccion['fecha'].min()} a {produccion['fecha'].max()}\")\n",
    "print()"
   ]
  },
  {
   "cell_type": "code",
   "execution_count": 4,
   "id": "9ab5c200",
   "metadata": {},
   "outputs": [
    {
     "name": "stdout",
     "output_type": "stream",
     "text": [
      "✓ Datos de Mantenimiento cargados:\n",
      "  - Registros: 14\n",
      "  - Pozos únicos: 5\n",
      "  - Tipos de equipo: 7\n",
      "\n"
     ]
    }
   ],
   "source": [
    "# Cargar datos de mantenimiento\n",
    "mantenimiento = pd.read_csv('../datos/mantenimiento_equipos.csv')\n",
    "mantenimiento['fecha_inicio'] = pd.to_datetime(mantenimiento['fecha_inicio'])\n",
    "mantenimiento['fecha_fin'] = pd.to_datetime(mantenimiento['fecha_fin'])\n",
    "print(\"✓ Datos de Mantenimiento cargados:\")\n",
    "print(f\"  - Registros: {len(mantenimiento)}\")\n",
    "print(f\"  - Pozos únicos: {mantenimiento['pozo_id'].nunique()}\")\n",
    "print(f\"  - Tipos de equipo: {mantenimiento['equipo_tipo'].nunique()}\")\n",
    "print()"
   ]
  },
  {
   "cell_type": "markdown",
   "id": "2c721369",
   "metadata": {},
   "source": [
    "### 2. EXPLORACIÓN DE CLAVES DE UNIÓN"
   ]
  },
  {
   "cell_type": "code",
   "execution_count": 5,
   "id": "21086007",
   "metadata": {},
   "outputs": [
    {
     "name": "stdout",
     "output_type": "stream",
     "text": [
      "Columnas en Producción: ['fecha', 'pozo_id', 'produccion_crudo_bpd', 'produccion_gas_mcf', 'presion_cabeza_psi', 'temperatura_c', 'activo']\n",
      "Columnas en Mantenimiento: ['fecha_inicio', 'fecha_fin', 'pozo_id', 'equipo_tipo', 'descripcion_trabajo', 'costo_usd', 'duracion_horas', 'criticidad', 'responsable']\n",
      "\n"
     ]
    }
   ],
   "source": [
    "# Identificar claves potenciales\n",
    "print(\"Columnas en Producción:\", list(produccion.columns))\n",
    "print(\"Columnas en Mantenimiento:\", list(mantenimiento.columns))\n",
    "print()"
   ]
  },
  {
   "cell_type": "code",
   "execution_count": 7,
   "id": "fdb3cf03",
   "metadata": {},
   "outputs": [
    {
     "name": "stdout",
     "output_type": "stream",
     "text": [
      "Análisis de pozos:\n",
      "  - Pozos en producción: ['PZ001', 'PZ002', 'PZ003', 'PZ004', 'PZ005']\n",
      "  - Pozos en mantenimiento: ['PZ001', 'PZ002', 'PZ003', 'PZ004', 'PZ005']\n",
      "  - Pozos comunes: ['PZ001', 'PZ002', 'PZ003', 'PZ004', 'PZ005']\n",
      "  - Solo en producción: []\n",
      "  - Solo en mantenimiento: []\n",
      "\n"
     ]
    }
   ],
   "source": [
    "# Pozos comunes entre datasets\n",
    "pozos_produccion = set(produccion['pozo_id'].unique())\n",
    "pozos_mantenimiento = set(mantenimiento['pozo_id'].unique())\n",
    "print(\"Análisis de pozos:\")\n",
    "print(f\"  - Pozos en producción: {sorted(pozos_produccion)}\")\n",
    "print(f\"  - Pozos en mantenimiento: {sorted(pozos_mantenimiento)}\")\n",
    "print(f\"  - Pozos comunes: {sorted(pozos_produccion & pozos_mantenimiento)}\")\n",
    "print(f\"  - Solo en producción: {sorted(pozos_produccion - pozos_mantenimiento)}\")\n",
    "print(f\"  - Solo en mantenimiento: {sorted(pozos_mantenimiento - pozos_produccion)}\")\n",
    "print()"
   ]
  },
  {
   "cell_type": "markdown",
   "id": "f60bff0b",
   "metadata": {},
   "source": [
    "### 3. MERGE POR POZO_ID (RELACIÓN MUCHOS A MUCHOS)"
   ]
  },
  {
   "cell_type": "code",
   "execution_count": 10,
   "id": "34db357c",
   "metadata": {},
   "outputs": [
    {
     "data": {
      "text/html": [
       "<div>\n",
       "<style scoped>\n",
       "    .dataframe tbody tr th:only-of-type {\n",
       "        vertical-align: middle;\n",
       "    }\n",
       "\n",
       "    .dataframe tbody tr th {\n",
       "        vertical-align: top;\n",
       "    }\n",
       "\n",
       "    .dataframe thead tr th {\n",
       "        text-align: left;\n",
       "    }\n",
       "\n",
       "    .dataframe thead tr:last-of-type th {\n",
       "        text-align: right;\n",
       "    }\n",
       "</style>\n",
       "<table border=\"1\" class=\"dataframe\">\n",
       "  <thead>\n",
       "    <tr>\n",
       "      <th></th>\n",
       "      <th colspan=\"3\" halign=\"left\">produccion_crudo_bpd</th>\n",
       "      <th colspan=\"2\" halign=\"left\">produccion_gas_mcf</th>\n",
       "      <th>presion_cabeza_psi</th>\n",
       "      <th>temperatura_c</th>\n",
       "      <th>activo</th>\n",
       "    </tr>\n",
       "    <tr>\n",
       "      <th></th>\n",
       "      <th>mean</th>\n",
       "      <th>sum</th>\n",
       "      <th>count</th>\n",
       "      <th>mean</th>\n",
       "      <th>sum</th>\n",
       "      <th>mean</th>\n",
       "      <th>mean</th>\n",
       "      <th>&lt;lambda&gt;</th>\n",
       "    </tr>\n",
       "    <tr>\n",
       "      <th>pozo_id</th>\n",
       "      <th></th>\n",
       "      <th></th>\n",
       "      <th></th>\n",
       "      <th></th>\n",
       "      <th></th>\n",
       "      <th></th>\n",
       "      <th></th>\n",
       "      <th></th>\n",
       "    </tr>\n",
       "  </thead>\n",
       "  <tbody>\n",
       "    <tr>\n",
       "      <th>PZ001</th>\n",
       "      <td>145.49</td>\n",
       "      <td>1018.4</td>\n",
       "      <td>7</td>\n",
       "      <td>1252.86</td>\n",
       "      <td>8770</td>\n",
       "      <td>578.57</td>\n",
       "      <td>65.57</td>\n",
       "      <td>1.00</td>\n",
       "    </tr>\n",
       "    <tr>\n",
       "      <th>PZ002</th>\n",
       "      <td>90.43</td>\n",
       "      <td>633.0</td>\n",
       "      <td>7</td>\n",
       "      <td>896.43</td>\n",
       "      <td>6275</td>\n",
       "      <td>422.43</td>\n",
       "      <td>57.57</td>\n",
       "      <td>1.00</td>\n",
       "    </tr>\n",
       "    <tr>\n",
       "      <th>PZ003</th>\n",
       "      <td>233.99</td>\n",
       "      <td>1637.9</td>\n",
       "      <td>7</td>\n",
       "      <td>2103.57</td>\n",
       "      <td>14725</td>\n",
       "      <td>717.86</td>\n",
       "      <td>72.43</td>\n",
       "      <td>1.00</td>\n",
       "    </tr>\n",
       "    <tr>\n",
       "      <th>PZ004</th>\n",
       "      <td>166.41</td>\n",
       "      <td>1164.9</td>\n",
       "      <td>7</td>\n",
       "      <td>1447.86</td>\n",
       "      <td>10135</td>\n",
       "      <td>612.43</td>\n",
       "      <td>61.43</td>\n",
       "      <td>1.00</td>\n",
       "    </tr>\n",
       "    <tr>\n",
       "      <th>PZ005</th>\n",
       "      <td>85.09</td>\n",
       "      <td>595.6</td>\n",
       "      <td>7</td>\n",
       "      <td>812.86</td>\n",
       "      <td>5690</td>\n",
       "      <td>330.71</td>\n",
       "      <td>50.57</td>\n",
       "      <td>0.86</td>\n",
       "    </tr>\n",
       "  </tbody>\n",
       "</table>\n",
       "</div>"
      ],
      "text/plain": [
       "        produccion_crudo_bpd               produccion_gas_mcf         \\\n",
       "                        mean     sum count               mean    sum   \n",
       "pozo_id                                                                \n",
       "PZ001                 145.49  1018.4     7            1252.86   8770   \n",
       "PZ002                  90.43   633.0     7             896.43   6275   \n",
       "PZ003                 233.99  1637.9     7            2103.57  14725   \n",
       "PZ004                 166.41  1164.9     7            1447.86  10135   \n",
       "PZ005                  85.09   595.6     7             812.86   5690   \n",
       "\n",
       "        presion_cabeza_psi temperatura_c   activo  \n",
       "                      mean          mean <lambda>  \n",
       "pozo_id                                            \n",
       "PZ001               578.57         65.57     1.00  \n",
       "PZ002               422.43         57.57     1.00  \n",
       "PZ003               717.86         72.43     1.00  \n",
       "PZ004               612.43         61.43     1.00  \n",
       "PZ005               330.71         50.57     0.86  "
      ]
     },
     "execution_count": 10,
     "metadata": {},
     "output_type": "execute_result"
    }
   ],
   "source": [
    "# Crear resumen de producción por pozo\n",
    "prod_resumen = produccion.groupby('pozo_id').agg({\n",
    "    'produccion_crudo_bpd': ['mean', 'sum', 'count'],\n",
    "    'produccion_gas_mcf': ['mean', 'sum'],\n",
    "    'presion_cabeza_psi': 'mean',\n",
    "    'temperatura_c': 'mean',\n",
    "    'activo': lambda x: x.sum() / len(x)  # Porcentaje de tiempo activo\n",
    "}).round(2)\n",
    "prod_resumen"
   ]
  },
  {
   "cell_type": "code",
   "execution_count": 11,
   "id": "5c98241c",
   "metadata": {},
   "outputs": [],
   "source": [
    "# Aplanar nombres de columnas\n",
    "prod_resumen.columns = ['_'.join(col) for col in prod_resumen.columns]\n",
    "prod_resumen = prod_resumen.reset_index()\n",
    "prod_resumen.columns = ['pozo_id', 'crudo_promedio_bpd', 'crudo_total_bpd', 'dias_operacion',\n",
    "                       'gas_promedio_mcf', 'gas_total_mcf', 'presion_promedio_psi',\n",
    "                       'temperatura_promedio_c', 'porcentaje_activo']\n"
   ]
  },
  {
   "cell_type": "code",
   "execution_count": 12,
   "id": "cc993caf",
   "metadata": {},
   "outputs": [
    {
     "name": "stdout",
     "output_type": "stream",
     "text": [
      "✓ Resumen de producción por pozo:\n",
      "  pozo_id  crudo_promedio_bpd  crudo_total_bpd  dias_operacion  \\\n",
      "0   PZ001              145.49           1018.4               7   \n",
      "1   PZ002               90.43            633.0               7   \n",
      "2   PZ003              233.99           1637.9               7   \n",
      "3   PZ004              166.41           1164.9               7   \n",
      "4   PZ005               85.09            595.6               7   \n",
      "\n",
      "   gas_promedio_mcf  gas_total_mcf  presion_promedio_psi  \\\n",
      "0           1252.86           8770                578.57   \n",
      "1            896.43           6275                422.43   \n",
      "2           2103.57          14725                717.86   \n",
      "3           1447.86          10135                612.43   \n",
      "4            812.86           5690                330.71   \n",
      "\n",
      "   temperatura_promedio_c  porcentaje_activo  \n",
      "0                   65.57               1.00  \n",
      "1                   57.57               1.00  \n",
      "2                   72.43               1.00  \n",
      "3                   61.43               1.00  \n",
      "4                   50.57               0.86  \n"
     ]
    }
   ],
   "source": [
    "print(\"✓ Resumen de producción por pozo:\")\n",
    "print(prod_resumen)"
   ]
  },
  {
   "cell_type": "code",
   "execution_count": 14,
   "id": "19ebaacf",
   "metadata": {},
   "outputs": [
    {
     "data": {
      "text/html": [
       "<div>\n",
       "<style scoped>\n",
       "    .dataframe tbody tr th:only-of-type {\n",
       "        vertical-align: middle;\n",
       "    }\n",
       "\n",
       "    .dataframe tbody tr th {\n",
       "        vertical-align: top;\n",
       "    }\n",
       "\n",
       "    .dataframe thead tr th {\n",
       "        text-align: left;\n",
       "    }\n",
       "\n",
       "    .dataframe thead tr:last-of-type th {\n",
       "        text-align: right;\n",
       "    }\n",
       "</style>\n",
       "<table border=\"1\" class=\"dataframe\">\n",
       "  <thead>\n",
       "    <tr>\n",
       "      <th></th>\n",
       "      <th colspan=\"3\" halign=\"left\">costo_usd</th>\n",
       "      <th>duracion_horas</th>\n",
       "      <th>criticidad</th>\n",
       "    </tr>\n",
       "    <tr>\n",
       "      <th></th>\n",
       "      <th>sum</th>\n",
       "      <th>count</th>\n",
       "      <th>mean</th>\n",
       "      <th>sum</th>\n",
       "      <th>&lt;lambda&gt;</th>\n",
       "    </tr>\n",
       "    <tr>\n",
       "      <th>pozo_id</th>\n",
       "      <th></th>\n",
       "      <th></th>\n",
       "      <th></th>\n",
       "      <th></th>\n",
       "      <th></th>\n",
       "    </tr>\n",
       "  </thead>\n",
       "  <tbody>\n",
       "    <tr>\n",
       "      <th>PZ001</th>\n",
       "      <td>2700</td>\n",
       "      <td>3</td>\n",
       "      <td>900.00</td>\n",
       "      <td>10</td>\n",
       "      <td>0</td>\n",
       "    </tr>\n",
       "    <tr>\n",
       "      <th>PZ002</th>\n",
       "      <td>4200</td>\n",
       "      <td>3</td>\n",
       "      <td>1400.00</td>\n",
       "      <td>8</td>\n",
       "      <td>0</td>\n",
       "    </tr>\n",
       "    <tr>\n",
       "      <th>PZ003</th>\n",
       "      <td>6750</td>\n",
       "      <td>3</td>\n",
       "      <td>2250.00</td>\n",
       "      <td>12</td>\n",
       "      <td>0</td>\n",
       "    </tr>\n",
       "    <tr>\n",
       "      <th>PZ004</th>\n",
       "      <td>1550</td>\n",
       "      <td>2</td>\n",
       "      <td>775.00</td>\n",
       "      <td>4</td>\n",
       "      <td>0</td>\n",
       "    </tr>\n",
       "    <tr>\n",
       "      <th>PZ005</th>\n",
       "      <td>26200</td>\n",
       "      <td>3</td>\n",
       "      <td>8733.33</td>\n",
       "      <td>25</td>\n",
       "      <td>3</td>\n",
       "    </tr>\n",
       "  </tbody>\n",
       "</table>\n",
       "</div>"
      ],
      "text/plain": [
       "        costo_usd                duracion_horas criticidad\n",
       "              sum count     mean            sum   <lambda>\n",
       "pozo_id                                                   \n",
       "PZ001        2700     3   900.00             10          0\n",
       "PZ002        4200     3  1400.00              8          0\n",
       "PZ003        6750     3  2250.00             12          0\n",
       "PZ004        1550     2   775.00              4          0\n",
       "PZ005       26200     3  8733.33             25          3"
      ]
     },
     "execution_count": 14,
     "metadata": {},
     "output_type": "execute_result"
    }
   ],
   "source": [
    "# Crear resumen de mantenimiento por pozo\n",
    "mant_resumen = mantenimiento.groupby('pozo_id').agg({\n",
    "    'costo_usd': ['sum', 'count', 'mean'],\n",
    "    'duracion_horas': 'sum',\n",
    "    'criticidad': lambda x: (x == 'Alta').sum()\n",
    "}).round(2)\n",
    "mant_resumen"
   ]
  },
  {
   "cell_type": "code",
   "execution_count": 15,
   "id": "c5dca12a",
   "metadata": {},
   "outputs": [],
   "source": [
    "\n",
    "mant_resumen.columns = ['costo_total_usd', 'eventos_mantenimiento', 'costo_promedio_usd',\n",
    "                       'horas_mantenimiento_total', 'eventos_criticos']\n",
    "mant_resumen = mant_resumen.reset_index()\n"
   ]
  },
  {
   "cell_type": "code",
   "execution_count": 16,
   "id": "54f2ad42",
   "metadata": {},
   "outputs": [
    {
     "name": "stdout",
     "output_type": "stream",
     "text": [
      "✓ Resumen de mantenimiento por pozo:\n",
      "  pozo_id  costo_total_usd  eventos_mantenimiento  costo_promedio_usd  \\\n",
      "0   PZ001             2700                      3              900.00   \n",
      "1   PZ002             4200                      3             1400.00   \n",
      "2   PZ003             6750                      3             2250.00   \n",
      "3   PZ004             1550                      2              775.00   \n",
      "4   PZ005            26200                      3             8733.33   \n",
      "\n",
      "   horas_mantenimiento_total  eventos_criticos  \n",
      "0                         10                 0  \n",
      "1                          8                 0  \n",
      "2                         12                 0  \n",
      "3                          4                 0  \n",
      "4                         25                 3  \n"
     ]
    }
   ],
   "source": [
    "print(\"✓ Resumen de mantenimiento por pozo:\")\n",
    "print(mant_resumen)"
   ]
  },
  {
   "cell_type": "markdown",
   "id": "fb8e0099",
   "metadata": {},
   "source": [
    "### 4. COMPARACIÓN DE TIPOS DE MERGE"
   ]
  },
  {
   "cell_type": "markdown",
   "id": "f1085c1d",
   "metadata": {},
   "source": [
    "#### Inner Join (solo pozos con datos en ambos datasets)\n"
   ]
  },
  {
   "cell_type": "code",
   "execution_count": 18,
   "id": "b95aaf9c",
   "metadata": {},
   "outputs": [
    {
     "name": "stdout",
     "output_type": "stream",
     "text": [
      "✓ INNER JOIN - Registros: 5\n",
      "  Pozos incluidos: ['PZ001', 'PZ002', 'PZ003', 'PZ004', 'PZ005']\n",
      "\n"
     ]
    }
   ],
   "source": [
    "# Inner Join (solo pozos con datos en ambos datasets)\n",
    "merge_inner = pd.merge(prod_resumen, mant_resumen, on='pozo_id', how='inner')\n",
    "print(f\"✓ INNER JOIN - Registros: {len(merge_inner)}\")\n",
    "print(\"  Pozos incluidos:\", sorted(merge_inner['pozo_id'].tolist()))\n",
    "print()"
   ]
  },
  {
   "cell_type": "markdown",
   "id": "3f6692f5",
   "metadata": {},
   "source": [
    "#### Left Join (todos los pozos de producción)"
   ]
  },
  {
   "cell_type": "code",
   "execution_count": 17,
   "id": "cc675ce9",
   "metadata": {},
   "outputs": [
    {
     "name": "stdout",
     "output_type": "stream",
     "text": [
      "✓ LEFT JOIN - Registros: 5\n",
      "  Pozos incluidos: ['PZ001', 'PZ002', 'PZ003', 'PZ004', 'PZ005']\n",
      "  Valores nulos en mantenimiento: 0\n",
      "\n"
     ]
    }
   ],
   "source": [
    "merge_left = pd.merge(prod_resumen, mant_resumen, on='pozo_id', how='left')\n",
    "print(f\"✓ LEFT JOIN - Registros: {len(merge_left)}\")\n",
    "print(\"  Pozos incluidos:\", sorted(merge_left['pozo_id'].tolist()))\n",
    "print(\"  Valores nulos en mantenimiento:\", merge_left[['costo_total_usd']].isnull().sum().sum())\n",
    "print()"
   ]
  },
  {
   "cell_type": "markdown",
   "id": "832569d2",
   "metadata": {},
   "source": [
    "#### Right Join (todos los pozos de mantenimiento)"
   ]
  },
  {
   "cell_type": "code",
   "execution_count": 19,
   "id": "cca0ee93",
   "metadata": {},
   "outputs": [
    {
     "name": "stdout",
     "output_type": "stream",
     "text": [
      "✓ RIGHT JOIN - Registros: 5\n",
      "  Pozos incluidos: ['PZ001', 'PZ002', 'PZ003', 'PZ004', 'PZ005']\n",
      "\n"
     ]
    }
   ],
   "source": [
    "# Right Join (todos los pozos de mantenimiento)\n",
    "merge_right = pd.merge(prod_resumen, mant_resumen, on='pozo_id', how='right')\n",
    "print(f\"✓ RIGHT JOIN - Registros: {len(merge_right)}\")\n",
    "print(\"  Pozos incluidos:\", sorted(merge_right['pozo_id'].tolist()))\n",
    "print()"
   ]
  },
  {
   "cell_type": "markdown",
   "id": "ed04bf78",
   "metadata": {},
   "source": [
    "#### Outer Join (todos los pozos de ambos datasets)"
   ]
  },
  {
   "cell_type": "code",
   "execution_count": 20,
   "id": "e632ee75",
   "metadata": {},
   "outputs": [
    {
     "name": "stdout",
     "output_type": "stream",
     "text": [
      "✓ OUTER JOIN - Registros: 5\n",
      "  Pozos incluidos: ['PZ001', 'PZ002', 'PZ003', 'PZ004', 'PZ005']\n",
      "  Valores nulos en producción: 0\n",
      "  Valores nulos en mantenimiento: 0\n",
      "\n"
     ]
    }
   ],
   "source": [
    "merge_outer = pd.merge(prod_resumen, mant_resumen, on='pozo_id', how='outer')\n",
    "print(f\"✓ OUTER JOIN - Registros: {len(merge_outer)}\")\n",
    "print(\"  Pozos incluidos:\", sorted(merge_outer['pozo_id'].tolist()))\n",
    "print(\"  Valores nulos en producción:\", merge_outer[['crudo_promedio_bpd']].isnull().sum().sum())\n",
    "print(\"  Valores nulos en mantenimiento:\", merge_outer[['costo_total_usd']].isnull().sum().sum())\n",
    "print()"
   ]
  },
  {
   "cell_type": "markdown",
   "id": "ddd38126",
   "metadata": {},
   "source": [
    "### ===== ANÁLISIS DEL DATASET COMBINADO ====="
   ]
  },
  {
   "cell_type": "markdown",
   "id": "dcc9211f",
   "metadata": {},
   "source": [
    "### 5. ANÁLISIS DEL DATASET COMBINADO (INNER JOIN)"
   ]
  },
  {
   "cell_type": "code",
   "execution_count": 21,
   "id": "c054b87e",
   "metadata": {},
   "outputs": [
    {
     "name": "stdout",
     "output_type": "stream",
     "text": [
      "Dataset combinado con métricas derivadas:\n",
      "  pozo_id  crudo_promedio_bpd  costo_total_usd  costo_por_barril  \\\n",
      "0   PZ001              145.49             2700             2.651   \n",
      "1   PZ002               90.43             4200             6.635   \n",
      "2   PZ003              233.99             6750             4.121   \n",
      "3   PZ004              166.41             1550             1.331   \n",
      "4   PZ005               85.09            26200            43.989   \n",
      "\n",
      "   eficiencia_operativa  \n",
      "0                 0.250  \n",
      "1                 0.250  \n",
      "2                 0.250  \n",
      "3                 0.333  \n",
      "4                 0.215  \n",
      "\n"
     ]
    }
   ],
   "source": [
    "# Usar inner join para análisis\n",
    "dataset_combinado = merge_inner.copy()\n",
    "# Calcular métricas derivadas\n",
    "dataset_combinado['costo_por_barril'] = (\n",
    "    dataset_combinado['costo_total_usd'] / dataset_combinado['crudo_total_bpd']\n",
    ").round(3)\n",
    "\n",
    "dataset_combinado['eficiencia_operativa'] = (\n",
    "    dataset_combinado['porcentaje_activo'] / \n",
    "    (dataset_combinado['eventos_mantenimiento'] + 1)\n",
    ").round(3)\n",
    "\n",
    "print(\"Dataset combinado con métricas derivadas:\")\n",
    "print(dataset_combinado[['pozo_id', 'crudo_promedio_bpd', 'costo_total_usd', \n",
    "                        'costo_por_barril', 'eficiencia_operativa']])\n",
    "print()"
   ]
  },
  {
   "cell_type": "code",
   "execution_count": 22,
   "id": "0fb89a0a",
   "metadata": {},
   "outputs": [
    {
     "name": "stdout",
     "output_type": "stream",
     "text": [
      "Estadísticas del dataset combinado:\n",
      "  - Producción total: 5,050 bpd\n",
      "  - Costo total mantenimiento: $41,400\n",
      "  - Costo promedio por barril: $11.745\n",
      "  - Eficiencia operativa promedio: 0.260\n",
      "\n"
     ]
    }
   ],
   "source": [
    "# Estadísticas del dataset combinado\n",
    "print(\"Estadísticas del dataset combinado:\")\n",
    "print(f\"  - Producción total: {dataset_combinado['crudo_total_bpd'].sum():,.0f} bpd\")\n",
    "print(f\"  - Costo total mantenimiento: ${dataset_combinado['costo_total_usd'].sum():,.0f}\")\n",
    "print(f\"  - Costo promedio por barril: ${dataset_combinado['costo_por_barril'].mean():.3f}\")\n",
    "print(f\"  - Eficiencia operativa promedio: {dataset_combinado['eficiencia_operativa'].mean():.3f}\")\n",
    "print()"
   ]
  },
  {
   "cell_type": "markdown",
   "id": "4fe82175",
   "metadata": {},
   "source": [
    "### 6. MERGE TEMPORAL (PRODUCCIÓN + EVENTOS)"
   ]
  },
  {
   "cell_type": "code",
   "execution_count": null,
   "id": "78d44cc2",
   "metadata": {},
   "outputs": [],
   "source": [
    "# Cargar datos de eventos\n",
    "eventos = pd.read_csv('../datos/eventos_incidentes.csv')\n",
    "eventos['fecha_evento'] = pd.to_datetime(eventos['fecha_evento'])"
   ]
  },
  {
   "cell_type": "code",
   "execution_count": 24,
   "id": "428bd7f6",
   "metadata": {},
   "outputs": [],
   "source": [
    "# Contar eventos por día y pozo\n",
    "eventos_diarios = eventos.groupby(['fecha_evento', 'pozo_id']).agg({\n",
    "    'tipo_evento': 'count',\n",
    "    'severidad': lambda x: (x == 'Alta').sum()\n",
    "}).rename(columns={\n",
    "    'tipo_evento': 'eventos_total',\n",
    "    'severidad': 'eventos_criticos'\n",
    "}).reset_index()"
   ]
  },
  {
   "cell_type": "code",
   "execution_count": 25,
   "id": "a5fa1f3a",
   "metadata": {},
   "outputs": [
    {
     "name": "stdout",
     "output_type": "stream",
     "text": [
      "✓ Eventos agrupados por día:\n",
      "       fecha pozo_id  eventos_total  eventos_criticos\n",
      "0 2024-01-01   PZ002              1                 0\n",
      "1 2024-01-01   PZ003              1                 0\n",
      "2 2024-01-01   PZ005              1                 1\n",
      "3 2024-01-02   PZ001              1                 0\n",
      "4 2024-01-02   PZ003              1                 0\n"
     ]
    }
   ],
   "source": [
    "eventos_diarios.rename(columns={'fecha_evento': 'fecha'}, inplace=True)\n",
    "\n",
    "print(\"✓ Eventos agrupados por día:\")\n",
    "print(eventos_diarios.head())"
   ]
  },
  {
   "cell_type": "code",
   "execution_count": 26,
   "id": "51725d8d",
   "metadata": {},
   "outputs": [],
   "source": [
    "# Merge temporal con producción diaria\n",
    "prod_eventos = pd.merge(\n",
    "    produccion, \n",
    "    eventos_diarios, \n",
    "    on=['fecha', 'pozo_id'], \n",
    "    how='left'\n",
    ")"
   ]
  },
  {
   "cell_type": "code",
   "execution_count": 27,
   "id": "1c05e21d",
   "metadata": {},
   "outputs": [],
   "source": [
    "# Rellenar valores nulos (días sin eventos)\n",
    "prod_eventos[['eventos_total', 'eventos_criticos']] = (\n",
    "    prod_eventos[['eventos_total', 'eventos_criticos']].fillna(0)\n",
    ")"
   ]
  },
  {
   "cell_type": "code",
   "execution_count": 28,
   "id": "2f1cef92",
   "metadata": {},
   "outputs": [
    {
     "name": "stdout",
     "output_type": "stream",
     "text": [
      "✓ Dataset producción + eventos:\n",
      "  - Registros totales: 35\n",
      "  - Días con eventos: 20\n",
      "  - Días con eventos críticos: 2\n",
      "\n"
     ]
    }
   ],
   "source": [
    "print(\"✓ Dataset producción + eventos:\")\n",
    "print(f\"  - Registros totales: {len(prod_eventos)}\")\n",
    "print(f\"  - Días con eventos: {(prod_eventos['eventos_total'] > 0).sum()}\")\n",
    "print(f\"  - Días con eventos críticos: {(prod_eventos['eventos_criticos'] > 0).sum()}\")\n",
    "print()"
   ]
  },
  {
   "cell_type": "code",
   "execution_count": 29,
   "id": "6b3c008b",
   "metadata": {},
   "outputs": [
    {
     "name": "stdout",
     "output_type": "stream",
     "text": [
      "Correlación entre producción y eventos:\n",
      "                      produccion_crudo_bpd  eventos_total  eventos_criticos\n",
      "produccion_crudo_bpd                 1.000         -0.118             0.108\n",
      "eventos_total                       -0.118          1.000             0.213\n",
      "eventos_criticos                     0.108          0.213             1.000\n",
      "\n"
     ]
    }
   ],
   "source": [
    "# Análisis de correlación entre eventos y producción\n",
    "correlacion = prod_eventos[['produccion_crudo_bpd', 'eventos_total', 'eventos_criticos']].corr()\n",
    "print(\"Correlación entre producción y eventos:\")\n",
    "print(correlacion.round(3))\n",
    "print()"
   ]
  },
  {
   "cell_type": "markdown",
   "id": "ced413d7",
   "metadata": {},
   "source": [
    "### 7. VISUALIZACIÓN DE RESULTADOS"
   ]
  },
  {
   "cell_type": "code",
   "execution_count": 33,
   "id": "e31d3887",
   "metadata": {},
   "outputs": [
    {
     "data": {
      "image/png": "[encoded data removed]",
      "text/plain": [
       "<Figure size 1500x1200 with 5 Axes>"
      ]
     },
     "metadata": {},
     "output_type": "display_data"
    }
   ],
   "source": [
    "# Crear visualizaciones\n",
    "fig, axes = plt.subplots(2, 2, figsize=(15, 12))\n",
    "fig.suptitle('Análisis de Integración de Datos - Demo 01', fontsize=16, y=0.98)\n",
    "# Gráfico 1: Producción vs Costo de Mantenimiento\n",
    "axes[0, 0].scatter(dataset_combinado['crudo_promedio_bpd'], \n",
    "                  dataset_combinado['costo_total_usd'], \n",
    "                  alpha=0.7, s=100)\n",
    "axes[0, 0].set_xlabel('Producción Promedio (bpd)')\n",
    "axes[0, 0].set_ylabel('Costo Total Mantenimiento ($)')\n",
    "axes[0, 0].set_title('Producción vs Costo Mantenimiento')\n",
    "axes[0, 0].grid(True, alpha=0.3)\n",
    "\n",
    "# Agregar etiquetas de pozos\n",
    "for idx, row in dataset_combinado.iterrows():\n",
    "    axes[0, 0].annotate(row['pozo_id'], \n",
    "                       (row['crudo_promedio_bpd'], row['costo_total_usd']),\n",
    "                       xytext=(5, 5), textcoords='offset points', \n",
    "                       fontsize=8, alpha=0.8)\n",
    "\n",
    "# Gráfico 2: Costo por barril por pozo\n",
    "dataset_combinado_sorted = dataset_combinado.sort_values('costo_por_barril')\n",
    "bars = axes[0, 1].bar(dataset_combinado_sorted['pozo_id'], \n",
    "                     dataset_combinado_sorted['costo_por_barril'])\n",
    "axes[0, 1].set_xlabel('Pozo')\n",
    "axes[0, 1].set_ylabel('Costo por Barril ($)')\n",
    "axes[0, 1].set_title('Costo por Barril por Pozo')\n",
    "axes[0, 1].tick_params(axis='x', rotation=45)\n",
    "\n",
    "# Colorear barras según valor\n",
    "colors = plt.cm.RdYlGn_r(np.linspace(0.2, 0.8, len(bars)))\n",
    "for bar, color in zip(bars, colors):\n",
    "    bar.set_color(color)\n",
    "\n",
    "# Gráfico 3: Producción diaria con eventos\n",
    "pz001_data = prod_eventos[prod_eventos['pozo_id'] == 'PZ001'].copy()\n",
    "ax3 = axes[1, 0]\n",
    "ax3_twin = ax3.twinx()\n",
    "\n",
    "# Producción\n",
    "line1 = ax3.plot(pz001_data['fecha'], pz001_data['produccion_crudo_bpd'], \n",
    "                'b-', marker='o', linewidth=2, label='Producción')\n",
    "ax3.set_xlabel('Fecha')\n",
    "ax3.set_ylabel('Producción (bpd)', color='b')\n",
    "ax3.tick_params(axis='y', labelcolor='b')\n",
    "ax3.tick_params(axis='x', rotation=45)\n",
    "\n",
    "# Eventos\n",
    "line2 = ax3_twin.bar(pz001_data['fecha'], pz001_data['eventos_total'], \n",
    "                    alpha=0.6, color='red', width=0.8, label='Eventos')\n",
    "ax3_twin.set_ylabel('Número de Eventos', color='r')\n",
    "ax3_twin.tick_params(axis='y', labelcolor='r')\n",
    "\n",
    "ax3.set_title('PZ001: Producción vs Eventos Diarios')\n",
    "ax3.grid(True, alpha=0.3)\n",
    "\n",
    "# Gráfico 4: Matriz de correlación\n",
    "im = axes[1, 1].imshow(correlacion.values, cmap='RdBu_r', aspect='auto')\n",
    "axes[1, 1].set_xticks(range(len(correlacion.columns)))\n",
    "axes[1, 1].set_yticks(range(len(correlacion.index)))\n",
    "axes[1, 1].set_xticklabels(correlacion.columns, rotation=45, ha='right')\n",
    "axes[1, 1].set_yticklabels(correlacion.index)\n",
    "axes[1, 1].set_title('Matriz de Correlación')\n",
    "\n",
    "# Agregar valores de correlación\n",
    "for i in range(len(correlacion.index)):\n",
    "    for j in range(len(correlacion.columns)):\n",
    "        text = axes[1, 1].text(j, i, f'{correlacion.iloc[i, j]:.2f}',\n",
    "                              ha=\"center\", va=\"center\", color=\"white\" if abs(correlacion.iloc[i, j]) > 0.5 else \"black\")\n",
    "\n",
    "plt.tight_layout()"
   ]
  },
  {
   "cell_type": "code",
   "execution_count": null,
   "id": "128a938a",
   "metadata": {},
   "outputs": [],
   "source": [
    "plt.savefig('../datos/demo_01_resultados.png', dpi=300, bbox_inches='tight')\n",
    "print(\"✓ Gráficos guardados en: ../datos/demo_01_resultados.png\")\n",
    "print()\n"
   ]
  },
  {
   "cell_type": "markdown",
   "id": "2d687f79",
   "metadata": {},
   "source": [
    "### 8. EXPORTACIÓN DE RESULTADOS"
   ]
  },
  {
   "cell_type": "code",
   "execution_count": null,
   "id": "b804fa0e",
   "metadata": {},
   "outputs": [],
   "source": [
    "# Guardar datasets combinados\n",
    "dataset_combinado.to_csv('../datos/produccion_mantenimiento_combinado.csv', index=False)\n",
    "print(\"✓ Dataset combinado guardado: ../datos/produccion_mantenimiento_combinado.csv\")\n",
    "\n",
    "prod_eventos.to_csv('../datos/produccion_eventos_diarios.csv', index=False)\n",
    "print(\"✓ Producción + eventos guardado: ../datos/produccion_eventos_diarios.csv\")\n",
    "print()"
   ]
  },
  {
   "cell_type": "markdown",
   "id": "dda874b1",
   "metadata": {},
   "source": [
    "### 9. RESUMEN DE TÉCNICAS UTILIZADAS"
   ]
  },
  {
   "cell_type": "code",
   "execution_count": 35,
   "id": "0bc808ba",
   "metadata": {},
   "outputs": [
    {
     "name": "stdout",
     "output_type": "stream",
     "text": [
      "9. RESUMEN DE TÉCNICAS UTILIZADAS\n",
      "--------------------------------------------------\n",
      "✓ Técnicas de merge demostradas:\n",
      "  • Inner join: Solo registros con coincidencias en ambos datasets\n",
      "  • Left join: Todos los registros del dataset izquierdo\n",
      "  • Right join: Todos los registros del dataset derecho\n",
      "  • Outer join: Todos los registros de ambos datasets\n",
      "\n",
      "✓ Tipos de relaciones:\n",
      "  • Uno a uno: Pozo → Resumen de producción/mantenimiento\n",
      "  • Uno a muchos: Pozo → Múltiples eventos diarios\n",
      "  • Muchos a muchos: Fechas × Pozos (serie temporal)\n",
      "\n",
      "✓ Claves de unión utilizadas:\n",
      "  • Clave simple: pozo_id\n",
      "  • Clave compuesta: fecha + pozo_id\n",
      "\n",
      "✓ Métricas derivadas creadas:\n",
      "  • Costo por barril producido\n",
      "  • Eficiencia operativa\n",
      "  • Correlaciones entre variables\n",
      "\n",
      "======================================================================\n",
      "DEMO 01 COMPLETADO - OPERACIONES BÁSICAS DE MERGE\n",
      "======================================================================\n"
     ]
    }
   ],
   "source": [
    "# ===== RESUMEN Y CONCLUSIONES =====\n",
    "print(\"9. RESUMEN DE TÉCNICAS UTILIZADAS\")\n",
    "print(\"-\"*50)\n",
    "print(\"✓ Técnicas de merge demostradas:\")\n",
    "print(\"  • Inner join: Solo registros con coincidencias en ambos datasets\")\n",
    "print(\"  • Left join: Todos los registros del dataset izquierdo\")\n",
    "print(\"  • Right join: Todos los registros del dataset derecho\") \n",
    "print(\"  • Outer join: Todos los registros de ambos datasets\")\n",
    "print()\n",
    "print(\"✓ Tipos de relaciones:\")\n",
    "print(\"  • Uno a uno: Pozo → Resumen de producción/mantenimiento\")\n",
    "print(\"  • Uno a muchos: Pozo → Múltiples eventos diarios\")\n",
    "print(\"  • Muchos a muchos: Fechas × Pozos (serie temporal)\")\n",
    "print()\n",
    "print(\"✓ Claves de unión utilizadas:\")\n",
    "print(\"  • Clave simple: pozo_id\")\n",
    "print(\"  • Clave compuesta: fecha + pozo_id\")\n",
    "print()\n",
    "print(\"✓ Métricas derivadas creadas:\")\n",
    "print(\"  • Costo por barril producido\")\n",
    "print(\"  • Eficiencia operativa\")\n",
    "print(\"  • Correlaciones entre variables\")\n",
    "print()\n",
    "\n",
    "print(\"=\"*70)\n",
    "print(\"DEMO 01 COMPLETADO - OPERACIONES BÁSICAS DE MERGE\")\n",
    "print(\"=\"*70)"
   ]
  }
 ],
 "metadata": {
  "kernelspec": {
   "display_name": "base",
   "language": "python",
   "name": "python3"
  },
  "language_info": {
   "codemirror_mode": {
    "name": "ipython",
    "version": 3
   },
   "file_extension": ".py",
   "mimetype": "text/x-python",
   "name": "python",
   "nbconvert_exporter": "python",
   "pygments_lexer": "ipython3",
   "version": "3.11.9"
  }
 },
 "nbformat": 4,
 "nbformat_minor": 5
}
