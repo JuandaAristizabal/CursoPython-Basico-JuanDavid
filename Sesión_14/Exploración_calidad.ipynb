{
 "cells": [
  {
   "cell_type": "code",
   "execution_count": 24,
   "id": "456937d6",
   "metadata": {},
   "outputs": [],
   "source": [
    "\"\"\"\n",
    "Laboratorio 01: Exploración y Diagnóstico de Calidad de Datos\n",
    "==============================================================\n",
    "\n",
    "Objetivo: Aprender a identificar problemas comunes de calidad en datos\n",
    "          de la industria petrolera.\n",
    "\n",
    "Tareas:\n",
    "1. Cargar y explorar el dataset de producción diaria\n",
    "2. Identificar y cuantificar valores faltantes\n",
    "3. Detectar valores anómalos o imposibles\n",
    "4. Generar un reporte básico de calidad\n",
    "5. Visualizar los patrones de problemas encontrados\n",
    "\n",
    "Tiempo estimado: 30 minutos\n",
    "\"\"\"\n",
    "\n",
    "import pandas as pd\n",
    "import numpy as np\n",
    "import matplotlib.pyplot as plt\n",
    "import seaborn as sns"
   ]
  },
  {
   "cell_type": "code",
   "execution_count": 25,
   "id": "278cecd4",
   "metadata": {},
   "outputs": [
    {
     "name": "stdout",
     "output_type": "stream",
     "text": [
      "LABORATORIO 01: EXPLORACIÓN Y DIAGNÓSTICO DE CALIDAD\n",
      "=======================================================\n",
      "\n",
      "TAREA 1: Cargar datos de producción\n",
      "----------------------------------------\n",
      "Dataset cargado: 365 filas, 8 columnas\n",
      "        fecha   pozo_id  produccion_oil_bbl  produccion_gas_mcf  \\\n",
      "0  2023-01-01  POZO-003               593.6              2435.0   \n",
      "1  2023-01-02  POZO-004               519.8              2313.0   \n",
      "2  2023-01-03  POZO-001               468.7              2111.0   \n",
      "3  2023-01-04  POZO-003               473.9              2417.0   \n",
      "4  2023-01-05  POZO-003               500.7              2278.0   \n",
      "\n",
      "   produccion_agua_bbl  presion_boca_psi  temperatura_f  horas_operacion  \n",
      "0                 96.4           14590.0         1770.6            22.41  \n",
      "1                 64.8            1539.0          191.5            22.37  \n",
      "2                 98.6            1620.0          184.0            23.23  \n",
      "3                 96.2            1568.0          171.2            21.91  \n",
      "4                  NaN            1473.0          178.0            23.98  \n",
      "<class 'pandas.core.frame.DataFrame'>\n",
      "RangeIndex: 365 entries, 0 to 364\n",
      "Data columns (total 8 columns):\n",
      " #   Column               Non-Null Count  Dtype  \n",
      "---  ------               --------------  -----  \n",
      " 0   fecha                365 non-null    object \n",
      " 1   pozo_id              365 non-null    object \n",
      " 2   produccion_oil_bbl   347 non-null    float64\n",
      " 3   produccion_gas_mcf   348 non-null    float64\n",
      " 4   produccion_agua_bbl  347 non-null    float64\n",
      " 5   presion_boca_psi     355 non-null    float64\n",
      " 6   temperatura_f        343 non-null    float64\n",
      " 7   horas_operacion      365 non-null    float64\n",
      "dtypes: float64(6), object(2)\n",
      "memory usage: 22.9+ KB\n",
      "None\n",
      "Columnas: ['fecha', 'pozo_id', 'produccion_oil_bbl', 'produccion_gas_mcf', 'produccion_agua_bbl', 'presion_boca_psi', 'temperatura_f', 'horas_operacion']\n"
     ]
    }
   ],
   "source": [
    "print(\"LABORATORIO 01: EXPLORACIÓN Y DIAGNÓSTICO DE CALIDAD\")\n",
    "print(\"=\" * 55)\n",
    "\n",
    "# TAREA 1: Cargar el dataset\n",
    "# ==========================\n",
    "print(\"\\nTAREA 1: Cargar datos de producción\")\n",
    "print(\"-\" * 40)\n",
    "\n",
    "# TO DO: Cargar el archivo 'produccion_diaria.csv' desde la carpeta datos            \n",
    "df = pd.read_csv('/workspaces/CursoPython-Basico-JuanDavid/Sesión_14/datos/produccion_diaria.csv')\n",
    "\n",
    "\n",
    "# TO DO: Mostrar información básica del dataset\n",
    "# - Número de filas y columnas\n",
    "print(f\"Dataset cargado: {df.shape[0]} filas, {df.shape[1]} columnas\")\n",
    "# - Primeras 5 filas\n",
    "print(df.head())\n",
    "# - Tipos de datos de cada columna\n",
    "print(df.info())\n",
    "print(f\"Columnas: {list(df.columns)}\")\n"
   ]
  },
  {
   "cell_type": "code",
   "execution_count": 26,
   "id": "3ffe2734",
   "metadata": {},
   "outputs": [
    {
     "name": "stdout",
     "output_type": "stream",
     "text": [
      "\n",
      "TAREA 2: Identificar valores faltantes\n",
      "----------------------------------------\n",
      "\n",
      "Columnas con valores faltantes:\n",
      "produccion_oil_bbl: 18 faltantes (4.93%)\n",
      "produccion_gas_mcf: 17 faltantes (4.66%)\n",
      "produccion_agua_bbl: 18 faltantes (4.93%)\n",
      "presion_boca_psi: 10 faltantes (2.74%)\n",
      "temperatura_f: 22 faltantes (6.03%)\n"
     ]
    }
   ],
   "source": [
    "# TAREA 2: Análisis de valores faltantes\n",
    "# =======================================\n",
    "print(\"\\nTAREA 2: Identificar valores faltantes\")\n",
    "print(\"-\" * 40)\n",
    "\n",
    "# TO DO: Calcular el número de valores faltantes por columna. # Usar df.isnull().sum()\n",
    "valores_faltantes = df.isnull().sum()\n",
    "\n",
    "# TO DO: Calcular el porcentaje de valores faltantes por columna\n",
    "porcentaje_faltantes = (valores_faltantes / len(df)) * 100\n",
    "\n",
    "# TO DO: Mostrar solo las columnas que tienen valores faltantes\n",
    "print(\"\\nColumnas con valores faltantes:\")\n",
    "\n",
    "# Iterar sobre las columnas y mostrar solo las que tienen NaN\n",
    "for col in df.columns:\n",
    "    if valores_faltantes[col] > 0:\n",
    "        print(f\"{col}: {valores_faltantes[col]} faltantes ({porcentaje_faltantes[col]:.2f}%)\")\n"
   ]
  },
  {
   "cell_type": "code",
   "execution_count": 28,
   "id": "00452b55",
   "metadata": {},
   "outputs": [
    {
     "name": "stdout",
     "output_type": "stream",
     "text": [
      "\n",
      "TAREA 3: Detectar valores anómalos o imposibles\n",
      "----------------------------------------\n",
      "\n",
      "Valores negativos en producción:\n",
      "produccion_agua_bbl: 5 valores negativos encontrados\n",
      "\n",
      "Valores fuera de rango operacional:\n",
      "\n",
      "Presión fuera de rango operacional normal:\n",
      "  Registros: 1\n",
      "  Valores: [14590.]...\n",
      "\n",
      "Temperatura fuera de rango operacional normal:\n",
      "  Registros: 1\n",
      "  Valores: [1770.6]...\n"
     ]
    }
   ],
   "source": [
    "# TAREA 3: Detectar valores anómalos\n",
    "# ===================================\n",
    "print(\"\\nTAREA 3: Detectar valores anómalos o imposibles\")\n",
    "print(\"-\" * 40)\n",
    "\n",
    "# TO DO: Identificar valores negativos en columnas de producción. # Las columnas de producción no pueden tener valores negativos\n",
    "columnas_produccion = ['produccion_oil_bbl', 'produccion_gas_mcf', 'produccion_agua_bbl']\n",
    "print(\"\\nValores negativos en producción:\")\n",
    "for col in columnas_produccion:\n",
    "    if col in df.columns:\n",
    "        num_negativos = (df[col] < 0).sum()\n",
    "        if num_negativos > 0:\n",
    "            print(f\"{col}: {num_negativos} valores negativos encontrados\")\n",
    "\n",
    "# TO DO: Identificar valores fuera de rango operacional normal. # Presión normal: 1000-2000 psi. # Temperatura normal: 150-210 °F\n",
    "\n",
    "print(\"\\nValores fuera de rango operacional:\")\n",
    "\n",
    "presion_sospechosa = df[(df['presion_boca_psi'] < 1000) | (df['presion_boca_psi'] > 2000)]\n",
    "if len(presion_sospechosa) > 0:\n",
    "    print(f\"\\nPresión fuera de rango operacional normal:\")\n",
    "    print(f\"  Registros: {len(presion_sospechosa)}\")\n",
    "    print(f\"  Valores: {presion_sospechosa['presion_boca_psi'].values[:5]}...\")\n",
    "\n",
    "temperatura_sospechosa = df[(df['temperatura_f'] < 150) | (df['temperatura_f'] > 210)]\n",
    "if len(temperatura_sospechosa) > 0:\n",
    "    print(f\"\\nTemperatura fuera de rango operacional normal:\")\n",
    "    print(f\"  Registros: {len(temperatura_sospechosa)}\")\n",
    "    print(f\"  Valores: {temperatura_sospechosa['temperatura_f'].values[:5]}...\")\n",
    "\n",
    "\n",
    "\n"
   ]
  }
 ],
 "metadata": {
  "kernelspec": {
   "display_name": "Python 3",
   "language": "python",
   "name": "python3"
  },
  "language_info": {
   "codemirror_mode": {
    "name": "ipython",
    "version": 3
   },
   "file_extension": ".py",
   "mimetype": "text/x-python",
   "name": "python",
   "nbconvert_exporter": "python",
   "pygments_lexer": "ipython3",
   "version": "3.12.1"
  }
 },
 "nbformat": 4,
 "nbformat_minor": 5
}
