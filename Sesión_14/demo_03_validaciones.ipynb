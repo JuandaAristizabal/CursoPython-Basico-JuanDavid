{
 "cells": [
  {
   "cell_type": "markdown",
   "id": "75757506",
   "metadata": {},
   "source": [
    "Demo 03: Validación y Calidad de Datos\n",
    "=======================================\n",
    "Esta demostración muestra cómo validar la calidad de datos de mantenimiento\n",
    "y generar reportes de calidad para la industria petrolera."
   ]
  },
  {
   "cell_type": "code",
   "execution_count": null,
   "id": "bfe1a06d",
   "metadata": {},
   "outputs": [],
   "source": [
    "%pip install pandas numpy matplotlib seaborn"
   ]
  },
  {
   "cell_type": "code",
   "execution_count": 1,
   "id": "6ca635ec",
   "metadata": {},
   "outputs": [
    {
     "name": "stdout",
     "output_type": "stream",
     "text": [
      "============================================================\n",
      "DEMO 03: VALIDACIÓN Y CALIDAD DE DATOS\n",
      "============================================================\n"
     ]
    }
   ],
   "source": [
    "import pandas as pd\n",
    "import numpy as np\n",
    "import matplotlib.pyplot as plt\n",
    "import seaborn as sns\n",
    "from datetime import datetime, date\n",
    "import re\n",
    "\n",
    "print(\"=\" * 60)\n",
    "print(\"DEMO 03: VALIDACIÓN Y CALIDAD DE DATOS\")\n",
    "print(\"=\" * 60)"
   ]
  },
  {
   "cell_type": "markdown",
   "id": "035eb479",
   "metadata": {},
   "source": [
    "Cargar datos"
   ]
  },
  {
   "cell_type": "code",
   "execution_count": 2,
   "id": "819f15ea",
   "metadata": {},
   "outputs": [
    {
     "name": "stdout",
     "output_type": "stream",
     "text": [
      "\n",
      "1. CARGANDO DATOS DE MANTENIMIENTO\n",
      "----------------------------------------\n",
      "Dataset cargado: 205 filas, 9 columnas\n",
      "Columnas: ['id_mantenimiento', 'fecha', 'equipo', 'tipo_mantenimiento', 'horas_trabajo', 'costo_usd', 'tecnico_responsable', 'descripcion', 'pozo_id']\n"
     ]
    }
   ],
   "source": [
    "# Cargar datos\n",
    "print(\"\\n1. CARGANDO DATOS DE MANTENIMIENTO\")\n",
    "print(\"-\" * 40)\n",
    "df = pd.read_csv('/workspaces/CursoPython-Basico-JuanDavid/Sesión_14/datos/mantenimiento.csv')\n",
    "print(f\"Dataset cargado: {df.shape[0]} filas, {df.shape[1]} columnas\")\n",
    "print(f\"Columnas: {list(df.columns)}\")"
   ]
  },
  {
   "cell_type": "markdown",
   "id": "2494697b",
   "metadata": {},
   "source": [
    "Exploración inicial"
   ]
  },
  {
   "cell_type": "code",
   "execution_count": 4,
   "id": "4b0fd812",
   "metadata": {},
   "outputs": [
    {
     "name": "stdout",
     "output_type": "stream",
     "text": [
      "\n",
      "2. EXPLORACIÓN INICIAL\n",
      "----------------------------------------\n",
      "\n",
      "Primeras 5 filas:\n",
      "  id_mantenimiento       fecha     equipo tipo_mantenimiento  horas_trabajo  \\\n",
      "0         MNT-0061  2024-09-03      Bomba         Correctivo           48.0   \n",
      "1         MNT-0133  2024-08-08    Válvula         Emergencia            5.4   \n",
      "2         MNT-0007  2024-01-01      Bomba         Correctivo            5.2   \n",
      "3         MNT-0016  2024-11-09  Compresor         preventivo            1.3   \n",
      "4         MNT-0103  2024-03-22  Separador         Correctivo            5.6   \n",
      "\n",
      "   costo_usd tecnico_responsable                         descripcion   pozo_id  \n",
      "0    3109.16        Ana Martinez  Mantenimiento rutinario del equipo  POZO-001  \n",
      "1    3628.38        Ana Martinez  Mantenimiento rutinario del equipo  POZO-001  \n",
      "2     486.36        Ana Martinez  Mantenimiento rutinario del equipo  POZO-003  \n",
      "3     399.50        Carlos Lopez  Mantenimiento rutinario del equipo  POZO-002  \n",
      "4    2636.48        Carlos Lopez  Mantenimiento rutinario del equipo  POZO-001  \n",
      "\n",
      "Tipos de datos:\n",
      "id_mantenimiento        object\n",
      "fecha                   object\n",
      "equipo                  object\n",
      "tipo_mantenimiento      object\n",
      "horas_trabajo          float64\n",
      "costo_usd              float64\n",
      "tecnico_responsable     object\n",
      "descripcion             object\n",
      "pozo_id                 object\n",
      "dtype: object\n"
     ]
    }
   ],
   "source": [
    "# Exploración inicial\n",
    "print(\"\\n2. EXPLORACIÓN INICIAL\")\n",
    "print(\"-\" * 40)\n",
    "print(\"\\nPrimeras 5 filas:\")\n",
    "print(df.head())\n",
    "\n",
    "print(\"\\nTipos de datos:\")\n",
    "print(df.dtypes)"
   ]
  },
  {
   "cell_type": "markdown",
   "id": "c1a89a2b",
   "metadata": {},
   "source": [
    "funciones"
   ]
  },
  {
   "cell_type": "code",
   "execution_count": 5,
   "id": "2d6d54a5",
   "metadata": {},
   "outputs": [],
   "source": [
    "\n",
    "# Funciones de validación\n",
    "def validar_completitud(df):\n",
    "    \"\"\"\n",
    "    Valida qué tan completos están los datos\n",
    "    \"\"\"\n",
    "    total_celdas = df.shape[0] * df.shape[1]\n",
    "    celdas_faltantes = df.isnull().sum().sum()\n",
    "    completitud = (1 - celdas_faltantes / total_celdas) * 100\n",
    "    \n",
    "    reporte = {\n",
    "        'total_celdas': total_celdas,\n",
    "        'celdas_faltantes': celdas_faltantes,\n",
    "        'completitud_porcentaje': completitud,\n",
    "        'columnas_incompletas': {}\n",
    "    }\n",
    "    \n",
    "    for col in df.columns:\n",
    "        faltantes = df[col].isnull().sum()\n",
    "        if faltantes > 0:\n",
    "            reporte['columnas_incompletas'][col] = {\n",
    "                'faltantes': faltantes,\n",
    "                'porcentaje': (faltantes / len(df)) * 100\n",
    "            }\n",
    "    \n",
    "    return reporte"
   ]
  },
  {
   "cell_type": "code",
   "execution_count": 7,
   "id": "ea94e27f",
   "metadata": {},
   "outputs": [],
   "source": [
    "def validar_unicidad(df, columna_id='id_mantenimiento'):\n",
    "    \"\"\"\n",
    "    Valida duplicados en el dataset\n",
    "    \"\"\"\n",
    "    duplicados_totales = df.duplicated().sum()\n",
    "    duplicados_id = df[columna_id].duplicated().sum()\n",
    "    \n",
    "    reporte = {\n",
    "        'registros_duplicados': duplicados_totales,\n",
    "        'ids_duplicados': duplicados_id,\n",
    "        'registros_unicos': len(df) - duplicados_totales\n",
    "    }\n",
    "    \n",
    "    if duplicados_id > 0:\n",
    "        reporte['ejemplos_duplicados'] = df[df[columna_id].duplicated(keep=False)][columna_id].head(10).tolist()\n",
    "    \n",
    "    return reporte"
   ]
  },
  {
   "cell_type": "code",
   "execution_count": 8,
   "id": "8cf5afdc",
   "metadata": {},
   "outputs": [],
   "source": [
    "def validar_consistencia(df):\n",
    "    \"\"\"\n",
    "    Valida la consistencia de los datos\n",
    "    \"\"\"\n",
    "    inconsistencias = []\n",
    "    \n",
    "    # Convertir fecha a datetime para validaciones\n",
    "    df['fecha'] = pd.to_datetime(df['fecha'], errors='coerce')\n",
    "    \n",
    "    # Fechas futuras\n",
    "    fecha_actual = pd.Timestamp.now()\n",
    "    fechas_futuras = df[df['fecha'] > fecha_actual]\n",
    "    if len(fechas_futuras) > 0:\n",
    "        inconsistencias.append({\n",
    "            'tipo': 'Fechas futuras',\n",
    "            'cantidad': len(fechas_futuras),\n",
    "            'ejemplos': fechas_futuras[['id_mantenimiento', 'fecha']].head(3).to_dict('records')\n",
    "        })\n",
    "    \n",
    "    # Horas de trabajo negativas o excesivas\n",
    "    horas_invalidas = df[(df['horas_trabajo'] < 0) | (df['horas_trabajo'] > 24)]\n",
    "    if len(horas_invalidas) > 0:\n",
    "        inconsistencias.append({\n",
    "            'tipo': 'Horas de trabajo inválidas',\n",
    "            'cantidad': len(horas_invalidas),\n",
    "            'ejemplos': horas_invalidas[['id_mantenimiento', 'horas_trabajo']].head(3).to_dict('records')\n",
    "        })\n",
    "    \n",
    "    # Costos negativos\n",
    "    costos_negativos = df[df['costo_usd'] < 0]\n",
    "    if len(costos_negativos) > 0:\n",
    "        inconsistencias.append({\n",
    "            'tipo': 'Costos negativos',\n",
    "            'cantidad': len(costos_negativos),\n",
    "            'ejemplos': costos_negativos[['id_mantenimiento', 'costo_usd']].head(3).to_dict('records')\n",
    "        })\n",
    "    \n",
    "    # Inconsistencias en formato de texto\n",
    "    tipos_mantenimiento_esperados = ['Preventivo', 'Correctivo', 'Predictivo', 'Emergencia']\n",
    "    tipos_inconsistentes = df[~df['tipo_mantenimiento'].isin(tipos_mantenimiento_esperados)]\n",
    "    if len(tipos_inconsistentes) > 0:\n",
    "        inconsistencias.append({\n",
    "            'tipo': 'Tipos de mantenimiento no estandarizados',\n",
    "            'cantidad': len(tipos_inconsistentes),\n",
    "            'valores_unicos': tipos_inconsistentes['tipo_mantenimiento'].unique().tolist()\n",
    "        })\n",
    "    \n",
    "    return inconsistencias"
   ]
  },
  {
   "cell_type": "code",
   "execution_count": null,
   "id": "b1fbef08",
   "metadata": {},
   "outputs": [],
   "source": [
    "def validar_rangos(df):\n",
    "    \"\"\"\n",
    "    Valida que los valores estén dentro de rangos esperados\n",
    "    \"\"\"\n",
    "    validaciones = []\n",
    "    \n",
    "    # Rangos esperados para la industria\n",
    "    rangos = {\n",
    "        'horas_trabajo': (0, 24),\n",
    "        'costo_usd': (0, 10000)\n",
    "    }\n",
    "    \n",
    "    for columna, (min_val, max_val) in rangos.items():\n",
    "        fuera_rango = df[(df[columna] < min_val) | (df[columna] > max_val)]\n",
    "        if len(fuera_rango) > 0:\n",
    "            validaciones.append({\n",
    "                'columna': columna,\n",
    "                'rango_esperado': f\"[{min_val}, {max_val}]\",\n",
    "                'valores_fuera': len(fuera_rango),\n",
    "                'porcentaje': (len(fuera_rango) / len(df)) * 100\n",
    "            })\n",
    "    \n",
    "    return validaciones"
   ]
  },
  {
   "cell_type": "markdown",
   "id": "b3138255",
   "metadata": {},
   "source": [
    " VALIDACIÓN DE COMPLETITUD"
   ]
  },
  {
   "cell_type": "code",
   "execution_count": null,
   "id": "a108c1e8",
   "metadata": {},
   "outputs": [],
   "source": [
    "print(\"\\n3. VALIDACIÓN DE COMPLETITUD\")\n",
    "print(\"-\" * 40)\n",
    "reporte_completitud = validar_completitud(df)\n",
    "print(f\"Completitud general: {reporte_completitud['completitud_porcentaje']:.2f}%\")\n",
    "print(f\"Celdas faltantes: {reporte_completitud['celdas_faltantes']} de {reporte_completitud['total_celdas']}\")\n",
    "\n",
    "if reporte_completitud['columnas_incompletas']:\n",
    "    print(\"\\nColumnas con valores faltantes:\")\n",
    "    for col, info in reporte_completitud['columnas_incompletas'].items():\n",
    "        print(f\"  {col}: {info['faltantes']} valores ({info['porcentaje']:.1f}%)\")"
   ]
  },
  {
   "cell_type": "markdown",
   "id": "9ed78175",
   "metadata": {},
   "source": [
    "VALIDACIÓN DE UNICIDAD"
   ]
  },
  {
   "cell_type": "code",
   "execution_count": null,
   "id": "f7da2331",
   "metadata": {},
   "outputs": [],
   "source": [
    "print(\"\\n4. VALIDACIÓN DE UNICIDAD\")\n",
    "print(\"-\" * 40)\n",
    "reporte_unicidad = validar_unicidad(df)\n",
    "print(f\"Registros duplicados: {reporte_unicidad['registros_duplicados']}\")\n",
    "print(f\"IDs duplicados: {reporte_unicidad['ids_duplicados']}\")\n",
    "if 'ejemplos_duplicados' in reporte_unicidad:\n",
    "    print(f\"Ejemplos de IDs duplicados: {reporte_unicidad['ejemplos_duplicados'][:5]}\")"
   ]
  },
  {
   "cell_type": "markdown",
   "id": "a67ccea9",
   "metadata": {},
   "source": [
    "VALIDACIÓN DE CONSISTENCIA"
   ]
  },
  {
   "cell_type": "code",
   "execution_count": null,
   "id": "b0f4026e",
   "metadata": {},
   "outputs": [],
   "source": [
    "print(\"\\n5. VALIDACIÓN DE CONSISTENCIA\")\n",
    "print(\"-\" * 40)\n",
    "inconsistencias = validar_consistencia(df)\n",
    "if inconsistencias:\n",
    "    for inc in inconsistencias:\n",
    "        print(f\"\\n{inc['tipo']}:\")\n",
    "        print(f\"  Cantidad: {inc['cantidad']}\")\n",
    "        if 'ejemplos' in inc:\n",
    "            print(f\"  Ejemplos: {inc['ejemplos'][:2]}\")\n",
    "        if 'valores_unicos' in inc:\n",
    "            print(f\"  Valores encontrados: {inc['valores_unicos']}\")\n",
    "else:\n",
    "    print(\"No se encontraron inconsistencias\")"
   ]
  },
  {
   "cell_type": "markdown",
   "id": "35472303",
   "metadata": {},
   "source": [
    "VALIDACIÓN DE RANGOS"
   ]
  },
  {
   "cell_type": "code",
   "execution_count": null,
   "id": "f4237167",
   "metadata": {},
   "outputs": [],
   "source": [
    "print(\"\\n6. VALIDACIÓN DE RANGOS\")\n",
    "print(\"-\" * 40)\n",
    "validaciones_rango = validar_rangos(df)\n",
    "if validaciones_rango:\n",
    "    for val in validaciones_rango:\n",
    "        print(f\"\\n{val['columna']}:\")\n",
    "        print(f\"  Rango esperado: {val['rango_esperado']}\")\n",
    "        print(f\"  Valores fuera de rango: {val['valores_fuera']} ({val['porcentaje']:.1f}%)\")\n",
    "else:\n",
    "    print(\"Todos los valores están dentro de los rangos esperados\")"
   ]
  },
  {
   "cell_type": "markdown",
   "id": "cd9b0df5",
   "metadata": {},
   "source": [
    "Limpieza y corrección de datos"
   ]
  },
  {
   "cell_type": "code",
   "execution_count": null,
   "id": "c5e76345",
   "metadata": {},
   "outputs": [],
   "source": [
    "# Limpieza y corrección de datos\n",
    "print(\"\\n7. LIMPIEZA Y CORRECCIÓN DE DATOS\")\n",
    "print(\"-\" * 40)\n",
    "\n",
    "df_limpio = df.copy()"
   ]
  },
  {
   "cell_type": "code",
   "execution_count": null,
   "id": "6b53f988",
   "metadata": {},
   "outputs": [],
   "source": [
    "# Eliminar duplicados\n",
    "print(\"\\nEliminando duplicados...\")\n",
    "inicial = len(df_limpio)\n",
    "df_limpio = df_limpio.drop_duplicates(subset=['id_mantenimiento'], keep='first')\n",
    "print(f\"  Registros eliminados: {inicial - len(df_limpio)}\")"
   ]
  },
  {
   "cell_type": "code",
   "execution_count": null,
   "id": "9f3bb35b",
   "metadata": {},
   "outputs": [],
   "source": [
    "# Estandarizar tipos de mantenimiento\n",
    "print(\"\\nEstandarizando tipos de mantenimiento...\")\n",
    "mapeo_tipos = {\n",
    "    'preventivo': 'Preventivo',\n",
    "    'PREVENTIVO': 'Preventivo',\n",
    "    'correctivo': 'Correctivo',\n",
    "    'CORRECTIVO': 'Correctivo',\n",
    "    'Pred.': 'Predictivo',\n",
    "    'predictivo': 'Predictivo'\n",
    "}\n",
    "\n",
    "tipos_antes = df_limpio['tipo_mantenimiento'].unique()\n",
    "df_limpio['tipo_mantenimiento'] = df_limpio['tipo_mantenimiento'].replace(mapeo_tipos)\n",
    "tipos_despues = df_limpio['tipo_mantenimiento'].unique()\n",
    "print(f\"  Tipos antes: {len(tipos_antes)}\")\n",
    "print(f\"  Tipos después: {len(tipos_despues)}\")"
   ]
  },
  {
   "cell_type": "code",
   "execution_count": null,
   "id": "931be546",
   "metadata": {},
   "outputs": [],
   "source": [
    "# Estandarizar nombres de técnicos\n",
    "print(\"\\nEstandarizando nombres de técnicos...\")\n",
    "def estandarizar_nombre(nombre):\n",
    "    if pd.isna(nombre):\n",
    "        return nombre\n",
    "    # Eliminar espacios extras\n",
    "    nombre = re.sub(r'\\s+', ' ', nombre.strip())\n",
    "    # Capitalizar correctamente\n",
    "    return nombre.title()\n",
    "\n",
    "df_limpio['tecnico_responsable'] = df_limpio['tecnico_responsable'].apply(estandarizar_nombre)"
   ]
  },
  {
   "cell_type": "code",
   "execution_count": null,
   "id": "fdfe2787",
   "metadata": {},
   "outputs": [],
   "source": [
    "# Corregir valores inválidos\n",
    "print(\"\\nCorrigiendo valores inválidos...\")\n",
    "# Horas negativas -> valor absoluto\n",
    "df_limpio.loc[df_limpio['horas_trabajo'] < 0, 'horas_trabajo'] = abs(df_limpio.loc[df_limpio['horas_trabajo'] < 0, 'horas_trabajo'])\n",
    "# Costos negativos -> valor absoluto\n",
    "df_limpio.loc[df_limpio['costo_usd'] < 0, 'costo_usd'] = abs(df_limpio.loc[df_limpio['costo_usd'] < 0, 'costo_usd'])\n",
    "# Fechas futuras -> fecha actual\n",
    "fecha_actual = pd.Timestamp.now()\n",
    "df_limpio.loc[df_limpio['fecha'] > fecha_actual, 'fecha'] = fecha_actual"
   ]
  },
  {
   "cell_type": "code",
   "execution_count": null,
   "id": "93cf666a",
   "metadata": {},
   "outputs": [],
   "source": [
    "# Imputar valores faltantes\n",
    "print(\"\\nImputando valores faltantes...\")\n",
    "# Descripción faltante -> texto genérico\n",
    "df_limpio['descripcion'].fillna('Mantenimiento rutinario - sin descripción detallada', inplace=True)\n",
    "# Costo faltante -> mediana por tipo de mantenimiento\n",
    "df_limpio['costo_usd'] = df_limpio.groupby('tipo_mantenimiento')['costo_usd'].transform(\n",
    "    lambda x: x.fillna(x.median())\n",
    ")"
   ]
  },
  {
   "cell_type": "markdown",
   "id": "61ecad8b",
   "metadata": {},
   "source": [
    "REPORTE DE CALIDAD FINAL"
   ]
  },
  {
   "cell_type": "code",
   "execution_count": null,
   "id": "3ecdf6b0",
   "metadata": {},
   "outputs": [],
   "source": [
    "# Generar reporte de calidad final\n",
    "print(\"\\n8. REPORTE DE CALIDAD FINAL\")\n",
    "print(\"-\" * 40)\n",
    "\n",
    "def generar_reporte_calidad(df_original, df_limpio):\n",
    "    \"\"\"\n",
    "    Genera un reporte completo de calidad de datos\n",
    "    \"\"\"\n",
    "    reporte = {\n",
    "        'timestamp': datetime.now().strftime('%Y-%m-%d %H:%M:%S'),\n",
    "        'dataset': 'mantenimiento.csv',\n",
    "        'metricas_originales': {\n",
    "            'registros': len(df_original),\n",
    "            'columnas': len(df_original.columns),\n",
    "            'completitud': validar_completitud(df_original)['completitud_porcentaje'],\n",
    "            'duplicados': validar_unicidad(df_original)['registros_duplicados']\n",
    "        },\n",
    "        'metricas_limpias': {\n",
    "            'registros': len(df_limpio),\n",
    "            'columnas': len(df_limpio.columns),\n",
    "            'completitud': validar_completitud(df_limpio)['completitud_porcentaje'],\n",
    "            'duplicados': validar_unicidad(df_limpio)['registros_duplicados']\n",
    "        },\n",
    "        'mejoras': {\n",
    "            'registros_eliminados': len(df_original) - len(df_limpio),\n",
    "            'mejora_completitud': validar_completitud(df_limpio)['completitud_porcentaje'] - \n",
    "                                 validar_completitud(df_original)['completitud_porcentaje']\n",
    "        }\n",
    "    }\n",
    "    \n",
    "    return reporte\n",
    "\n",
    "reporte_final = generar_reporte_calidad(df, df_limpio)"
   ]
  },
  {
   "cell_type": "code",
   "execution_count": null,
   "id": "c46e9fd1",
   "metadata": {},
   "outputs": [],
   "source": [
    "print(\"\\nREPORTE DE CALIDAD DE DATOS\")\n",
    "print(\"=\" * 50)\n",
    "print(f\"Fecha: {reporte_final['timestamp']}\")\n",
    "print(f\"Dataset: {reporte_final['dataset']}\")\n",
    "print(\"\\nMÉTRICAS ORIGINALES:\")\n",
    "for key, value in reporte_final['metricas_originales'].items():\n",
    "    if isinstance(value, float):\n",
    "        print(f\"  {key}: {value:.2f}\")\n",
    "    else:\n",
    "        print(f\"  {key}: {value}\")\n",
    "print(\"\\nMÉTRICAS DESPUÉS DE LIMPIEZA:\")\n",
    "for key, value in reporte_final['metricas_limpias'].items():\n",
    "    if isinstance(value, float):\n",
    "        print(f\"  {key}: {value:.2f}\")\n",
    "    else:\n",
    "        print(f\"  {key}: {value}\")\n",
    "print(\"\\nMEJORAS:\")\n",
    "print(f\"  Registros eliminados: {reporte_final['mejoras']['registros_eliminados']}\")\n",
    "print(f\"  Mejora en completitud: {reporte_final['mejoras']['mejora_completitud']:.2f}%\")\n"
   ]
  },
  {
   "cell_type": "markdown",
   "id": "f3a07b25",
   "metadata": {},
   "source": [
    "Visualización del proceso de limpieza"
   ]
  },
  {
   "cell_type": "code",
   "execution_count": null,
   "id": "c9e0afb1",
   "metadata": {},
   "outputs": [],
   "source": [
    "# Visualización del proceso de limpieza\n",
    "print(\"\\n9. VISUALIZACIÓN DE RESULTADOS\")\n",
    "print(\"-\" * 40)\n",
    "\n",
    "fig, axes = plt.subplots(2, 2, figsize=(12, 10))\n",
    "\n",
    "# Completitud antes y después\n",
    "ax1 = axes[0, 0]\n",
    "categorias = ['Original', 'Limpio']\n",
    "completitud = [\n",
    "    reporte_final['metricas_originales']['completitud'],\n",
    "    reporte_final['metricas_limpias']['completitud']\n",
    "]\n",
    "bars = ax1.bar(categorias, completitud, color=['coral', 'lightgreen'])\n",
    "ax1.set_ylabel('Completitud (%)')\n",
    "ax1.set_title('Mejora en Completitud de Datos')\n",
    "ax1.set_ylim([90, 101])\n",
    "for bar, val in zip(bars, completitud):\n",
    "    ax1.text(bar.get_x() + bar.get_width()/2, bar.get_height() + 0.1,\n",
    "             f'{val:.1f}%', ha='center')\n",
    "\n",
    "# Distribución de tipos de mantenimiento\n",
    "ax2 = axes[0, 1]\n",
    "tipos_counts = df_limpio['tipo_mantenimiento'].value_counts()\n",
    "ax2.pie(tipos_counts.values, labels=tipos_counts.index, autopct='%1.1f%%',\n",
    "        startangle=90, colors=['#ff9999', '#66b3ff', '#99ff99', '#ffcc99'])\n",
    "ax2.set_title('Distribución de Tipos de Mantenimiento (Limpio)')\n",
    "\n",
    "# Histograma de costos\n",
    "ax3 = axes[1, 0]\n",
    "ax3.hist(df['costo_usd'].dropna(), bins=30, alpha=0.5, label='Original', color='coral')\n",
    "ax3.hist(df_limpio['costo_usd'].dropna(), bins=30, alpha=0.5, label='Limpio', color='lightgreen')\n",
    "ax3.set_xlabel('Costo (USD)')\n",
    "ax3.set_ylabel('Frecuencia')\n",
    "ax3.set_title('Distribución de Costos')\n",
    "ax3.legend()\n",
    "\n",
    "# Horas de trabajo por tipo\n",
    "ax4 = axes[1, 1]\n",
    "df_limpio.boxplot(column='horas_trabajo', by='tipo_mantenimiento', ax=ax4)\n",
    "ax4.set_xlabel('Tipo de Mantenimiento')\n",
    "ax4.set_ylabel('Horas de Trabajo')\n",
    "ax4.set_title('Horas de Trabajo por Tipo de Mantenimiento')\n",
    "plt.sca(ax4)\n",
    "plt.xticks(rotation=45)\n",
    "\n",
    "plt.suptitle('Análisis de Calidad de Datos - Mantenimiento', y=1.02)\n",
    "plt.tight_layout()\n",
    "plt.savefig('reporte_calidad.png')\n",
    "print(\"Gráfico guardado como 'reporte_calidad.png'\")"
   ]
  },
  {
   "cell_type": "markdown",
   "id": "31e8ce80",
   "metadata": {},
   "source": [
    "Guardar datos limpios"
   ]
  },
  {
   "cell_type": "code",
   "execution_count": null,
   "id": "f39cf343",
   "metadata": {},
   "outputs": [],
   "source": [
    "# Guardar datos limpios\n",
    "df_limpio.to_csv('../datos/mantenimiento_limpio.csv', index=False)\n",
    "print(\"\\nDataset limpio guardado como 'mantenimiento_limpio.csv'\")"
   ]
  },
  {
   "cell_type": "markdown",
   "id": "a517c756",
   "metadata": {},
   "source": [
    "Guardar reporte en JSON"
   ]
  },
  {
   "cell_type": "code",
   "execution_count": null,
   "id": "2132582a",
   "metadata": {},
   "outputs": [],
   "source": [
    "# Guardar reporte en JSON\n",
    "import json\n",
    "with open('../datos/reporte_calidad.json', 'w') as f:\n",
    "    json.dump(reporte_final, f, indent=2, default=str)\n",
    "print(\"Reporte de calidad guardado como 'reporte_calidad.json'\")"
   ]
  },
  {
   "cell_type": "code",
   "execution_count": null,
   "id": "9d8e7229",
   "metadata": {},
   "outputs": [],
   "source": [
    "print(\"\\n10. RESUMEN DE ACCIONES TOMADAS\")\n",
    "print(\"-\" * 40)\n",
    "print(\"\"\"\n",
    "ACCIONES DE LIMPIEZA APLICADAS:\n",
    "1. ✓ Eliminación de registros duplicados\n",
    "2. ✓ Estandarización de tipos de mantenimiento\n",
    "3. ✓ Normalización de nombres de técnicos\n",
    "4. ✓ Corrección de valores negativos (horas y costos)\n",
    "5. ✓ Corrección de fechas futuras\n",
    "6. ✓ Imputación de descripciones faltantes\n",
    "7. ✓ Imputación de costos con mediana por tipo\n",
    "\n",
    "CALIDAD FINAL: {:.1f}%\n",
    "\"\"\".format(reporte_final['metricas_limpias']['completitud']))\n",
    "\n",
    "print(\"=\" * 60)\n",
    "print(\"DEMO COMPLETADA\")\n",
    "print(\"=\" * 60)"
   ]
  }
 ],
 "metadata": {
  "kernelspec": {
   "display_name": "Python 3",
   "language": "python",
   "name": "python3"
  },
  "language_info": {
   "codemirror_mode": {
    "name": "ipython",
    "version": 3
   },
   "file_extension": ".py",
   "mimetype": "text/x-python",
   "name": "python",
   "nbconvert_exporter": "python",
   "pygments_lexer": "ipython3",
   "version": "3.12.1"
  }
 },
 "nbformat": 4,
 "nbformat_minor": 5
}
