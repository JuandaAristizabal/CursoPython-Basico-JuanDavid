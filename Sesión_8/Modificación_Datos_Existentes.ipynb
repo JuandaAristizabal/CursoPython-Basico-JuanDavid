{
 "cells": [
  {
   "cell_type": "code",
   "execution_count": 22,
   "id": "093c1644",
   "metadata": {},
   "outputs": [
    {
     "name": "stdout",
     "output_type": "stream",
     "text": [
      "Datos originales con problemas de calidad:\n",
      "  empleado_id           nombre                        email departamento  \\\n",
      "0        E001     Ana García         ana.garcia@company.com  Consultoría   \n",
      "1        E002     carlos lopez     CARLOS.LOPEZ@COMPANY.COM           It   \n",
      "2        E003  MARÍA RODRÍGUEZ  maria.rodriguez@company.com  CONSULTORIA   \n",
      "3        E004       Juan Pérez       juan.perez@company.COM     Finanzas   \n",
      "4        E005    laura  martin     laura.martin@company.com           IT   \n",
      "5        E006    Pedro Sánchez    pedro.sanchez@COMPANY.com  consultoría   \n",
      "\n",
      "  salario fecha_ingreso     telefono    estado  \n",
      "0  65,000    15/01/2020  91-555-0123    activo  \n",
      "1   70000    2021-03-10  91 555 0124    ACTIVO  \n",
      "2   62000    10-02-2022    915550125    Activo  \n",
      "3  75,000    2019/12/05  91.555.0126  inactivo  \n",
      "4   68000    2023-01-15  91-555-0127  INACTIVO  \n",
      "5   67000    2020/08/20    915550128    Activo  \n"
     ]
    }
   ],
   "source": [
    "import pandas as pd\n",
    "import numpy as np\n",
    "import re\n",
    "\n",
    "# Dataset con problemas comunes de calidad de datos\n",
    "empleados_sucio = pd.DataFrame({\n",
    "    'empleado_id': ['E001', 'E002', 'E003', 'E004', 'E005', 'E006'],\n",
    "    'nombre': ['Ana García  ', 'carlos lopez', 'MARÍA RODRÍGUEZ', 'Juan Pérez', 'laura  martin', 'Pedro Sánchez'],\n",
    "    'email': ['ana.garcia@company.com', 'CARLOS.LOPEZ@COMPANY.COM', 'maria.rodriguez@company.com', \n",
    "              'juan.perez@company.COM', 'laura.martin@company.com', 'pedro.sanchez@COMPANY.com'],\n",
    "    'departamento': ['Consultoría', 'It', 'CONSULTORIA', 'Finanzas', 'IT', 'consultoría'],\n",
    "    'salario': ['65,000', '70000', '62000', '75,000', '68000', '67000'],\n",
    "    'fecha_ingreso': ['15/01/2020', '2021-03-10', '10-02-2022', '2019/12/05', '2023-01-15', '2020/08/20'],\n",
    "    'telefono': ['91-555-0123', '91 555 0124', '915550125', '91.555.0126', '91-555-0127', '915550128'],\n",
    "    'estado': ['activo', 'ACTIVO', 'Activo', 'inactivo', 'INACTIVO', 'Activo']\n",
    "})\n",
    "\n",
    "print(\"Datos originales con problemas de calidad:\")\n",
    "print(empleados_sucio)"
   ]
  },
  {
   "cell_type": "markdown",
   "id": "6ddf5d6d",
   "metadata": {},
   "source": [
    "Limpieza y Estandarización de Texto"
   ]
  },
  {
   "cell_type": "markdown",
   "id": "99ec6d9a",
   "metadata": {},
   "source": [
    "Normalización de Nombres"
   ]
  },
  {
   "cell_type": "code",
   "execution_count": 23,
   "id": "f95c40a7",
   "metadata": {},
   "outputs": [
    {
     "name": "stdout",
     "output_type": "stream",
     "text": [
      "Nombres después de limpieza:\n",
      "  empleado_id           nombre\n",
      "0        E001       Ana García\n",
      "1        E002     Carlos Lopez\n",
      "2        E003  María Rodríguez\n",
      "3        E004       Juan Pérez\n",
      "4        E005    Laura  Martin\n",
      "5        E006    Pedro Sánchez\n"
     ]
    }
   ],
   "source": [
    "# Crear una copia para trabajar\n",
    "empleados_limpio = empleados_sucio.copy()\n",
    "\n",
    "# Limpiar espacios en blanco y estandarizar capitalización\n",
    "empleados_limpio['nombre'] = empleados_limpio['nombre'].str.strip()  # Quitar espacios\n",
    "empleados_limpio['nombre'] = empleados_limpio['nombre'].str.title()  # Capitalización correcta\n",
    "\n",
    "print(\"Nombres después de limpieza:\")\n",
    "print(empleados_limpio[['empleado_id', 'nombre']])"
   ]
  },
  {
   "cell_type": "markdown",
   "id": "97af3257",
   "metadata": {},
   "source": [
    "Estandarización de Emails"
   ]
  },
  {
   "cell_type": "code",
   "execution_count": 24,
   "id": "458d91b3",
   "metadata": {},
   "outputs": [
    {
     "name": "stdout",
     "output_type": "stream",
     "text": [
      "Emails estandarizados:\n",
      "  empleado_id                        email\n",
      "0        E001       ana.garcia@company.com\n",
      "1        E002     carlos.lopez@company.com\n",
      "2        E003  maria.rodriguez@company.com\n",
      "3        E004       juan.perez@company.com\n",
      "4        E005     laura.martin@company.com\n",
      "5        E006    pedro.sanchez@company.com\n"
     ]
    }
   ],
   "source": [
    "# Convertir emails a minúsculas\n",
    "empleados_limpio['email'] = empleados_limpio['email'].str.lower()\n",
    "\n",
    "print(\"Emails estandarizados:\")\n",
    "print(empleados_limpio[['empleado_id', 'email']])"
   ]
  },
  {
   "cell_type": "markdown",
   "id": "685f849e",
   "metadata": {},
   "source": [
    "Normalización de Departamentos"
   ]
  },
  {
   "cell_type": "code",
   "execution_count": 25,
   "id": "9b334f1f",
   "metadata": {},
   "outputs": [
    {
     "name": "stdout",
     "output_type": "stream",
     "text": [
      "Departamentos normalizados:\n",
      "  departamento departamento_normalizado\n",
      "0  Consultoría              Consultoría\n",
      "1           It                       IT\n",
      "2  CONSULTORIA              Consultoría\n",
      "3     Finanzas                 Finanzas\n",
      "4           IT                       IT\n",
      "5  consultoría              Consultoría\n"
     ]
    }
   ],
   "source": [
    "# Crear diccionario de mapeo para departamentos\n",
    "mapeo_departamentos = {\n",
    "    'consultoría': 'Consultoría',\n",
    "    'CONSULTORIA': 'Consultoría',\n",
    "    'it': 'IT',\n",
    "    'IT': 'IT',\n",
    "    'finanzas': 'Finanzas'\n",
    "}\n",
    "\n",
    "# Aplicar mapeo después de normalizar\n",
    "empleados_limpio['departamento_normalizado'] = (\n",
    "    empleados_limpio['departamento']\n",
    "    .str.lower()\n",
    "    .str.strip()\n",
    "    .replace({\n",
    "        'consultoría': 'Consultoría',\n",
    "        'consultoria': 'Consultoría',\n",
    "        'it': 'IT',\n",
    "        'finanzas': 'Finanzas'\n",
    "    })\n",
    ")\n",
    "\n",
    "print(\"Departamentos normalizados:\")\n",
    "print(empleados_limpio[['departamento', 'departamento_normalizado']])"
   ]
  },
  {
   "cell_type": "markdown",
   "id": "723e1f84",
   "metadata": {},
   "source": [
    "Transformación de Tipos de Datos"
   ]
  },
  {
   "cell_type": "code",
   "execution_count": 26,
   "id": "57dab0bb",
   "metadata": {},
   "outputs": [
    {
     "name": "stdout",
     "output_type": "stream",
     "text": [
      "Salarios convertidos:\n",
      "  empleado_id salario  salario_numerico\n",
      "0        E001  65,000           65000.0\n",
      "1        E002   70000           70000.0\n",
      "2        E003   62000           62000.0\n",
      "3        E004  75,000           75000.0\n",
      "4        E005   68000           68000.0\n",
      "5        E006   67000           67000.0\n"
     ]
    }
   ],
   "source": [
    "# Limpiar formato de salarios y convertir a numérico\n",
    "def limpiar_salario(salario_str):\n",
    "    \"\"\"Convierte string de salario a float, removiendo comas y espacios.\"\"\"\n",
    "    if isinstance(salario_str, str):\n",
    "        # Remover comas y espacios\n",
    "        salario_limpio = salario_str.replace(',', '').replace(' ', '')\n",
    "        return float(salario_limpio)\n",
    "    return float(salario_str)\n",
    "\n",
    "empleados_limpio['salario_numerico'] = empleados_limpio['salario'].apply(limpiar_salario)\n",
    "\n",
    "print(\"Salarios convertidos:\")\n",
    "print(empleados_limpio[['empleado_id', 'salario', 'salario_numerico']])"
   ]
  },
  {
   "cell_type": "markdown",
   "id": "ab663d6b",
   "metadata": {},
   "source": [
    "Estandarización de Fechas"
   ]
  },
  {
   "cell_type": "code",
   "execution_count": 27,
   "id": "4f7577e7",
   "metadata": {},
   "outputs": [
    {
     "name": "stdout",
     "output_type": "stream",
     "text": [
      "Fechas estandarizadas:\n",
      "  empleado_id fecha_ingreso fecha_ingreso_std\n",
      "0        E001    15/01/2020        2020-01-15\n",
      "1        E002    2021-03-10        2021-03-10\n",
      "2        E003    10-02-2022        2022-02-10\n",
      "3        E004    2019/12/05        2019-12-05\n",
      "4        E005    2023-01-15        2023-01-15\n",
      "5        E006    2020/08/20        2020-08-20\n"
     ]
    }
   ],
   "source": [
    "# Función para normalizar diferentes formatos de fecha\n",
    "def estandarizar_fecha(fecha_str):\n",
    "    \"\"\"Convierte diferentes formatos de fecha a datetime.\"\"\"\n",
    "    fecha_str = str(fecha_str).strip()\n",
    "    \n",
    "    # Intentar diferentes formatos\n",
    "    formatos = ['%d/%m/%Y', '%Y-%m-%d', '%d-%m-%Y', '%Y/%m/%d']\n",
    "    \n",
    "    for formato in formatos:\n",
    "        try:\n",
    "            return pd.to_datetime(fecha_str, format=formato)\n",
    "        except ValueError:\n",
    "            continue\n",
    "    \n",
    "    # Si ningún formato funciona, usar parser automático\n",
    "    try:\n",
    "        return pd.to_datetime(fecha_str)\n",
    "    except:\n",
    "        return pd.NaT\n",
    "\n",
    "empleados_limpio['fecha_ingreso_std'] = empleados_limpio['fecha_ingreso'].apply(estandarizar_fecha)\n",
    "\n",
    "print(\"Fechas estandarizadas:\")\n",
    "print(empleados_limpio[['empleado_id', 'fecha_ingreso', 'fecha_ingreso_std']])"
   ]
  },
  {
   "cell_type": "markdown",
   "id": "fc6a2890",
   "metadata": {},
   "source": [
    "Normalización de Teléfonos"
   ]
  },
  {
   "cell_type": "code",
   "execution_count": 28,
   "id": "ce14cd47",
   "metadata": {},
   "outputs": [
    {
     "name": "stdout",
     "output_type": "stream",
     "text": [
      "Teléfonos estandarizados:\n",
      "  empleado_id     telefono telefono_std\n",
      "0        E001  91-555-0123  91-555-0123\n",
      "1        E002  91 555 0124  91-555-0124\n",
      "2        E003    915550125  91-555-0125\n",
      "3        E004  91.555.0126  91-555-0126\n",
      "4        E005  91-555-0127  91-555-0127\n",
      "5        E006    915550128  91-555-0128\n"
     ]
    }
   ],
   "source": [
    "# Función para estandarizar números de teléfono\n",
    "def estandarizar_telefono(telefono):\n",
    "    \"\"\"Estandariza formato de teléfono a XX-XXX-XXXX.\"\"\"\n",
    "    # Remover todo excepto dígitos\n",
    "    digitos = re.sub(r'\\D', '', str(telefono))\n",
    "    \n",
    "    # Formatear si tiene 9 dígitos (agregando código de área)\n",
    "    if len(digitos) == 9:\n",
    "        return f\"91-{digitos[2:5]}-{digitos[5:]}\"\n",
    "    elif len(digitos) == 11 and digitos.startswith('91'):\n",
    "        return f\"91-{digitos[2:5]}-{digitos[5:]}\"\n",
    "    else:\n",
    "        return telefono  # Devolver original si no se puede formatear\n",
    "\n",
    "empleados_limpio['telefono_std'] = empleados_limpio['telefono'].apply(estandarizar_telefono)\n",
    "\n",
    "print(\"Teléfonos estandarizados:\")\n",
    "print(empleados_limpio[['empleado_id', 'telefono', 'telefono_std']])"
   ]
  },
  {
   "cell_type": "markdown",
   "id": "85678cf0",
   "metadata": {},
   "source": [
    "Modificaciones Condicionales"
   ]
  },
  {
   "cell_type": "markdown",
   "id": "c4e3bb2c",
   "metadata": {},
   "source": [
    "Usando loc para Modificaciones Específicas"
   ]
  },
  {
   "cell_type": "code",
   "execution_count": 29,
   "id": "06ce7dd5",
   "metadata": {},
   "outputs": [
    {
     "name": "stdout",
     "output_type": "stream",
     "text": [
      "Estados estandarizados:\n",
      "  empleado_id    estado estado_std\n",
      "0        E001    activo     Activo\n",
      "1        E002    ACTIVO     Activo\n",
      "2        E003    Activo     Activo\n",
      "3        E004  inactivo   Inactivo\n",
      "4        E005  INACTIVO   Inactivo\n",
      "5        E006    Activo     Activo\n"
     ]
    }
   ],
   "source": [
    "# Estandarizar estados usando loc\n",
    "empleados_limpio['estado_std'] = empleados_limpio['estado'].str.lower()\n",
    "\n",
    "# Mapear a valores estándar\n",
    "empleados_limpio.loc[empleados_limpio['estado_std'] == 'activo', 'estado_std'] = 'Activo'\n",
    "empleados_limpio.loc[empleados_limpio['estado_std'] == 'inactivo', 'estado_std'] = 'Inactivo'\n",
    "\n",
    "print(\"Estados estandarizados:\")\n",
    "print(empleados_limpio[['empleado_id', 'estado', 'estado_std']])"
   ]
  },
  {
   "cell_type": "markdown",
   "id": "c3e533ef",
   "metadata": {},
   "source": [
    "Modificaciones Basadas en Multiple Condiciones"
   ]
  },
  {
   "cell_type": "code",
   "execution_count": 30,
   "id": "aba09216",
   "metadata": {},
   "outputs": [
    {
     "name": "stdout",
     "output_type": "stream",
     "text": [
      "Categorización salarial por departamento:\n",
      "  empleado_id departamento_normalizado  salario_numerico categoria_salarial\n",
      "0        E001              Consultoría           65000.0             Senior\n",
      "1        E002                       IT           70000.0             Senior\n",
      "2        E003              Consultoría           62000.0             Junior\n",
      "3        E004                 Finanzas           75000.0             Senior\n",
      "4        E005                       IT           68000.0             Senior\n",
      "5        E006              Consultoría           67000.0             Senior\n"
     ]
    }
   ],
   "source": [
    "# Crear columna de categoría salarial basada en departamento\n",
    "def categorizar_salario_por_dept(row):\n",
    "    if row['departamento_normalizado'] == 'Consultoría':\n",
    "        if row['salario_numerico'] >= 65000:\n",
    "            return 'Senior'\n",
    "        else:\n",
    "            return 'Junior'\n",
    "    elif row['departamento_normalizado'] == 'IT':\n",
    "        if row['salario_numerico'] >= 68000:\n",
    "            return 'Senior'\n",
    "        else:\n",
    "            return 'Junior'\n",
    "    else:  # Finanzas\n",
    "        if row['salario_numerico'] >= 70000:\n",
    "            return 'Senior'\n",
    "        else:\n",
    "            return 'Junior'\n",
    "\n",
    "empleados_limpio['categoria_salarial'] = empleados_limpio.apply(categorizar_salario_por_dept, axis=1)\n",
    "\n",
    "print(\"Categorización salarial por departamento:\")\n",
    "print(empleados_limpio[['empleado_id', 'departamento_normalizado', 'salario_numerico', 'categoria_salarial']])\n"
   ]
  },
  {
   "cell_type": "markdown",
   "id": "0e64a17e",
   "metadata": {},
   "source": [
    "Corrección de Datos Basada en Reglas"
   ]
  },
  {
   "cell_type": "markdown",
   "id": "d22a90e6",
   "metadata": {},
   "source": [
    "Validación y Corrección de Emails"
   ]
  },
  {
   "cell_type": "code",
   "execution_count": 31,
   "id": "1432e0f3",
   "metadata": {},
   "outputs": [
    {
     "name": "stdout",
     "output_type": "stream",
     "text": [
      "Validación y corrección de emails:\n",
      "  empleado_id                        email  email_valido  \\\n",
      "0        E001       ana.garcia@company.com          True   \n",
      "1        E002     carlos.lopez@company.com          True   \n",
      "2        E003  maria.rodriguez@company.com          True   \n",
      "3        E004       juan.perez@company.com          True   \n",
      "4        E005     laura.martin@company.com          True   \n",
      "5        E006    pedro.sanchez@company.com          True   \n",
      "\n",
      "               email_corregido  \n",
      "0       ana.garcia@company.com  \n",
      "1     carlos.lopez@company.com  \n",
      "2  maria.rodriguez@company.com  \n",
      "3       juan.perez@company.com  \n",
      "4     laura.martin@company.com  \n",
      "5    pedro.sanchez@company.com  \n"
     ]
    }
   ],
   "source": [
    "# Función para validar formato de email\n",
    "def es_email_valido(email):\n",
    "    \"\"\"Verifica si un email tiene formato válido.\"\"\"\n",
    "    patron = r'^[a-zA-Z0-9._%+-]+@[a-zA-Z0-9.-]+\\.[a-zA-Z]{2,}$'\n",
    "    return bool(re.match(patron, email))\n",
    "\n",
    "# Identificar emails inválidos\n",
    "empleados_limpio['email_valido'] = empleados_limpio['email'].apply(es_email_valido)\n",
    "\n",
    "# Corregir emails problemáticos (ejemplo: falta de dominio completo)\n",
    "def corregir_email(email):\n",
    "    \"\"\"Intenta corregir problemas comunes en emails.\"\"\"\n",
    "    if es_email_valido(email):\n",
    "        return email\n",
    "    \n",
    "    # Corrección común: agregar .com si falta\n",
    "    if '@company' in email and not '.com' in email:\n",
    "        return email + '.com'\n",
    "    \n",
    "    return email\n",
    "\n",
    "empleados_limpio['email_corregido'] = empleados_limpio['email'].apply(corregir_email)\n",
    "\n",
    "print(\"Validación y corrección de emails:\")\n",
    "print(empleados_limpio[['empleado_id', 'email', 'email_valido', 'email_corregido']])\n"
   ]
  },
  {
   "cell_type": "markdown",
   "id": "b41a02cf",
   "metadata": {},
   "source": [
    "Detección y Corrección de Outliers"
   ]
  },
  {
   "cell_type": "code",
   "execution_count": 32,
   "id": "3792d173",
   "metadata": {},
   "outputs": [
    {
     "name": "stdout",
     "output_type": "stream",
     "text": [
      "Límites de salario: 59500 - 75500\n",
      "Detección de outliers salariales:\n",
      "  empleado_id  salario_numerico  salario_outlier\n",
      "0        E001           65000.0            False\n",
      "1        E002           70000.0            False\n",
      "2        E003           62000.0            False\n",
      "3        E004           75000.0            False\n",
      "4        E005           68000.0            False\n",
      "5        E006           67000.0            False\n"
     ]
    }
   ],
   "source": [
    "# Detectar salarios que parecen outliers\n",
    "q1 = empleados_limpio['salario_numerico'].quantile(0.25)\n",
    "q3 = empleados_limpio['salario_numerico'].quantile(0.75)\n",
    "iqr = q3 - q1\n",
    "limite_inferior = q1 - 1.5 * iqr\n",
    "limite_superior = q3 + 1.5 * iqr\n",
    "\n",
    "# Marcar outliers\n",
    "empleados_limpio['salario_outlier'] = (\n",
    "    (empleados_limpio['salario_numerico'] < limite_inferior) |\n",
    "    (empleados_limpio['salario_numerico'] > limite_superior)\n",
    ")\n",
    "\n",
    "print(f\"Límites de salario: {limite_inferior:.0f} - {limite_superior:.0f}\")\n",
    "print(\"Detección de outliers salariales:\")\n",
    "print(empleados_limpio[['empleado_id', 'salario_numerico', 'salario_outlier']])"
   ]
  },
  {
   "cell_type": "markdown",
   "id": "5779fab2",
   "metadata": {},
   "source": [
    "Modificaciones en Lote"
   ]
  },
  {
   "cell_type": "markdown",
   "id": "bef68e46",
   "metadata": {},
   "source": [
    "Usando replace() para Múltiples Reemplazos"
   ]
  },
  {
   "cell_type": "code",
   "execution_count": 33,
   "id": "10e6e537",
   "metadata": {},
   "outputs": [
    {
     "name": "stdout",
     "output_type": "stream",
     "text": [
      "Estandarización de datos de proyectos:\n",
      "  proyecto_id       estado prioridad         tipo   estado_std prioridad_std  \\\n",
      "0        P001           IP         H         Cons  En Progreso          Alta   \n",
      "1        P002  En Progreso      Alta  Consultoría  En Progreso          Alta   \n",
      "2        P003   COMPLETADO     MEDIA     TRAINING   Completado         Media   \n",
      "3        P004         comp         m        train   Completado         Media   \n",
      "\n",
      "      tipo_std  \n",
      "0  Consultoría  \n",
      "1  Consultoría  \n",
      "2     Training  \n",
      "3     Training  \n"
     ]
    }
   ],
   "source": [
    "# Crear dataset con abreviaciones inconsistentes\n",
    "datos_proyectos = pd.DataFrame({\n",
    "    'proyecto_id': ['P001', 'P002', 'P003', 'P004'],\n",
    "    'estado': ['IP', 'En Progreso', 'COMPLETADO', 'comp'],\n",
    "    'prioridad': ['H', 'Alta', 'MEDIA', 'm'],\n",
    "    'tipo': ['Cons', 'Consultoría', 'TRAINING', 'train']\n",
    "})\n",
    "\n",
    "# Diccionarios de mapeo para estandarización\n",
    "mapeo_estado = {\n",
    "    'IP': 'En Progreso',\n",
    "    'En Progreso': 'En Progreso',\n",
    "    'COMPLETADO': 'Completado',\n",
    "    'comp': 'Completado'\n",
    "}\n",
    "\n",
    "mapeo_prioridad = {\n",
    "    'H': 'Alta',\n",
    "    'Alta': 'Alta',\n",
    "    'MEDIA': 'Media',\n",
    "    'm': 'Media'\n",
    "}\n",
    "\n",
    "mapeo_tipo = {\n",
    "    'Cons': 'Consultoría',\n",
    "    'Consultoría': 'Consultoría',\n",
    "    'TRAINING': 'Training',\n",
    "    'train': 'Training'\n",
    "}\n",
    "\n",
    "# Aplicar mapeos\n",
    "datos_proyectos['estado_std'] = datos_proyectos['estado'].replace(mapeo_estado)\n",
    "datos_proyectos['prioridad_std'] = datos_proyectos['prioridad'].replace(mapeo_prioridad)\n",
    "datos_proyectos['tipo_std'] = datos_proyectos['tipo'].replace(mapeo_tipo)\n",
    "\n",
    "print(\"Estandarización de datos de proyectos:\")\n",
    "print(datos_proyectos)"
   ]
  },
  {
   "cell_type": "markdown",
   "id": "b565f51a",
   "metadata": {},
   "source": [
    "Usando map() para Transformaciones Complejas"
   ]
  },
  {
   "cell_type": "code",
   "execution_count": 34,
   "id": "0cd56229",
   "metadata": {},
   "outputs": [
    {
     "name": "stdout",
     "output_type": "stream",
     "text": [
      "Códigos de empleado generados:\n",
      "  empleado_id departamento_normalizado fecha_ingreso_std codigo_empleado\n",
      "0        E001              Consultoría        2020-01-15   CONS_2020_001\n",
      "1        E002                       IT        2021-03-10   TECH_2021_002\n",
      "2        E003              Consultoría        2022-02-10   CONS_2022_003\n",
      "3        E004                 Finanzas        2019-12-05    FIN_2019_004\n",
      "4        E005                       IT        2023-01-15   TECH_2023_005\n",
      "5        E006              Consultoría        2020-08-20   CONS_2020_006\n"
     ]
    }
   ],
   "source": [
    "# Crear códigos únicos para empleados basados en múltiples campos\n",
    "def generar_codigo_empleado(row):\n",
    "    \"\"\"Genera código único: DEPT_YYYY_NNN\"\"\"\n",
    "    dept_codigo = {\n",
    "        'Consultoría': 'CONS',\n",
    "        'IT': 'TECH',\n",
    "        'Finanzas': 'FIN'\n",
    "    }\n",
    "    \n",
    "    año_ingreso = row['fecha_ingreso_std'].year if pd.notna(row['fecha_ingreso_std']) else 2020\n",
    "    dept = dept_codigo.get(row['departamento_normalizado'], 'UNK')\n",
    "    numero = row.name + 1  # Usar índice + 1 como número\n",
    "    \n",
    "    return f\"{dept}_{año_ingreso}_{numero:03d}\"\n",
    "\n",
    "empleados_limpio['codigo_empleado'] = empleados_limpio.apply(generar_codigo_empleado, axis=1)\n",
    "\n",
    "print(\"Códigos de empleado generados:\")\n",
    "print(empleados_limpio[['empleado_id', 'departamento_normalizado', 'fecha_ingreso_std', 'codigo_empleado']])\n"
   ]
  },
  {
   "cell_type": "markdown",
   "id": "4cec26b2",
   "metadata": {},
   "source": [
    "Casos Prácticos de Consultoría\n",
    "\n",
    "Caso 1: Estandarización de Datos de Cliente"
   ]
  },
  {
   "cell_type": "code",
   "execution_count": 35,
   "id": "1d1d6246",
   "metadata": {},
   "outputs": [
    {
     "name": "stdout",
     "output_type": "stream",
     "text": [
      "Datos de clientes estandarizados:\n",
      "  cliente_id  nombre_empresa   industria   tamaño   ingresos  \\\n",
      "0       C001  Empresa A S.A.  Tecnología   Grande       1.5M   \n",
      "1       C002  Empresa B S.A.  Tecnología   Grande  2,000,000   \n",
      "2       C003  Empresa C S.A.    Finanzas  Mediana       500K   \n",
      "3       C004   Empresa D S.A    Finanzas  Pequeña    100,000   \n",
      "\n",
      "   ingresos_numericos  \n",
      "0           1500000.0  \n",
      "1           2000000.0  \n",
      "2            500000.0  \n",
      "3            100000.0  \n"
     ]
    }
   ],
   "source": [
    "# Simular datos de clientes con inconsistencias\n",
    "clientes_raw = pd.DataFrame({\n",
    "    'cliente_id': ['C001', 'C002', 'C003', 'C004'],\n",
    "    'nombre_empresa': ['Empresa A S.A.', 'EMPRESA B SA', 'empresa c s.a.', 'Empresa D S.A'],\n",
    "    'industria': ['Tecnología', 'TECH', 'Finanzas', 'fin'],\n",
    "    'tamaño': ['Grande', 'G', 'Mediana', 'P'],\n",
    "    'ingresos': ['1.5M', '2,000,000', '500K', '100,000']\n",
    "})\n",
    "\n",
    "def estandarizar_datos_cliente(df):\n",
    "    \"\"\"Estandariza datos de cliente para consistencia.\"\"\"\n",
    "    df = df.copy()\n",
    "    \n",
    "    # Estandarizar nombres de empresa\n",
    "    df['nombre_empresa'] = (df['nombre_empresa']\n",
    "                           .str.title()\n",
    "                           .str.replace(' S.A.', ' S.A.')\n",
    "                           .str.replace(' Sa', ' S.A.')\n",
    "                           .str.replace(' SA', ' S.A.'))\n",
    "    \n",
    "    # Mapear industrias\n",
    "    mapeo_industria = {\n",
    "        'Tecnología': 'Tecnología',\n",
    "        'TECH': 'Tecnología',\n",
    "        'Finanzas': 'Finanzas',\n",
    "        'fin': 'Finanzas'\n",
    "    }\n",
    "    df['industria'] = df['industria'].replace(mapeo_industria)\n",
    "    \n",
    "    # Mapear tamaños\n",
    "    mapeo_tamaño = {\n",
    "        'Grande': 'Grande',\n",
    "        'G': 'Grande',\n",
    "        'Mediana': 'Mediana',\n",
    "        'M': 'Mediana',\n",
    "        'Pequeña': 'Pequeña',\n",
    "        'P': 'Pequeña'\n",
    "    }\n",
    "    df['tamaño'] = df['tamaño'].replace(mapeo_tamaño)\n",
    "    \n",
    "    # Convertir ingresos a formato numérico\n",
    "    def convertir_ingresos(ingreso_str):\n",
    "        ingreso_str = str(ingreso_str).upper().replace(',', '')\n",
    "        if 'M' in ingreso_str:\n",
    "            return float(ingreso_str.replace('M', '')) * 1000000\n",
    "        elif 'K' in ingreso_str:\n",
    "            return float(ingreso_str.replace('K', '')) * 1000\n",
    "        else:\n",
    "            return float(ingreso_str)\n",
    "    \n",
    "    df['ingresos_numericos'] = df['ingresos'].apply(convertir_ingresos)\n",
    "    \n",
    "    return df\n",
    "\n",
    "clientes_limpio = estandarizar_datos_cliente(clientes_raw)\n",
    "\n",
    "print(\"Datos de clientes estandarizados:\")\n",
    "print(clientes_limpio)"
   ]
  },
  {
   "cell_type": "markdown",
   "id": "80016916",
   "metadata": {},
   "source": [
    "Caso 2: Actualización Masiva Basada en Nuevas Reglas"
   ]
  },
  {
   "cell_type": "code",
   "execution_count": 36,
   "id": "6e5666a8",
   "metadata": {},
   "outputs": [
    {
     "name": "stdout",
     "output_type": "stream",
     "text": [
      "Aplicación de nueva política salarial:\n",
      "  empleado_id departamento_normalizado categoria_salarial  salario_numerico  \\\n",
      "0        E001              Consultoría             Senior           65000.0   \n",
      "1        E002                       IT             Senior           70000.0   \n",
      "2        E003              Consultoría             Junior           62000.0   \n",
      "3        E004                 Finanzas             Senior           75000.0   \n",
      "4        E005                       IT             Senior           68000.0   \n",
      "5        E006              Consultoría             Senior           67000.0   \n",
      "\n",
      "   salario_nuevo  aumento_pct  \n",
      "0        70000.0     7.692308  \n",
      "1        77000.0    10.000000  \n",
      "2        65000.0     4.838710  \n",
      "3        79000.0     5.333333  \n",
      "4        75000.0    10.294118  \n",
      "5        72000.0     7.462687  \n"
     ]
    }
   ],
   "source": [
    "# Simular cambio en política salarial\n",
    "def aplicar_nueva_politica_salarial(df):\n",
    "    \"\"\"Aplica nueva política salarial basada en desempeño y mercado.\"\"\"\n",
    "    df = df.copy()\n",
    "    \n",
    "    # Aumentos base por departamento (simulado)\n",
    "    aumentos_base = {\n",
    "        'Consultoría': 1.05,  # 5%\n",
    "        'IT': 1.08,          # 8%\n",
    "        'Finanzas': 1.03     # 3%\n",
    "    }\n",
    "    \n",
    "    # Aplicar aumento base\n",
    "    df['salario_nuevo'] = df.apply(\n",
    "        lambda row: row['salario_numerico'] * aumentos_base.get(row['departamento_normalizado'], 1.0),\n",
    "        axis=1\n",
    "    )\n",
    "    \n",
    "    # Bonus adicional para empleados senior\n",
    "    df.loc[df['categoria_salarial'] == 'Senior', 'salario_nuevo'] *= 1.02\n",
    "    \n",
    "    # Redondear a múltiplos de 1000\n",
    "    df['salario_nuevo'] = (df['salario_nuevo'] / 1000).round() * 1000\n",
    "    \n",
    "    # Calcular aumento porcentual\n",
    "    df['aumento_pct'] = ((df['salario_nuevo'] - df['salario_numerico']) / df['salario_numerico']) * 100\n",
    "    \n",
    "    return df\n",
    "\n",
    "empleados_actualizados = aplicar_nueva_politica_salarial(empleados_limpio)\n",
    "\n",
    "print(\"Aplicación de nueva política salarial:\")\n",
    "print(empleados_actualizados[['empleado_id', 'departamento_normalizado', 'categoria_salarial', \n",
    "                               'salario_numerico', 'salario_nuevo', 'aumento_pct']])"
   ]
  }
 ],
 "metadata": {
  "kernelspec": {
   "display_name": "Python 3",
   "language": "python",
   "name": "python3"
  },
  "language_info": {
   "codemirror_mode": {
    "name": "ipython",
    "version": 3
   },
   "file_extension": ".py",
   "mimetype": "text/x-python",
   "name": "python",
   "nbconvert_exporter": "python",
   "pygments_lexer": "ipython3",
   "version": "3.12.1"
  }
 },
 "nbformat": 4,
 "nbformat_minor": 5
}
