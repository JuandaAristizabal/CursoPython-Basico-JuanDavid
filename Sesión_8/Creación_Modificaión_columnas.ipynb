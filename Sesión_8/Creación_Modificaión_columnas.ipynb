{
 "cells": [
  {
   "cell_type": "code",
   "execution_count": 55,
   "id": "60414a04",
   "metadata": {},
   "outputs": [
    {
     "name": "stdout",
     "output_type": "stream",
     "text": [
      "<class 'pandas.core.frame.DataFrame'>\n",
      "RangeIndex: 8 entries, 0 to 7\n",
      "Data columns (total 8 columns):\n",
      " #   Column           Non-Null Count  Dtype         \n",
      "---  ------           --------------  -----         \n",
      " 0   venta_id         8 non-null      object        \n",
      " 1   cliente          8 non-null      object        \n",
      " 2   producto         8 non-null      object        \n",
      " 3   cantidad         8 non-null      int64         \n",
      " 4   precio_unitario  8 non-null      int64         \n",
      " 5   descuento_pct    8 non-null      int64         \n",
      " 6   fecha_venta      8 non-null      datetime64[ns]\n",
      " 7   vendedor         8 non-null      object        \n",
      "dtypes: datetime64[ns](1), int64(3), object(4)\n",
      "memory usage: 644.0+ bytes\n",
      "None\n",
      "  venta_id    cliente     producto  cantidad  precio_unitario  descuento_pct  \\\n",
      "0     V001  Empresa A  Consultoría         1            50000              0   \n",
      "1     V002  Empresa B     Software         2            25000              5   \n",
      "2     V003  Empresa C  Consultoría         1            75000             10   \n",
      "3     V004  Empresa A     Training         3            15000              0   \n",
      "4     V005  Empresa D     Software         1            30000             15   \n",
      "\n",
      "  fecha_venta vendedor  \n",
      "0  2024-01-15      Ana  \n",
      "1  2024-01-20   Carlos  \n",
      "2  2024-02-10    María  \n",
      "3  2024-02-15      Ana  \n",
      "4  2024-03-05    Pedro  \n"
     ]
    }
   ],
   "source": [
    "import pandas as pd\n",
    "import numpy as np\n",
    "from datetime import datetime, timedelta\n",
    "\n",
    "# Dataset de ventas para análisis\n",
    "ventas = pd.DataFrame({\n",
    "    'venta_id': ['V001', 'V002', 'V003', 'V004', 'V005', 'V006', 'V007', 'V008'],\n",
    "    'cliente': ['Empresa A', 'Empresa B', 'Empresa C', 'Empresa A', 'Empresa D', 'Empresa B', 'Empresa C', 'Empresa E'],\n",
    "    'producto': ['Consultoría', 'Software', 'Consultoría', 'Training', 'Software', 'Consultoría', 'Training', 'Software'],\n",
    "    'cantidad': [1, 2, 1, 3, 1, 2, 2, 1],\n",
    "    'precio_unitario': [50000, 25000, 75000, 15000, 30000, 60000, 20000, 35000],\n",
    "    'descuento_pct': [0, 5, 10, 0, 15, 8, 5, 12],\n",
    "    'fecha_venta': ['2024-01-15', '2024-01-20', '2024-02-10', '2024-02-15', '2024-03-05', '2024-03-10', '2024-03-20', '2024-04-01'],\n",
    "    'vendedor': ['Ana', 'Carlos', 'María', 'Ana', 'Pedro', 'Carlos', 'María', 'Pedro']\n",
    "})\n",
    "\n",
    "# Convertir fecha a datetime\n",
    "ventas['fecha_venta'] = pd.to_datetime(ventas['fecha_venta'])\n",
    "print(ventas.info())\n",
    "print(ventas.head())"
   ]
  },
  {
   "cell_type": "markdown",
   "id": "876a8769",
   "metadata": {},
   "source": [
    "Creación de Columnas Básicas"
   ]
  },
  {
   "cell_type": "markdown",
   "id": "c3949863",
   "metadata": {},
   "source": [
    "Operaciones Aritméticas Simples"
   ]
  },
  {
   "cell_type": "code",
   "execution_count": 56,
   "id": "bc529fe7",
   "metadata": {},
   "outputs": [
    {
     "name": "stdout",
     "output_type": "stream",
     "text": [
      "Columnas de cálculo básico:\n",
      "  venta_id  ingresos_brutos  descuento_valor  ingresos_netos\n",
      "0     V001            50000              0.0         50000.0\n",
      "1     V002            50000           2500.0         47500.0\n",
      "2     V003            75000           7500.0         67500.0\n",
      "3     V004            45000              0.0         45000.0\n",
      "4     V005            30000           4500.0         25500.0\n",
      "5     V006           120000           9600.0        110400.0\n",
      "6     V007            40000           2000.0         38000.0\n",
      "7     V008            35000           4200.0         30800.0\n"
     ]
    }
   ],
   "source": [
    "# Calcular ingresos brutos\n",
    "ventas['ingresos_brutos'] = ventas['cantidad'] * ventas['precio_unitario']\n",
    "\n",
    "# Calcular descuento en valor absoluto\n",
    "ventas['descuento_valor'] = ventas['ingresos_brutos'] * (ventas['descuento_pct'] / 100)\n",
    "\n",
    "# Calcular ingresos netos\n",
    "ventas['ingresos_netos'] = ventas['ingresos_brutos'] - ventas['descuento_valor']\n",
    "\n",
    "print(\"Columnas de cálculo básico:\")\n",
    "print(ventas[['venta_id', 'ingresos_brutos', 'descuento_valor', 'ingresos_netos']])"
   ]
  },
  {
   "cell_type": "markdown",
   "id": "b3d992b0",
   "metadata": {},
   "source": [
    "Operaciones con Múltiples Columnas"
   ]
  },
  {
   "cell_type": "code",
   "execution_count": 57,
   "id": "713f0859",
   "metadata": {},
   "outputs": [
    {
     "name": "stdout",
     "output_type": "stream",
     "text": [
      "Análisis de rentabilidad:\n",
      "  venta_id  ingresos_netos  beneficio_estimado  margen_beneficio_pct\n",
      "0     V001         50000.0             20000.0             40.000000\n",
      "1     V002         47500.0             17500.0             36.842105\n",
      "2     V003         67500.0             22500.0             33.333333\n",
      "3     V004         45000.0             18000.0             40.000000\n",
      "4     V005         25500.0              7500.0             29.411765\n",
      "5     V006        110400.0             38400.0             34.782609\n",
      "6     V007         38000.0             14000.0             36.842105\n",
      "7     V008         30800.0              9800.0             31.818182\n"
     ]
    }
   ],
   "source": [
    "# Calcular margen de beneficio (asumiendo costo del 60% del precio)\n",
    "ventas['costo_estimado'] = ventas['ingresos_brutos'] * 0.60\n",
    "ventas['beneficio_estimado'] = ventas['ingresos_netos'] - ventas['costo_estimado']\n",
    "ventas['margen_beneficio_pct'] = (ventas['beneficio_estimado'] / ventas['ingresos_netos']) * 100\n",
    "\n",
    "print(\"Análisis de rentabilidad:\")\n",
    "print(ventas[['venta_id', 'ingresos_netos', 'beneficio_estimado', 'margen_beneficio_pct']])"
   ]
  },
  {
   "cell_type": "markdown",
   "id": "5c31c212",
   "metadata": {},
   "source": [
    "Creación de Columnas Condicionales"
   ]
  },
  {
   "cell_type": "markdown",
   "id": "dbf6a7c8",
   "metadata": {},
   "source": [
    "Usando np.where() para Condiciones Simples"
   ]
  },
  {
   "cell_type": "code",
   "execution_count": 58,
   "id": "30487167",
   "metadata": {},
   "outputs": [
    {
     "name": "stdout",
     "output_type": "stream",
     "text": [
      "Categorización básica:\n",
      "  venta_id  ingresos_netos categoria_venta  descuento_pct tipo_descuento\n",
      "0     V001         50000.0         Pequeña              0         Normal\n",
      "1     V002         47500.0         Pequeña              5         Normal\n",
      "2     V003         67500.0          Grande             10         Normal\n",
      "3     V004         45000.0         Pequeña              0         Normal\n",
      "4     V005         25500.0         Pequeña             15           Alto\n",
      "5     V006        110400.0          Grande              8         Normal\n",
      "6     V007         38000.0         Pequeña              5         Normal\n",
      "7     V008         30800.0         Pequeña             12           Alto\n"
     ]
    }
   ],
   "source": [
    "# Clasificar ventas por tamaño\n",
    "ventas['categoria_venta'] = np.where(\n",
    "    ventas['ingresos_netos'] > 50000, \n",
    "    'Grande', \n",
    "    'Pequeña'\n",
    ")\n",
    "\n",
    "# Clasificar descuentos\n",
    "ventas['tipo_descuento'] = np.where(\n",
    "    ventas['descuento_pct'] > 10, \n",
    "    'Alto', \n",
    "    'Normal'\n",
    ")\n",
    "\n",
    "print(\"Categorización básica:\")\n",
    "print(ventas[['venta_id', 'ingresos_netos', 'categoria_venta', 'descuento_pct', 'tipo_descuento']])"
   ]
  },
  {
   "cell_type": "markdown",
   "id": "78d88505",
   "metadata": {},
   "source": [
    "Condiciones Múltiples con np.select()"
   ]
  },
  {
   "cell_type": "code",
   "execution_count": 59,
   "id": "77aa7410",
   "metadata": {},
   "outputs": [
    {
     "name": "stdout",
     "output_type": "stream",
     "text": [
      "Segmentación detallada:\n",
      "  venta_id  ingresos_netos segmento_venta\n",
      "0     V001         50000.0           Alta\n",
      "1     V002         47500.0          Media\n",
      "2     V003         67500.0           Alta\n",
      "3     V004         45000.0          Media\n",
      "4     V005         25500.0          Media\n",
      "5     V006        110400.0        Premium\n",
      "6     V007         38000.0          Media\n",
      "7     V008         30800.0          Media\n"
     ]
    }
   ],
   "source": [
    "# Crear clasificación de ventas más detallada\n",
    "condiciones = [\n",
    "    ventas['ingresos_netos'] >= 75000,\n",
    "    ventas['ingresos_netos'] >= 50000,\n",
    "    ventas['ingresos_netos'] >= 25000\n",
    "]\n",
    "\n",
    "categorias = ['Premium', 'Alta', 'Media']\n",
    "\n",
    "ventas['segmento_venta'] = np.select(condiciones, categorias, default='Básica')\n",
    "\n",
    "print(\"Segmentación detallada:\")\n",
    "print(ventas[['venta_id', 'ingresos_netos', 'segmento_venta']])"
   ]
  },
  {
   "cell_type": "markdown",
   "id": "4d5c7541",
   "metadata": {},
   "source": [
    "Usando pd.cut() para Rangos"
   ]
  },
  {
   "cell_type": "code",
   "execution_count": 60,
   "id": "16d6ab8d",
   "metadata": {},
   "outputs": [
    {
     "name": "stdout",
     "output_type": "stream",
     "text": [
      "Segmentación por rangos:\n",
      "  venta_id  ingresos_netos rango_ingresos\n",
      "0     V001         50000.0          Medio\n",
      "1     V002         47500.0          Medio\n",
      "2     V003         67500.0           Alto\n",
      "3     V004         45000.0          Medio\n",
      "4     V005         25500.0           Bajo\n",
      "5     V006        110400.0        Premium\n",
      "6     V007         38000.0          Medio\n",
      "7     V008         30800.0          Medio\n"
     ]
    }
   ],
   "source": [
    "# Crear segmentos de ingresos usando rangos\n",
    "bins = [0, 30000, 60000, 90000, np.inf]\n",
    "labels = ['Bajo', 'Medio', 'Alto', 'Premium']\n",
    "\n",
    "ventas['rango_ingresos'] = pd.cut(ventas['ingresos_netos'], bins=bins, labels=labels, include_lowest=True)\n",
    "\n",
    "print(\"Segmentación por rangos:\")\n",
    "print(ventas[['venta_id', 'ingresos_netos', 'rango_ingresos']])"
   ]
  },
  {
   "cell_type": "markdown",
   "id": "c033de09",
   "metadata": {},
   "source": [
    "Transformaciones de Fechas"
   ]
  },
  {
   "cell_type": "markdown",
   "id": "911bf83b",
   "metadata": {},
   "source": [
    "Extracción de Componentes de Fecha"
   ]
  },
  {
   "cell_type": "code",
   "execution_count": 61,
   "id": "017edeb7",
   "metadata": {},
   "outputs": [
    {
     "name": "stdout",
     "output_type": "stream",
     "text": [
      "Componentes de fecha:\n",
      "  venta_id fecha_venta   año  mes  trimestre dia_semana\n",
      "0     V001  2024-01-15  2024    1          1     Monday\n",
      "1     V002  2024-01-20  2024    1          1   Saturday\n",
      "2     V003  2024-02-10  2024    2          1   Saturday\n",
      "3     V004  2024-02-15  2024    2          1   Thursday\n",
      "4     V005  2024-03-05  2024    3          1    Tuesday\n",
      "5     V006  2024-03-10  2024    3          1     Sunday\n",
      "6     V007  2024-03-20  2024    3          1  Wednesday\n",
      "7     V008  2024-04-01  2024    4          2     Monday\n"
     ]
    }
   ],
   "source": [
    "# Extraer componentes de fecha\n",
    "ventas['año'] = ventas['fecha_venta'].dt.year\n",
    "ventas['mes'] = ventas['fecha_venta'].dt.month\n",
    "ventas['trimestre'] = ventas['fecha_venta'].dt.quarter\n",
    "ventas['dia_semana'] = ventas['fecha_venta'].dt.day_name()\n",
    "\n",
    "print(\"Componentes de fecha:\")\n",
    "print(ventas[['venta_id', 'fecha_venta', 'año', 'mes', 'trimestre', 'dia_semana']])"
   ]
  },
  {
   "cell_type": "markdown",
   "id": "258618fc",
   "metadata": {},
   "source": [
    "Cálculos con Fechas"
   ]
  },
  {
   "cell_type": "code",
   "execution_count": 62,
   "id": "5a30fe3a",
   "metadata": {},
   "outputs": [
    {
     "name": "stdout",
     "output_type": "stream",
     "text": [
      "Cálculos temporales:\n",
      "  venta_id fecha_venta  dias_desde_inicio  dias_desde_venta\n",
      "0     V001  2024-01-15                  0               520\n",
      "1     V002  2024-01-20                  5               515\n",
      "2     V003  2024-02-10                 26               494\n",
      "3     V004  2024-02-15                 31               489\n",
      "4     V005  2024-03-05                 50               470\n",
      "5     V006  2024-03-10                 55               465\n",
      "6     V007  2024-03-20                 65               455\n",
      "7     V008  2024-04-01                 77               443\n"
     ]
    }
   ],
   "source": [
    "# Calcular días desde la primera venta\n",
    "fecha_inicio = ventas['fecha_venta'].min()\n",
    "ventas['dias_desde_inicio'] = (ventas['fecha_venta'] - fecha_inicio).dt.days\n",
    "\n",
    "# Calcular días hasta hoy\n",
    "hoy = datetime.now()\n",
    "ventas['dias_desde_venta'] = (hoy - ventas['fecha_venta']).dt.days\n",
    "\n",
    "print(\"Cálculos temporales:\")\n",
    "print(ventas[['venta_id', 'fecha_venta', 'dias_desde_inicio', 'dias_desde_venta']])"
   ]
  },
  {
   "cell_type": "markdown",
   "id": "9cfaa7d0",
   "metadata": {},
   "source": [
    "Transformaciones de Texto"
   ]
  },
  {
   "cell_type": "markdown",
   "id": "7bb765d3",
   "metadata": {},
   "source": [
    "Manipulación Básica de Strings"
   ]
  },
  {
   "cell_type": "code",
   "execution_count": 63,
   "id": "37921113",
   "metadata": {},
   "outputs": [
    {
     "name": "stdout",
     "output_type": "stream",
     "text": [
      "Transformaciones de texto:\n",
      "     cliente cliente_normalizado empresa_tipo     producto producto_codigo\n",
      "0  Empresa A           EMPRESA A      Empresa  Consultoría            CONS\n",
      "1  Empresa B           EMPRESA B      Empresa     Software            SOFT\n",
      "2  Empresa C           EMPRESA C      Empresa  Consultoría            CONS\n",
      "3  Empresa A           EMPRESA A      Empresa     Training            TRAI\n",
      "4  Empresa D           EMPRESA D      Empresa     Software            SOFT\n",
      "5  Empresa B           EMPRESA B      Empresa  Consultoría            CONS\n",
      "6  Empresa C           EMPRESA C      Empresa     Training            TRAI\n",
      "7  Empresa E           EMPRESA E      Empresa     Software            SOFT\n"
     ]
    }
   ],
   "source": [
    "# Normalizar nombres de clientes\n",
    "ventas['cliente_normalizado'] = ventas['cliente'].str.upper()\n",
    "\n",
    "# Extraer primera palabra del cliente\n",
    "ventas['empresa_tipo'] = ventas['cliente'].str.split().str[0]\n",
    "\n",
    "# Crear código corto del producto\n",
    "ventas['producto_codigo'] = ventas['producto'].str[:4].str.upper()\n",
    "\n",
    "print(\"Transformaciones de texto:\")\n",
    "print(ventas[['cliente', 'cliente_normalizado', 'empresa_tipo', 'producto', 'producto_codigo']])"
   ]
  },
  {
   "cell_type": "markdown",
   "id": "50487c2b",
   "metadata": {},
   "source": [
    "Creación de Variables Dummy/Categóricas"
   ]
  },
  {
   "cell_type": "code",
   "execution_count": 64,
   "id": "14cca12c",
   "metadata": {},
   "outputs": [
    {
     "name": "stdout",
     "output_type": "stream",
     "text": [
      "Variables dummy para vendedores:\n",
      "  vendedor  vendedor_Ana  vendedor_Carlos  vendedor_María  vendedor_Pedro\n",
      "0      Ana          True            False           False           False\n",
      "1   Carlos         False             True           False           False\n",
      "2    María         False            False            True           False\n",
      "3      Ana          True            False           False           False\n",
      "4    Pedro         False            False           False            True\n",
      "5   Carlos         False             True           False           False\n",
      "6    María         False            False            True           False\n",
      "7    Pedro         False            False           False            True\n"
     ]
    }
   ],
   "source": [
    "# Crear variables dummy para vendedores\n",
    "vendedor_dummies = pd.get_dummies(ventas['vendedor'], prefix='vendedor')\n",
    "ventas = pd.concat([ventas, vendedor_dummies], axis=1)\n",
    "\n",
    "print(\"Variables dummy para vendedores:\")\n",
    "print(ventas[['vendedor', 'vendedor_Ana', 'vendedor_Carlos', 'vendedor_María', 'vendedor_Pedro']])"
   ]
  },
  {
   "cell_type": "markdown",
   "id": "eeffad9b",
   "metadata": {},
   "source": [
    "Funciones Personalizadas y apply()"
   ]
  },
  {
   "cell_type": "markdown",
   "id": "cb0e6757",
   "metadata": {},
   "source": [
    "Función Simple con apply()"
   ]
  },
  {
   "cell_type": "code",
   "execution_count": 65,
   "id": "8225d627",
   "metadata": {},
   "outputs": [
    {
     "name": "stdout",
     "output_type": "stream",
     "text": [
      "Comisiones calculadas:\n",
      "  venta_id vendedor segmento_venta  ingresos_netos  comision_vendedor\n",
      "0     V001      Ana           Alta         50000.0             3000.0\n",
      "1     V002   Carlos          Media         47500.0             2375.0\n",
      "2     V003    María           Alta         67500.0             4050.0\n",
      "3     V004      Ana          Media         45000.0             2250.0\n",
      "4     V005    Pedro          Media         25500.0             1275.0\n",
      "5     V006   Carlos        Premium        110400.0             7728.0\n",
      "6     V007    María          Media         38000.0             1900.0\n",
      "7     V008    Pedro          Media         30800.0             1540.0\n"
     ]
    }
   ],
   "source": [
    "# Función para calcular comisión del vendedor\n",
    "def calcular_comision(row):\n",
    "    base = row['ingresos_netos'] * 0.05  # 5% base\n",
    "    if row['segmento_venta'] == 'Premium':\n",
    "        bonus = row['ingresos_netos'] * 0.02  # 2% bonus adicional\n",
    "    elif row['segmento_venta'] == 'Alta':\n",
    "        bonus = row['ingresos_netos'] * 0.01  # 1% bonus adicional\n",
    "    else:\n",
    "        bonus = 0\n",
    "    return base + bonus\n",
    "\n",
    "ventas['comision_vendedor'] = ventas.apply(calcular_comision, axis=1)\n",
    "\n",
    "print(\"Comisiones calculadas:\")\n",
    "print(ventas[['venta_id', 'vendedor', 'segmento_venta', 'ingresos_netos', 'comision_vendedor']])"
   ]
  },
  {
   "cell_type": "markdown",
   "id": "f91eed6c",
   "metadata": {},
   "source": [
    "Funciones Más Complejas"
   ]
  },
  {
   "cell_type": "code",
   "execution_count": 66,
   "id": "a24aefa2",
   "metadata": {},
   "outputs": [
    {
     "name": "stdout",
     "output_type": "stream",
     "text": [
      "Evaluación de calidad de ventas:\n",
      "  venta_id  ingresos_netos  margen_beneficio_pct  descuento_pct calidad_venta\n",
      "0     V001         50000.0             40.000000              0         Buena\n",
      "1     V002         47500.0             36.842105              5         Buena\n",
      "2     V003         67500.0             33.333333             10         Buena\n",
      "3     V004         45000.0             40.000000              0         Buena\n",
      "4     V005         25500.0             29.411765             15       Regular\n",
      "5     V006        110400.0             34.782609              8         Buena\n",
      "6     V007         38000.0             36.842105              5         Buena\n",
      "7     V008         30800.0             31.818182             12       Regular\n"
     ]
    }
   ],
   "source": [
    "# Función para evaluar calidad de la venta\n",
    "def evaluar_calidad_venta(row):\n",
    "    score = 0\n",
    "    \n",
    "    # Puntos por tamaño de venta\n",
    "    if row['ingresos_netos'] > 50000:\n",
    "        score += 3\n",
    "    elif row['ingresos_netos'] > 25000:\n",
    "        score += 2\n",
    "    else:\n",
    "        score += 1\n",
    "    \n",
    "    # Puntos por margen\n",
    "    if row['margen_beneficio_pct'] > 35:\n",
    "        score += 2\n",
    "    elif row['margen_beneficio_pct'] > 25:\n",
    "        score += 1\n",
    "    \n",
    "    # Penalización por descuento alto\n",
    "    if row['descuento_pct'] > 10:\n",
    "        score -= 1\n",
    "    \n",
    "    # Clasificar\n",
    "    if score >= 5:\n",
    "        return 'Excelente'\n",
    "    elif score >= 3:\n",
    "        return 'Buena'\n",
    "    else:\n",
    "        return 'Regular'\n",
    "\n",
    "ventas['calidad_venta'] = ventas.apply(evaluar_calidad_venta, axis=1)\n",
    "\n",
    "print(\"Evaluación de calidad de ventas:\")\n",
    "print(ventas[['venta_id', 'ingresos_netos', 'margen_beneficio_pct', 'descuento_pct', 'calidad_venta']])\n"
   ]
  },
  {
   "cell_type": "markdown",
   "id": "20052131",
   "metadata": {},
   "source": [
    "Transformaciones Avanzadas"
   ]
  },
  {
   "cell_type": "markdown",
   "id": "d7dbf169",
   "metadata": {},
   "source": [
    "Cálculos por Grupos"
   ]
  },
  {
   "cell_type": "code",
   "execution_count": 67,
   "id": "ca3305de",
   "metadata": {},
   "outputs": [
    {
     "name": "stdout",
     "output_type": "stream",
     "text": [
      "Análisis por grupos:\n",
      "  venta_id    cliente vendedor  ingresos_netos  participacion_cliente_pct  \\\n",
      "0     V001  Empresa A      Ana         50000.0                  52.631579   \n",
      "1     V002  Empresa B   Carlos         47500.0                  30.082331   \n",
      "2     V003  Empresa C    María         67500.0                  63.981043   \n",
      "3     V004  Empresa A      Ana         45000.0                  47.368421   \n",
      "4     V005  Empresa D    Pedro         25500.0                 100.000000   \n",
      "5     V006  Empresa B   Carlos        110400.0                  69.917669   \n",
      "6     V007  Empresa C    María         38000.0                  36.018957   \n",
      "7     V008  Empresa E    Pedro         30800.0                 100.000000   \n",
      "\n",
      "   ranking_vendedor  \n",
      "0               1.0  \n",
      "1               2.0  \n",
      "2               1.0  \n",
      "3               2.0  \n",
      "4               2.0  \n",
      "5               1.0  \n",
      "6               2.0  \n",
      "7               1.0  \n"
     ]
    }
   ],
   "source": [
    "# Calcular participación de cada venta en el total del cliente\n",
    "ventas['total_cliente'] = ventas.groupby('cliente')['ingresos_netos'].transform('sum')\n",
    "ventas['participacion_cliente_pct'] = (ventas['ingresos_netos'] / ventas['total_cliente']) * 100\n",
    "\n",
    "# Ranking de ventas por vendedor\n",
    "ventas['ranking_vendedor'] = ventas.groupby('vendedor')['ingresos_netos'].rank(ascending=False)\n",
    "\n",
    "print(\"Análisis por grupos:\")\n",
    "print(ventas[['venta_id', 'cliente', 'vendedor', 'ingresos_netos', 'participacion_cliente_pct', 'ranking_vendedor']])\n"
   ]
  },
  {
   "cell_type": "markdown",
   "id": "3c53faaf",
   "metadata": {},
   "source": [
    "Ventanas Móviles y Acumulados"
   ]
  },
  {
   "cell_type": "code",
   "execution_count": 68,
   "id": "a84b0628",
   "metadata": {},
   "outputs": [
    {
     "name": "stdout",
     "output_type": "stream",
     "text": [
      "Análisis temporal:\n",
      "  venta_id fecha_venta  ingresos_netos  ingresos_acumulados  promedio_movil_3\n",
      "0     V001  2024-01-15         50000.0              50000.0               NaN\n",
      "1     V002  2024-01-20         47500.0              97500.0               NaN\n",
      "2     V003  2024-02-10         67500.0             165000.0      55000.000000\n",
      "3     V004  2024-02-15         45000.0             210000.0      53333.333333\n",
      "4     V005  2024-03-05         25500.0             235500.0      46000.000000\n",
      "5     V006  2024-03-10        110400.0             345900.0      60300.000000\n",
      "6     V007  2024-03-20         38000.0             383900.0      57966.666667\n",
      "7     V008  2024-04-01         30800.0             414700.0      59733.333333\n"
     ]
    }
   ],
   "source": [
    "# Ordenar por fecha para cálculos secuenciales\n",
    "ventas_ordenadas = ventas.sort_values('fecha_venta')\n",
    "\n",
    "# Ingresos acumulados\n",
    "ventas_ordenadas['ingresos_acumulados'] = ventas_ordenadas['ingresos_netos'].cumsum()\n",
    "\n",
    "# Promedio móvil de 3 ventas\n",
    "ventas_ordenadas['promedio_movil_3'] = ventas_ordenadas['ingresos_netos'].rolling(window=3).mean()\n",
    "\n",
    "print(\"Análisis temporal:\")\n",
    "print(ventas_ordenadas[['venta_id', 'fecha_venta', 'ingresos_netos', 'ingresos_acumulados', 'promedio_movil_3']])\n"
   ]
  },
  {
   "cell_type": "markdown",
   "id": "0c73892a",
   "metadata": {},
   "source": [
    "Casos Prácticos de Consultoría\n",
    "\n",
    "Caso 1: Análisis de Rendimiento de Vendedores"
   ]
  },
  {
   "cell_type": "code",
   "execution_count": 69,
   "id": "b7fb4a50",
   "metadata": {},
   "outputs": [
    {
     "name": "stdout",
     "output_type": "stream",
     "text": [
      "Métricas de rendimiento por vendedor:\n",
      "  vendedor  num_ventas  ingresos_totales  ingreso_promedio  comision_total  \\\n",
      "0      Ana           2           95000.0           47500.0          5250.0   \n",
      "1   Carlos           2          157900.0           78950.0         10103.0   \n",
      "2    María           2          105500.0           52750.0          5950.0   \n",
      "3    Pedro           2           56300.0           28150.0          2815.0   \n",
      "\n",
      "   margen_promedio  eficiencia  \n",
      "0            40.00     47500.0  \n",
      "1            35.81     78950.0  \n",
      "2            35.09     52750.0  \n",
      "3            30.61     28150.0  \n"
     ]
    }
   ],
   "source": [
    "# Crear métricas comprehensivas de vendedores\n",
    "metricas_vendedor = ventas.groupby('vendedor').agg({\n",
    "    'venta_id': 'count',\n",
    "    'ingresos_netos': ['sum', 'mean'],\n",
    "    'comision_vendedor': 'sum',\n",
    "    'margen_beneficio_pct': 'mean'\n",
    "}).round(2)\n",
    "\n",
    "# Aplanar columnas multiníve\n",
    "metricas_vendedor.columns = ['num_ventas', 'ingresos_totales', 'ingreso_promedio', 'comision_total', 'margen_promedio']\n",
    "metricas_vendedor.reset_index(inplace=True)\n",
    "\n",
    "# Calcular eficiencia (ingresos por venta)\n",
    "metricas_vendedor['eficiencia'] = metricas_vendedor['ingresos_totales'] / metricas_vendedor['num_ventas']\n",
    "\n",
    "print(\"Métricas de rendimiento por vendedor:\")\n",
    "print(metricas_vendedor)"
   ]
  },
  {
   "cell_type": "markdown",
   "id": "ef9d4bf0",
   "metadata": {},
   "source": [
    "Caso 2: Segmentación de Clientes"
   ]
  },
  {
   "cell_type": "code",
   "execution_count": 70,
   "id": "0913e52f",
   "metadata": {},
   "outputs": [
    {
     "name": "stdout",
     "output_type": "stream",
     "text": [
      "Análisis RFM de clientes:\n",
      "           dias_ultima_compra  num_compras  valor_total score_recency  \\\n",
      "cliente                                                                 \n",
      "Empresa A                 489            2      95000.0             1   \n",
      "Empresa B                 465            2     157900.0             2   \n",
      "Empresa C                 455            2     105500.0             3   \n",
      "Empresa D                 470            1      25500.0             2   \n",
      "Empresa E                 443            1      30800.0             3   \n",
      "\n",
      "          score_frequency score_monetary  rfm_score  \n",
      "cliente                                              \n",
      "Empresa A               3              2          6  \n",
      "Empresa B               3              3          8  \n",
      "Empresa C               3              2          8  \n",
      "Empresa D               1              1          4  \n",
      "Empresa E               1              1          5  \n"
     ]
    }
   ],
   "source": [
    "# Análisis RFM simplificado (Recency, Frequency, Monetary)\n",
    "hoy = datetime.now()\n",
    "\n",
    "rfm_clientes = ventas.groupby('cliente').agg({\n",
    "    'fecha_venta': lambda x: (hoy - x.max()).days,  # Recency\n",
    "    'venta_id': 'count',  # Frequency\n",
    "    'ingresos_netos': 'sum'  # Monetary\n",
    "}).round(2)\n",
    "\n",
    "rfm_clientes.columns = ['dias_ultima_compra', 'num_compras', 'valor_total']\n",
    "\n",
    "# Crear scores RFM simplificados\n",
    "rfm_clientes['score_recency'] = pd.cut(rfm_clientes['dias_ultima_compra'], bins=3, labels=[3, 2, 1])\n",
    "rfm_clientes['score_frequency'] = pd.cut(rfm_clientes['num_compras'], bins=3, labels=[1, 2, 3])\n",
    "rfm_clientes['score_monetary'] = pd.cut(rfm_clientes['valor_total'], bins=3, labels=[1, 2, 3])\n",
    "\n",
    "# Score compuesto\n",
    "rfm_clientes['rfm_score'] = (\n",
    "    rfm_clientes['score_recency'].astype(int) + \n",
    "    rfm_clientes['score_frequency'].astype(int) + \n",
    "    rfm_clientes['score_monetary'].astype(int)\n",
    ")\n",
    "\n",
    "print(\"Análisis RFM de clientes:\")\n",
    "print(rfm_clientes)"
   ]
  },
  {
   "cell_type": "markdown",
   "id": "f77e4248",
   "metadata": {},
   "source": [
    "Caso 3: Indicadores de Alerta Temprana"
   ]
  },
  {
   "cell_type": "code",
   "execution_count": 71,
   "id": "43e03187",
   "metadata": {},
   "outputs": [
    {
     "name": "stdout",
     "output_type": "stream",
     "text": [
      "Ventas con alertas:\n",
      "  venta_id    cliente  alerta_descuento  alerta_margen  alerta_venta_pequeña  \\\n",
      "4     V005  Empresa D              True          False                 False   \n",
      "7     V008  Empresa E              True          False                 False   \n",
      "\n",
      "   total_alertas  \n",
      "4              1  \n",
      "7              1  \n"
     ]
    }
   ],
   "source": [
    "# Crear banderas de alerta para el negocio\n",
    "def crear_alertas(df):\n",
    "    df = df.copy()\n",
    "    \n",
    "    # Alerta: ventas con descuentos muy altos\n",
    "    df['alerta_descuento'] = df['descuento_pct'] > 10\n",
    "    \n",
    "    # Alerta: margen muy bajo\n",
    "    df['alerta_margen'] = df['margen_beneficio_pct'] < 20\n",
    "    \n",
    "    # Alerta: venta demasiado pequeña para el cliente\n",
    "    promedio_cliente = df.groupby('cliente')['ingresos_netos'].transform('mean')\n",
    "    df['alerta_venta_pequeña'] = df['ingresos_netos'] < (promedio_cliente * 0.5)\n",
    "    \n",
    "    # Contador total de alertas\n",
    "    df['total_alertas'] = (\n",
    "        df['alerta_descuento'].astype(int) + \n",
    "        df['alerta_margen'].astype(int) + \n",
    "        df['alerta_venta_pequeña'].astype(int)\n",
    "    )\n",
    "    \n",
    "    return df\n",
    "\n",
    "ventas_con_alertas = crear_alertas(ventas)\n",
    "\n",
    "print(\"Ventas con alertas:\")\n",
    "alertas_ventas = ventas_con_alertas[ventas_con_alertas['total_alertas'] > 0]\n",
    "print(alertas_ventas[['venta_id', 'cliente', 'alerta_descuento', 'alerta_margen', 'alerta_venta_pequeña', 'total_alertas']])\n"
   ]
  },
  {
   "cell_type": "markdown",
   "id": "0de95831",
   "metadata": {},
   "source": [
    "Ejercicios Prácticos\n",
    "\n",
    "Ejercicio 1: Métricas Básicas"
   ]
  },
  {
   "cell_type": "code",
   "execution_count": 72,
   "id": "38c98d5e",
   "metadata": {},
   "outputs": [
    {
     "name": "stdout",
     "output_type": "stream",
     "text": [
      "Nuevas columnas agregadas:\n",
      "  venta_id  precio_con_descuento categoria_precio mes_texto\n",
      "0     V001               50000.0             Alto   January\n",
      "1     V002               23750.0           Normal   January\n",
      "2     V003               67500.0             Alto  February\n",
      "3     V004               15000.0           Normal  February\n",
      "4     V005               25500.0           Normal     March\n",
      "5     V006               55200.0             Alto     March\n",
      "6     V007               19000.0           Normal     March\n",
      "7     V008               30800.0           Normal     April\n",
      "Datos de ventas analizados y guardados en 'ventas_analizadas.csv'.\n"
     ]
    }
   ],
   "source": [
    "# TODO: Crear las siguientes columnas:\n",
    "# 1. 'precio_con_descuento': precio unitario después del descuento\n",
    "# 2. 'categoria_precio': 'Alto' si precio_unitario > 40000, sino 'Normal'\n",
    "# 3. 'mes_texto': nombre del mes de la venta\n",
    "\n",
    "# Tu solución aquí:\n",
    "ventas['precio_con_descuento'] = ventas['precio_unitario'] * (1 - ventas['descuento_pct'] / 100)\n",
    "ventas['categoria_precio'] = np.where(ventas['precio_unitario'] > 40000, 'Alto', 'Normal')\n",
    "ventas['mes_texto'] = ventas['fecha_venta'].dt.month_name()\n",
    "print(\"Nuevas columnas agregadas:\")\n",
    "print(ventas[['venta_id', 'precio_con_descuento', 'categoria_precio', 'mes_texto']])\n",
    "\n",
    "# Guardar el DataFrame final a un archivo CSV\n",
    "ventas.to_csv('ventas_analizadas.csv', index=False)\n",
    "print(\"Datos de ventas analizados y guardados en 'ventas_analizadas.csv'.\")\n"
   ]
  },
  {
   "cell_type": "markdown",
   "id": "ac5c75d0",
   "metadata": {},
   "source": [
    "Ejercicio 2: Análisis Temporal"
   ]
  },
  {
   "cell_type": "code",
   "execution_count": 73,
   "id": "9beb5114",
   "metadata": {},
   "outputs": [
    {
     "name": "stdout",
     "output_type": "stream",
     "text": [
      "Nuevas columnas de trimestre y semanas agregadas:\n",
      "  venta_id trimestre_texto  es_primer_semestre  semanas_desde_inicio\n",
      "0     V001              Q1                True                     0\n",
      "1     V002              Q1                True                     0\n",
      "2     V003              Q1                True                     3\n",
      "3     V004              Q1                True                     4\n",
      "4     V005              Q1                True                     7\n",
      "5     V006              Q1                True                     7\n",
      "6     V007              Q1                True                     9\n",
      "7     V008              Q2                True                    11\n",
      "Datos de ventas actualizados y guardados en 'ventas_analizadas_actualizadas.csv'.\n"
     ]
    }
   ],
   "source": [
    "# TODO: Crear columnas que muestren:\n",
    "# 1. 'trimestre_texto': 'Q1', 'Q2', etc.\n",
    "# 2. 'es_primer_semestre': True si la venta fue en los primeros 6 meses\n",
    "# 3. 'semanas_desde_inicio': semanas transcurridas desde la primera venta\n",
    "\n",
    "# Tu solución aquí:\n",
    "ventas['trimestre_texto'] = 'Q' + ventas['trimestre'].astype(str)\n",
    "ventas['es_primer_semestre'] = ventas['mes'] <= 6\n",
    "ventas['semanas_desde_inicio'] = (ventas['fecha_venta'] - fecha_inicio).dt.days // 7\n",
    "print(\"Nuevas columnas de trimestre y semanas agregadas:\")\n",
    "print(ventas[['venta_id', 'trimestre_texto', 'es_primer_semestre', 'semanas_desde_inicio']])\n",
    "\n",
    "# Guardar el DataFrame final actualizado a un archivo CSV\n",
    "ventas.to_csv('ventas_analizadas_actualizadas.csv', index=False)\n",
    "print(\"Datos de ventas actualizados y guardados en 'ventas_analizadas_actualizadas.csv'.\")"
   ]
  },
  {
   "cell_type": "markdown",
   "id": "fe4ee7ec",
   "metadata": {},
   "source": [
    "Función Personalizada"
   ]
  },
  {
   "cell_type": "code",
   "execution_count": 82,
   "id": "011d22f3",
   "metadata": {},
   "outputs": [
    {
     "name": "stdout",
     "output_type": "stream",
     "text": [
      "Evaluación de potencial de clientes:\n",
      "     cliente  cantidad  precio_unitario potencial_cliente\n",
      "0  Empresa A         1            50000             Medio\n",
      "1  Empresa B         2            25000             Medio\n",
      "2  Empresa C         1            75000             Medio\n",
      "3  Empresa A         3            15000             Medio\n",
      "4  Empresa D         1            30000              Bajo\n",
      "5  Empresa B         2            60000              Alto\n",
      "6  Empresa C         2            20000             Medio\n",
      "7  Empresa E         1            35000             Medio\n",
      "Datos de RFM de clientes analizados y guardados en 'clientes_analizados.csv'.\n"
     ]
    }
   ],
   "source": [
    "# TODO: Crear una función que evalúe el 'potencial_cliente':\n",
    "# - 'Alto': si tiene más de 1 compra Y valor total > 50000\n",
    "# - 'Medio': si tiene 1 compra Y valor > 30000, O más compras con valor total <= 50000\n",
    "# - 'Bajo': otros casos\n",
    "\n",
    "# Tu solución aquí:\n",
    "def evaluar_potencial_cliente(row):\n",
    "    if row['cantidad'] > 1 and row['precio_unitario'] > 50000:\n",
    "        return 'Alto'\n",
    "    elif (row['cantidad'] == 1 and row['precio_unitario'] > 30000) or (row['cantidad'] > 1 and row['precio_unitario'] <= 50000):\n",
    "        return 'Medio'\n",
    "    else:\n",
    "        return 'Bajo'\n",
    "\n",
    "\n",
    "ventas['potencial_cliente'] = ventas.apply(evaluar_potencial_cliente, axis=1)\n",
    "print(\"Evaluación de potencial de clientes:\")\n",
    "print(ventas[['cliente', 'cantidad', 'precio_unitario', 'potencial_cliente']])\n",
    "\n",
    "# Guardar el DataFrame de RFM actualizado a un archivo CSV\n",
    "ventas.to_csv('clientes_analizados.csv', index=False)\n",
    "print(\"Datos de RFM de clientes analizados y guardados en 'clientes_analizados.csv'.\")"
   ]
  },
  {
   "cell_type": "code",
   "execution_count": null,
   "id": "6591921a",
   "metadata": {},
   "outputs": [],
   "source": [
    "\n"
   ]
  }
 ],
 "metadata": {
  "kernelspec": {
   "display_name": "Python 3",
   "language": "python",
   "name": "python3"
  },
  "language_info": {
   "codemirror_mode": {
    "name": "ipython",
    "version": 3
   },
   "file_extension": ".py",
   "mimetype": "text/x-python",
   "name": "python",
   "nbconvert_exporter": "python",
   "pygments_lexer": "ipython3",
   "version": "3.12.1"
  }
 },
 "nbformat": 4,
 "nbformat_minor": 5
}
