{
 "cells": [
  {
   "cell_type": "code",
   "execution_count": 1,
   "id": "ce6dc8dd",
   "metadata": {},
   "outputs": [
    {
     "name": "stdout",
     "output_type": "stream",
     "text": [
      "  proyecto_id    cliente  presupuesto  duracion_dias       estado  region\n",
      "0        P001  Empresa A        50000             30   Completado   Norte\n",
      "1        P002  Empresa B        75000             45  En Progreso     Sur\n",
      "2        P003  Empresa A        30000             20   Completado   Norte\n",
      "3        P004  Empresa C       120000             60    Retrasado  Centro\n",
      "4        P005  Empresa B        45000             25  En Progreso     Sur\n",
      "5        P006  Empresa D        90000             50   Completado   Norte\n"
     ]
    }
   ],
   "source": [
    "import pandas as pd\n",
    "import numpy as np\n",
    "\n",
    "# Datos de ejemplo: proyectos de consultoría\n",
    "proyectos = pd.DataFrame({\n",
    "    'proyecto_id': ['P001', 'P002', 'P003', 'P004', 'P005', 'P006'],\n",
    "    'cliente': ['Empresa A', 'Empresa B', 'Empresa A', 'Empresa C', 'Empresa B', 'Empresa D'],\n",
    "    'presupuesto': [50000, 75000, 30000, 120000, 45000, 90000],\n",
    "    'duracion_dias': [30, 45, 20, 60, 25, 50],\n",
    "    'estado': ['Completado', 'En Progreso', 'Completado', 'Retrasado', 'En Progreso', 'Completado'],\n",
    "    'region': ['Norte', 'Sur', 'Norte', 'Centro', 'Sur', 'Norte']\n",
    "})\n",
    "\n",
    "print(proyectos)"
   ]
  },
  {
   "cell_type": "markdown",
   "id": "312c528d",
   "metadata": {},
   "source": [
    "OPERADOR AND (&)"
   ]
  },
  {
   "cell_type": "code",
   "execution_count": 2,
   "id": "a9c18249",
   "metadata": {},
   "outputs": [
    {
     "name": "stdout",
     "output_type": "stream",
     "text": [
      "Proyectos con presupuesto alto y duración corta:\n",
      "  proyecto_id    cliente  presupuesto  duracion_dias       estado region\n",
      "1        P002  Empresa B        75000             45  En Progreso    Sur\n"
     ]
    }
   ],
   "source": [
    "# Proyectos con presupuesto mayor a 50,000 Y duración menor a 50 días\n",
    "filtro_and = proyectos[(proyectos['presupuesto'] > 50000) & \n",
    "                       (proyectos['duracion_dias'] < 50)]\n",
    "\n",
    "print(\"Proyectos con presupuesto alto y duración corta:\")\n",
    "print(filtro_and)"
   ]
  },
  {
   "cell_type": "markdown",
   "id": "12d05a53",
   "metadata": {},
   "source": [
    "OPERADOR OR (|)"
   ]
  },
  {
   "cell_type": "code",
   "execution_count": 3,
   "id": "917dba73",
   "metadata": {},
   "outputs": [
    {
     "name": "stdout",
     "output_type": "stream",
     "text": [
      "Proyectos retrasados o de alto presupuesto:\n",
      "  proyecto_id    cliente  presupuesto  duracion_dias     estado  region\n",
      "3        P004  Empresa C       120000             60  Retrasado  Centro\n"
     ]
    }
   ],
   "source": [
    "# Proyectos retrasados O con presupuesto muy alto\n",
    "filtro_or = proyectos[(proyectos['estado'] == 'Retrasado') | \n",
    "                      (proyectos['presupuesto'] > 100000)]\n",
    "\n",
    "print(\"Proyectos retrasados o de alto presupuesto:\")\n",
    "print(filtro_or)"
   ]
  },
  {
   "cell_type": "markdown",
   "id": "46b03e72",
   "metadata": {},
   "source": [
    "OPERADOR NOT ()"
   ]
  },
  {
   "cell_type": "code",
   "execution_count": 4,
   "id": "f5015557",
   "metadata": {},
   "outputs": [
    {
     "name": "stdout",
     "output_type": "stream",
     "text": [
      "Proyectos no completados:\n",
      "  proyecto_id    cliente  presupuesto  duracion_dias       estado  region\n",
      "1        P002  Empresa B        75000             45  En Progreso     Sur\n",
      "3        P004  Empresa C       120000             60    Retrasado  Centro\n",
      "4        P005  Empresa B        45000             25  En Progreso     Sur\n"
     ]
    }
   ],
   "source": [
    "# Proyectos que NO están completados\n",
    "filtro_not = proyectos[~(proyectos['estado'] == 'Completado')]\n",
    "\n",
    "print(\"Proyectos no completados:\")\n",
    "print(filtro_not)"
   ]
  },
  {
   "cell_type": "markdown",
   "id": "466e05ee",
   "metadata": {},
   "source": [
    "Mètodo isin() para Múltiples Valores"
   ]
  },
  {
   "cell_type": "markdown",
   "id": "1817ff21",
   "metadata": {},
   "source": [
    "USO BÁSICO DEL ISIN()"
   ]
  },
  {
   "cell_type": "code",
   "execution_count": 5,
   "id": "e33b79eb",
   "metadata": {},
   "outputs": [
    {
     "name": "stdout",
     "output_type": "stream",
     "text": [
      "Proyectos de Norte y Sur:\n",
      "  proyecto_id    cliente  presupuesto  duracion_dias       estado region\n",
      "0        P001  Empresa A        50000             30   Completado  Norte\n",
      "1        P002  Empresa B        75000             45  En Progreso    Sur\n",
      "2        P003  Empresa A        30000             20   Completado  Norte\n",
      "4        P005  Empresa B        45000             25  En Progreso    Sur\n",
      "5        P006  Empresa D        90000             50   Completado  Norte\n"
     ]
    }
   ],
   "source": [
    "# Proyectos de regiones específicas\n",
    "regiones_interes = ['Norte', 'Sur']\n",
    "filtro_regiones = proyectos[proyectos['region'].isin(regiones_interes)]\n",
    "\n",
    "print(\"Proyectos de Norte y Sur:\")\n",
    "print(filtro_regiones)"
   ]
  },
  {
   "cell_type": "markdown",
   "id": "a3e53d47",
   "metadata": {},
   "source": [
    "COMBINANDO ISIN () CON OTRAS CONDICIONES"
   ]
  },
  {
   "cell_type": "code",
   "execution_count": 6,
   "id": "7546c32c",
   "metadata": {},
   "outputs": [
    {
     "name": "stdout",
     "output_type": "stream",
     "text": [
      "Proyectos de Norte/Centro con presupuesto alto:\n",
      "  proyecto_id    cliente  presupuesto  duracion_dias      estado  region\n",
      "3        P004  Empresa C       120000             60   Retrasado  Centro\n",
      "5        P006  Empresa D        90000             50  Completado   Norte\n"
     ]
    }
   ],
   "source": [
    "# Proyectos de ciertas regiones Y con presupuesto alto\n",
    "filtro_complejo = proyectos[\n",
    "    proyectos['region'].isin(['Norte', 'Centro']) & \n",
    "    (proyectos['presupuesto'] > 60000)\n",
    "]\n",
    "\n",
    "print(\"Proyectos de Norte/Centro con presupuesto alto:\")\n",
    "print(filtro_complejo)"
   ]
  },
  {
   "cell_type": "markdown",
   "id": "ffcf8480",
   "metadata": {},
   "source": [
    "USO INVERSO DE ISIN ()"
   ]
  },
  {
   "cell_type": "code",
   "execution_count": 7,
   "id": "75c4c146",
   "metadata": {},
   "outputs": [
    {
     "name": "stdout",
     "output_type": "stream",
     "text": [
      "Proyectos fuera de la región Norte:\n",
      "  proyecto_id    cliente  presupuesto  duracion_dias       estado  region\n",
      "1        P002  Empresa B        75000             45  En Progreso     Sur\n",
      "3        P004  Empresa C       120000             60    Retrasado  Centro\n",
      "4        P005  Empresa B        45000             25  En Progreso     Sur\n"
     ]
    }
   ],
   "source": [
    "# Proyectos que NO son de la región Norte\n",
    "filtro_no_norte = proyectos[~proyectos['region'].isin(['Norte'])]\n",
    "\n",
    "print(\"Proyectos fuera de la región Norte:\")\n",
    "print(filtro_no_norte)"
   ]
  },
  {
   "cell_type": "markdown",
   "id": "ce804f07",
   "metadata": {},
   "source": [
    "MÉTODO QUERY() - SINTAXIS ALTERNATIVA"
   ]
  },
  {
   "cell_type": "code",
   "execution_count": 8,
   "id": "da1fd4aa",
   "metadata": {},
   "outputs": [
    {
     "name": "stdout",
     "output_type": "stream",
     "text": [
      "Ambos métodos producen el mismo resultado:\n",
      "True\n"
     ]
    }
   ],
   "source": [
    "# Sintaxis tradicional\n",
    "filtro_tradicional = proyectos[\n",
    "    (proyectos['presupuesto'] > 50000) & \n",
    "    (proyectos['duracion_dias'] < 50)\n",
    "]\n",
    "\n",
    "# Usando query() - más legible\n",
    "filtro_query = proyectos.query('presupuesto > 50000 and duracion_dias < 50')\n",
    "\n",
    "print(\"Ambos métodos producen el mismo resultado:\")\n",
    "print(filtro_query.equals(filtro_tradicional))"
   ]
  },
  {
   "cell_type": "markdown",
   "id": "78e54c86",
   "metadata": {},
   "source": [
    "VENTAJAS DEL MÉTODO QUERY ()"
   ]
  },
  {
   "cell_type": "code",
   "execution_count": 9,
   "id": "4917a65a",
   "metadata": {},
   "outputs": [
    {
     "name": "stdout",
     "output_type": "stream",
     "text": [
      "Filtro complejo con query():\n",
      "  proyecto_id    cliente  presupuesto  duracion_dias       estado region\n",
      "1        P002  Empresa B        75000             45  En Progreso    Sur\n",
      "4        P005  Empresa B        45000             25  En Progreso    Sur\n"
     ]
    }
   ],
   "source": [
    "# Consultas complejas más legibles\n",
    "filtro_complejo_query = proyectos.query(\n",
    "    'presupuesto > 40000 and '\n",
    "    'estado in [\"En Progreso\", \"Retrasado\"] and '\n",
    "    'region != \"Centro\"'\n",
    ")\n",
    "\n",
    "print(\"Filtro complejo con query():\")\n",
    "print(filtro_complejo_query)"
   ]
  },
  {
   "cell_type": "markdown",
   "id": "e2ca5d45",
   "metadata": {},
   "source": [
    "Casos Prácticos en Consultoría\n",
    "\n",
    "Caso 1: Identificación de Proyectos de Riesgo"
   ]
  },
  {
   "cell_type": "code",
   "execution_count": 10,
   "id": "8cd335fc",
   "metadata": {},
   "outputs": [
    {
     "name": "stdout",
     "output_type": "stream",
     "text": [
      "Proyectos de riesgo:\n",
      "  proyecto_id    cliente      estado  presupuesto\n",
      "3        P004  Empresa C   Retrasado       120000\n",
      "5        P006  Empresa D  Completado        90000\n"
     ]
    }
   ],
   "source": [
    "# Proyectos que requieren atención especial\n",
    "proyectos_riesgo = proyectos[\n",
    "    (proyectos['estado'] == 'Retrasado') |\n",
    "    ((proyectos['presupuesto'] > 80000) & (proyectos['duracion_dias'] > 40))\n",
    "]\n",
    "\n",
    "print(\"Proyectos de riesgo:\")\n",
    "print(proyectos_riesgo[['proyecto_id', 'cliente', 'estado', 'presupuesto']])"
   ]
  },
  {
   "cell_type": "markdown",
   "id": "64a9898e",
   "metadata": {},
   "source": [
    "Caso 2: Análisis por Cliente Estratégico"
   ]
  },
  {
   "cell_type": "code",
   "execution_count": 11,
   "id": "42dd1ca6",
   "metadata": {},
   "outputs": [
    {
     "name": "stdout",
     "output_type": "stream",
     "text": [
      "Proyectos activos de clientes estratégicos:\n",
      "  proyecto_id    cliente  presupuesto  duracion_dias       estado region\n",
      "1        P002  Empresa B        75000             45  En Progreso    Sur\n",
      "4        P005  Empresa B        45000             25  En Progreso    Sur\n"
     ]
    }
   ],
   "source": [
    "# Clientes con múltiples proyectos activos\n",
    "clientes_estrategicos = ['Empresa A', 'Empresa B']\n",
    "\n",
    "proyectos_estrategicos = proyectos[\n",
    "    proyectos['cliente'].isin(clientes_estrategicos) & \n",
    "    (proyectos['estado'] != 'Completado')\n",
    "]\n",
    "\n",
    "print(\"Proyectos activos de clientes estratégicos:\")\n",
    "print(proyectos_estrategicos)"
   ]
  },
  {
   "cell_type": "markdown",
   "id": "69072273",
   "metadata": {},
   "source": [
    "Caso 3: Filtrado por Rangos de Presupuesto"
   ]
  },
  {
   "cell_type": "code",
   "execution_count": 12,
   "id": "4b332720",
   "metadata": {},
   "outputs": [
    {
     "name": "stdout",
     "output_type": "stream",
     "text": [
      "Proyectos de presupuesto medio:\n",
      "  proyecto_id    cliente  presupuesto  duracion_dias       estado region\n",
      "0        P001  Empresa A        50000             30   Completado  Norte\n",
      "1        P002  Empresa B        75000             45  En Progreso    Sur\n",
      "4        P005  Empresa B        45000             25  En Progreso    Sur\n"
     ]
    }
   ],
   "source": [
    "# Proyectos de presupuesto medio (entre 40k y 80k)\n",
    "rango_medio = proyectos[\n",
    "    (proyectos['presupuesto'] >= 40000) & \n",
    "    (proyectos['presupuesto'] <= 80000)\n",
    "]\n",
    "\n",
    "print(\"Proyectos de presupuesto medio:\")\n",
    "print(rango_medio)"
   ]
  },
  {
   "cell_type": "markdown",
   "id": "5fceabae",
   "metadata": {},
   "source": [
    "Técnicas Avanzadas"
   ]
  },
  {
   "cell_type": "markdown",
   "id": "c081c1f4",
   "metadata": {},
   "source": [
    "Filtrado con Funciones Personalizadas"
   ]
  },
  {
   "cell_type": "code",
   "execution_count": 13,
   "id": "a2eb6cdb",
   "metadata": {},
   "outputs": [
    {
     "name": "stdout",
     "output_type": "stream",
     "text": [
      "Proyectos urgentes:\n",
      "  proyecto_id    cliente      estado  urgente\n",
      "3        P004  Empresa C   Retrasado     True\n",
      "5        P006  Empresa D  Completado     True\n"
     ]
    }
   ],
   "source": [
    "# Función para identificar proyectos urgentes\n",
    "def es_urgente(row):\n",
    "    return (row['estado'] == 'Retrasado' or \n",
    "            (row['duracion_dias'] > 45 and row['presupuesto'] > 70000))\n",
    "\n",
    "# Aplicar la función\n",
    "proyectos['urgente'] = proyectos.apply(es_urgente, axis=1)\n",
    "proyectos_urgentes = proyectos[proyectos['urgente']]\n",
    "\n",
    "print(\"Proyectos urgentes:\")\n",
    "print(proyectos_urgentes[['proyecto_id', 'cliente', 'estado', 'urgente']])"
   ]
  },
  {
   "cell_type": "markdown",
   "id": "4186eb6d",
   "metadata": {},
   "source": [
    "Filtrado con Expresiones Regulares"
   ]
  },
  {
   "cell_type": "code",
   "execution_count": 27,
   "id": "c48045c2",
   "metadata": {},
   "outputs": [
    {
     "name": "stdout",
     "output_type": "stream",
     "text": [
      "Clientes Empresa A o B:\n",
      "  proyecto_id    cliente  presupuesto  duracion_dias       estado region  \\\n",
      "0        P001  Empresa A        50000             30   Completado  Norte   \n",
      "1        P002  Empresa B        75000             45  En Progreso    Sur   \n",
      "2        P003  Empresa A        30000             20   Completado  Norte   \n",
      "4        P005  Empresa B        45000             25  En Progreso    Sur   \n",
      "\n",
      "   urgente  \n",
      "0    False  \n",
      "1    False  \n",
      "2    False  \n",
      "4    False  \n"
     ]
    }
   ],
   "source": [
    "# Clientes cuyo nombre contiene \"Empresa\"\n",
    "import re\n",
    "\n",
    "# Usando str.contains()\n",
    "filtro_regex = proyectos[proyectos['cliente'].str.contains('Empresa [AB]')]\n",
    "\n",
    "print(\"Clientes Empresa A o B:\")\n",
    "print(filtro_regex)"
   ]
  },
  {
   "cell_type": "markdown",
   "id": "476ddaa5",
   "metadata": {},
   "source": [
    "Filtrado por Múltiples Columnas Simultáneamente"
   ]
  },
  {
   "cell_type": "code",
   "execution_count": 26,
   "id": "d17df816",
   "metadata": {},
   "outputs": [
    {
     "name": "stdout",
     "output_type": "stream",
     "text": [
      "Proyectos con alta rentabilidad diaria:\n",
      "  proyecto_id    cliente  presupuesto  duracion_dias       estado region  \\\n",
      "1        P002  Empresa B        75000             45  En Progreso    Sur   \n",
      "4        P005  Empresa B        45000             25  En Progreso    Sur   \n",
      "\n",
      "   urgente  \n",
      "1    False  \n",
      "4    False  \n"
     ]
    }
   ],
   "source": [
    "# Condiciones que involucran múltiples métricas\n",
    "condiciones_complejas = (\n",
    "    (proyectos['presupuesto'] / proyectos['duracion_dias'] > 1500) &  # Alto valor diario\n",
    "    (proyectos['estado'] != 'Completado') &\n",
    "    (proyectos['region'].isin(['Norte', 'Sur']))\n",
    ")\n",
    "\n",
    "proyectos_complejos = proyectos[condiciones_complejas]\n",
    "print(\"Proyectos con alta rentabilidad diaria:\")\n",
    "print(proyectos_complejos)"
   ]
  },
  {
   "cell_type": "markdown",
   "id": "7d326f28",
   "metadata": {},
   "source": [
    "Ejercicios Prácticos\n",
    "\n",
    "Ejercicio 1: Filtrado Básico"
   ]
  },
  {
   "cell_type": "code",
   "execution_count": 23,
   "id": "e223a1e4",
   "metadata": {},
   "outputs": [
    {
     "name": "stdout",
     "output_type": "stream",
     "text": [
      "  proyecto_id    cliente  presupuesto  duracion_dias       estado  region  \\\n",
      "0        P001  Empresa A        50000             30   Completado   Norte   \n",
      "1        P002  Empresa B        75000             45  En Progreso     Sur   \n",
      "2        P003  Empresa A        30000             20   Completado   Norte   \n",
      "3        P004  Empresa C       120000             60    Retrasado  Centro   \n",
      "4        P005  Empresa B        45000             25  En Progreso     Sur   \n",
      "5        P006  Empresa D        90000             50   Completado   Norte   \n",
      "\n",
      "   urgente  \n",
      "0    False  \n",
      "1    False  \n",
      "2    False  \n",
      "3     True  \n",
      "4    False  \n",
      "5     True  \n",
      "Proyectos con presupuesto alto y en progreso o retrasado:\n",
      "  proyecto_id    cliente  presupuesto  duracion_dias       estado  region  \\\n",
      "1        P002  Empresa B        75000             45  En Progreso     Sur   \n",
      "3        P004  Empresa C       120000             60    Retrasado  Centro   \n",
      "\n",
      "   urgente  \n",
      "1    False  \n",
      "3     True  \n"
     ]
    }
   ],
   "source": [
    "# TODO: Encuentra todos los proyectos que:\n",
    "# 1. Tengan un presupuesto mayor a 60,000\n",
    "# 2. Y estén en estado \"En Progreso\" o \"Retrasado\"\n",
    "\n",
    "# Tu solución aquí:\n",
    "\n",
    "print (proyectos)\n",
    "\n",
    "filtro_solicitado = proyectos.query(\n",
    "    'presupuesto > 60000 and estado in [\"En Progreso\", \"Retrasado\"]'\n",
    ")\n",
    "print(\"Proyectos con presupuesto alto y en progreso o retrasado:\")\n",
    "print(filtro_solicitado) "
   ]
  },
  {
   "cell_type": "markdown",
   "id": "85a5a2fd",
   "metadata": {},
   "source": [
    "Ejercicio 2: Uso de isin()"
   ]
  },
  {
   "cell_type": "code",
   "execution_count": 20,
   "id": "65a08a94",
   "metadata": {},
   "outputs": [
    {
     "name": "stdout",
     "output_type": "stream",
     "text": [
      "Proyectos de Norte/Centro de Empresa A o C:\n",
      "  proyecto_id    cliente  presupuesto  duracion_dias      estado  region  \\\n",
      "0        P001  Empresa A        50000             30  Completado   Norte   \n",
      "2        P003  Empresa A        30000             20  Completado   Norte   \n",
      "3        P004  Empresa C       120000             60   Retrasado  Centro   \n",
      "\n",
      "   urgente  \n",
      "0    False  \n",
      "2    False  \n",
      "3     True  \n"
     ]
    }
   ],
   "source": [
    "# TODO: Encuentra proyectos que:\n",
    "# 1. Sean de las regiones Norte o Centro\n",
    "# 2. Y pertenezcan a Empresa A o Empresa C\n",
    "\n",
    "# Tu solución aquí:\n",
    "\n",
    "filtro_region_empresa = proyectos.query(\n",
    "    'region in [\"Norte\", \"Centro\"] and cliente in [\"Empresa A\", \"Empresa C\"]'\n",
    ")\n",
    "print(\"Proyectos de Norte/Centro de Empresa A o C:\")\n",
    "print(filtro_region_empresa)    "
   ]
  },
  {
   "cell_type": "markdown",
   "id": "8ddd2411",
   "metadata": {},
   "source": [
    "Ejercicio 3: Filtrado con Negación"
   ]
  },
  {
   "cell_type": "code",
   "execution_count": 21,
   "id": "906c0573",
   "metadata": {},
   "outputs": [
    {
     "name": "stdout",
     "output_type": "stream",
     "text": [
      "Proyectos no completados y no de la región Sur:\n",
      "  proyecto_id    cliente  presupuesto  duracion_dias     estado  region  \\\n",
      "3        P004  Empresa C       120000             60  Retrasado  Centro   \n",
      "\n",
      "   urgente  \n",
      "3     True  \n"
     ]
    }
   ],
   "source": [
    "# TODO: Encuentra proyectos que:\n",
    "# 1. NO estén completados\n",
    "# 2. Y NO sean de la región Sur\n",
    "\n",
    "# Tu solución aquí:\n",
    "filtro_no_completados = proyectos[proyectos['estado'] != 'Completado']\n",
    "filtro_no_sur = filtro_no_completados[filtro_no_completados['region'] != 'Sur']\n",
    "\n",
    "print(\"Proyectos no completados y no de la región Sur:\")\n",
    "print(filtro_no_sur)\n"
   ]
  }
 ],
 "metadata": {
  "kernelspec": {
   "display_name": "Python 3",
   "language": "python",
   "name": "python3"
  },
  "language_info": {
   "codemirror_mode": {
    "name": "ipython",
    "version": 3
   },
   "file_extension": ".py",
   "mimetype": "text/x-python",
   "name": "python",
   "nbconvert_exporter": "python",
   "pygments_lexer": "ipython3",
   "version": "3.12.1"
  }
 },
 "nbformat": 4,
 "nbformat_minor": 5
}
