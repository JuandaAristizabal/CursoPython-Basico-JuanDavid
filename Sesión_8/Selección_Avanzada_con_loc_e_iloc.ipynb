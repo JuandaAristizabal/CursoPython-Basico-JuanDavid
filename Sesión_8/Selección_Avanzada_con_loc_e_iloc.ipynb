{
 "cells": [
  {
   "cell_type": "code",
   "execution_count": 33,
   "id": "91341804",
   "metadata": {},
   "outputs": [
    {
     "name": "stdout",
     "output_type": "stream",
     "text": [
      "                      nombre departamento  salario  antiguedad  evaluacion  \\\n",
      "empleado_id                                                                  \n",
      "E001              Ana García  Consultoría    65000           3         8.5   \n",
      "E002            Carlos López           IT    70000           5         9.2   \n",
      "E003         María Rodriguez  Consultoría    62000           2         7.8   \n",
      "E004              Juan Pérez     Finanzas    75000           7         9.0   \n",
      "E005            Laura Martín           IT    68000           4         8.8   \n",
      "\n",
      "                ciudad  \n",
      "empleado_id             \n",
      "E001            Madrid  \n",
      "E002         Barcelona  \n",
      "E003            Madrid  \n",
      "E004          Valencia  \n",
      "E005         Barcelona  \n"
     ]
    }
   ],
   "source": [
    "import pandas as pd\n",
    "import numpy as np\n",
    "\n",
    "# Dataset de empleados para consultoría\n",
    "empleados = pd.DataFrame({\n",
    "    'empleado_id': ['E001', 'E002', 'E003', 'E004', 'E005', 'E006', 'E007', 'E008'],\n",
    "    'nombre': ['Ana García', 'Carlos López', 'María Rodriguez', 'Juan Pérez', \n",
    "               'Laura Martín', 'Pedro Sánchez', 'Sofia Hernández', 'Diego Torres'],\n",
    "    'departamento': ['Consultoría', 'IT', 'Consultoría', 'Finanzas', 'IT', 'Consultoría', 'Finanzas', 'IT'],\n",
    "    'salario': [65000, 70000, 62000, 75000, 68000, 67000, 72000, 69000],\n",
    "    'antiguedad': [3, 5, 2, 7, 4, 6, 3, 1],\n",
    "    'evaluacion': [8.5, 9.2, 7.8, 9.0, 8.8, 8.2, 9.1, 7.5],\n",
    "    'ciudad': ['Madrid', 'Barcelona', 'Madrid', 'Valencia', 'Barcelona', 'Madrid', 'Valencia', 'Barcelona']\n",
    "})\n",
    "\n",
    "# Configurar índice personalizado\n",
    "empleados.set_index('empleado_id', inplace=True)\n",
    "print(empleados.head())"
   ]
  },
  {
   "cell_type": "markdown",
   "id": "25a9855f",
   "metadata": {},
   "source": [
    "Método loc - Selección por Etiquetas"
   ]
  },
  {
   "cell_type": "markdown",
   "id": "1346c12c",
   "metadata": {},
   "source": [
    "Selección Básica con loc"
   ]
  },
  {
   "cell_type": "code",
   "execution_count": 34,
   "id": "8e7bfba5",
   "metadata": {},
   "outputs": [
    {
     "name": "stdout",
     "output_type": "stream",
     "text": [
      "Empleado E003:\n",
      "nombre          María Rodriguez\n",
      "departamento        Consultoría\n",
      "salario                   62000\n",
      "antiguedad                    2\n",
      "evaluacion                  7.8\n",
      "ciudad                   Madrid\n",
      "Name: E003, dtype: object\n"
     ]
    }
   ],
   "source": [
    "# Seleccionar un empleado específico\n",
    "empleado_e003 = empleados.loc['E003']\n",
    "print(\"Empleado E003:\")\n",
    "print(empleado_e003)"
   ]
  },
  {
   "cell_type": "markdown",
   "id": "b5696a8e",
   "metadata": {},
   "source": [
    "Selección de Múltiples Filas"
   ]
  },
  {
   "cell_type": "code",
   "execution_count": 35,
   "id": "b28ca3aa",
   "metadata": {},
   "outputs": [
    {
     "name": "stdout",
     "output_type": "stream",
     "text": [
      "Empleados específicos:\n",
      "                      nombre departamento  salario  antiguedad  evaluacion  \\\n",
      "empleado_id                                                                  \n",
      "E001              Ana García  Consultoría    65000           3         8.5   \n",
      "E003         María Rodriguez  Consultoría    62000           2         7.8   \n",
      "E005            Laura Martín           IT    68000           4         8.8   \n",
      "\n",
      "                ciudad  \n",
      "empleado_id             \n",
      "E001            Madrid  \n",
      "E003            Madrid  \n",
      "E005         Barcelona  \n"
     ]
    }
   ],
   "source": [
    "# Múltiples empleados específicos\n",
    "empleados_especificos = empleados.loc[['E001', 'E003', 'E005']]\n",
    "print(\"Empleados específicos:\")\n",
    "print(empleados_especificos)"
   ]
  },
  {
   "cell_type": "markdown",
   "id": "d46ff1eb",
   "metadata": {},
   "source": [
    "Selección de Rangos"
   ]
  },
  {
   "cell_type": "code",
   "execution_count": 36,
   "id": "11a54cf7",
   "metadata": {},
   "outputs": [
    {
     "name": "stdout",
     "output_type": "stream",
     "text": [
      "Empleados E002 a E005:\n",
      "                      nombre departamento  salario  antiguedad  evaluacion  \\\n",
      "empleado_id                                                                  \n",
      "E002            Carlos López           IT    70000           5         9.2   \n",
      "E003         María Rodriguez  Consultoría    62000           2         7.8   \n",
      "E004              Juan Pérez     Finanzas    75000           7         9.0   \n",
      "E005            Laura Martín           IT    68000           4         8.8   \n",
      "\n",
      "                ciudad  \n",
      "empleado_id             \n",
      "E002         Barcelona  \n",
      "E003            Madrid  \n",
      "E004          Valencia  \n",
      "E005         Barcelona  \n"
     ]
    }
   ],
   "source": [
    "# Rango de empleados (por índice)\n",
    "rango_empleados = empleados.loc['E002':'E005']\n",
    "print(\"Empleados E002 a E005:\")\n",
    "print(rango_empleados)"
   ]
  },
  {
   "cell_type": "markdown",
   "id": "1aa2eb88",
   "metadata": {},
   "source": [
    "Selección de Columnas Específicas"
   ]
  },
  {
   "cell_type": "code",
   "execution_count": 37,
   "id": "aef0d0dd",
   "metadata": {},
   "outputs": [
    {
     "name": "stdout",
     "output_type": "stream",
     "text": [
      "Información básica de E001:\n",
      "nombre           Ana García\n",
      "departamento    Consultoría\n",
      "salario               65000\n",
      "Name: E001, dtype: object\n"
     ]
    }
   ],
   "source": [
    "# Empleado específico, columnas específicas\n",
    "info_basica = empleados.loc['E001', ['nombre', 'departamento', 'salario']]\n",
    "print(\"Información básica de E001:\")\n",
    "print(info_basica)"
   ]
  },
  {
   "cell_type": "markdown",
   "id": "0861cb02",
   "metadata": {},
   "source": [
    "Selección de Múltiples Filas y Columnas"
   ]
  },
  {
   "cell_type": "code",
   "execution_count": 38,
   "id": "7d2cdf66",
   "metadata": {},
   "outputs": [
    {
     "name": "stdout",
     "output_type": "stream",
     "text": [
      "Subset específico:\n",
      "                      nombre  salario  evaluacion\n",
      "empleado_id                                      \n",
      "E001              Ana García    65000         8.5\n",
      "E003         María Rodriguez    62000         7.8\n",
      "E005            Laura Martín    68000         8.8\n"
     ]
    }
   ],
   "source": [
    "# Múltiples empleados, múltiples columnas\n",
    "subset = empleados.loc[['E001', 'E003', 'E005'], ['nombre', 'salario', 'evaluacion']]\n",
    "print(\"Subset específico:\")\n",
    "print(subset)"
   ]
  },
  {
   "cell_type": "markdown",
   "id": "d5a9fe4a",
   "metadata": {},
   "source": [
    "Método iloc - Selección por Posición"
   ]
  },
  {
   "cell_type": "markdown",
   "id": "0360c356",
   "metadata": {},
   "source": [
    "Selección Básica con iloc"
   ]
  },
  {
   "cell_type": "code",
   "execution_count": 39,
   "id": "574cf170",
   "metadata": {},
   "outputs": [
    {
     "name": "stdout",
     "output_type": "stream",
     "text": [
      "Primer empleado:\n",
      "nombre           Ana García\n",
      "departamento    Consultoría\n",
      "salario               65000\n",
      "antiguedad                3\n",
      "evaluacion              8.5\n",
      "ciudad               Madrid\n",
      "Name: E001, dtype: object\n"
     ]
    }
   ],
   "source": [
    "# Primer empleado (posición 0)\n",
    "primer_empleado = empleados.iloc[0]\n",
    "print(\"Primer empleado:\")\n",
    "print(primer_empleado)"
   ]
  },
  {
   "cell_type": "markdown",
   "id": "3897c163",
   "metadata": {},
   "source": [
    "Selección por Rangos de Posición"
   ]
  },
  {
   "cell_type": "code",
   "execution_count": 40,
   "id": "9aff0ccf",
   "metadata": {},
   "outputs": [
    {
     "name": "stdout",
     "output_type": "stream",
     "text": [
      "Primeros 3 empleados:\n",
      "                      nombre departamento  salario  antiguedad  evaluacion  \\\n",
      "empleado_id                                                                  \n",
      "E001              Ana García  Consultoría    65000           3         8.5   \n",
      "E002            Carlos López           IT    70000           5         9.2   \n",
      "E003         María Rodriguez  Consultoría    62000           2         7.8   \n",
      "\n",
      "                ciudad  \n",
      "empleado_id             \n",
      "E001            Madrid  \n",
      "E002         Barcelona  \n",
      "E003            Madrid  \n"
     ]
    }
   ],
   "source": [
    "# Primeros 3 empleados\n",
    "primeros_tres = empleados.iloc[0:3]\n",
    "print(\"Primeros 3 empleados:\")\n",
    "print(primeros_tres)"
   ]
  },
  {
   "cell_type": "markdown",
   "id": "6c229993",
   "metadata": {},
   "source": [
    "Selección de Columnas por Posición"
   ]
  },
  {
   "cell_type": "code",
   "execution_count": 41,
   "id": "e16b8208",
   "metadata": {},
   "outputs": [
    {
     "name": "stdout",
     "output_type": "stream",
     "text": [
      "Empleado posición 1, columnas específicas:\n",
      "nombre        Carlos López\n",
      "salario              70000\n",
      "antiguedad               5\n",
      "Name: E002, dtype: object\n"
     ]
    }
   ],
   "source": [
    "# Empleado en posición 1, columnas 0, 2, 3\n",
    "empleado_cols = empleados.iloc[1, [0, 2, 3]]\n",
    "print(\"Empleado posición 1, columnas específicas:\")\n",
    "print(empleado_cols)"
   ]
  },
  {
   "cell_type": "markdown",
   "id": "ff4c2aa8",
   "metadata": {},
   "source": [
    "Selección de Subconjuntos"
   ]
  },
  {
   "cell_type": "code",
   "execution_count": 42,
   "id": "41b78289",
   "metadata": {},
   "outputs": [
    {
     "name": "stdout",
     "output_type": "stream",
     "text": [
      "Subconjunto por posiciones:\n",
      "            departamento  salario  antiguedad  evaluacion\n",
      "empleado_id                                              \n",
      "E002                  IT    70000           5         9.2\n",
      "E003         Consultoría    62000           2         7.8\n",
      "E004            Finanzas    75000           7         9.0\n"
     ]
    }
   ],
   "source": [
    "# Filas 1-3, columnas 1-4\n",
    "subconjunto = empleados.iloc[1:4, 1:5]\n",
    "print(\"Subconjunto por posiciones:\")\n",
    "print(subconjunto)"
   ]
  },
  {
   "cell_type": "markdown",
   "id": "3367b391",
   "metadata": {},
   "source": [
    "Selección Condicional Avanzada"
   ]
  },
  {
   "cell_type": "markdown",
   "id": "240c31ff",
   "metadata": {},
   "source": [
    "Usando loc con Condiciones Booleanas"
   ]
  },
  {
   "cell_type": "code",
   "execution_count": 43,
   "id": "d74601bb",
   "metadata": {},
   "outputs": [
    {
     "name": "stdout",
     "output_type": "stream",
     "text": [
      "Consultores con salario alto:\n",
      "                    nombre departamento  salario  antiguedad  evaluacion  \\\n",
      "empleado_id                                                                \n",
      "E006         Pedro Sánchez  Consultoría    67000           6         8.2   \n",
      "\n",
      "             ciudad  \n",
      "empleado_id          \n",
      "E006         Madrid  \n"
     ]
    }
   ],
   "source": [
    "# Empleados de consultoría con salario alto\n",
    "consultores_alto_salario = empleados.loc[\n",
    "    (empleados['departamento'] == 'Consultoría') & \n",
    "    (empleados['salario'] > 65000)\n",
    "]\n",
    "print(\"Consultores con salario alto:\")\n",
    "print(consultores_alto_salario)"
   ]
  },
  {
   "cell_type": "markdown",
   "id": "0edb5af2",
   "metadata": {},
   "source": [
    "Selección Condicional de Columnas Específicas"
   ]
  },
  {
   "cell_type": "code",
   "execution_count": 44,
   "id": "23b8f4bf",
   "metadata": {},
   "outputs": [
    {
     "name": "stdout",
     "output_type": "stream",
     "text": [
      "Empleados con alta evaluación:\n",
      "                      nombre departamento  evaluacion  salario\n",
      "empleado_id                                                   \n",
      "E002            Carlos López           IT         9.2    70000\n",
      "E004              Juan Pérez     Finanzas         9.0    75000\n",
      "E005            Laura Martín           IT         8.8    68000\n",
      "E007         Sofia Hernández     Finanzas         9.1    72000\n"
     ]
    }
   ],
   "source": [
    "# Solo mostrar información relevante de empleados con alta evaluación\n",
    "alta_evaluacion = empleados.loc[\n",
    "    empleados['evaluacion'] > 8.5, \n",
    "    ['nombre', 'departamento', 'evaluacion', 'salario']\n",
    "]\n",
    "print(\"Empleados con alta evaluación:\")\n",
    "print(alta_evaluacion)"
   ]
  },
  {
   "cell_type": "markdown",
   "id": "37150b82",
   "metadata": {},
   "source": [
    "Combinando Múltiples Condiciones"
   ]
  },
  {
   "cell_type": "code",
   "execution_count": 45,
   "id": "2d0c9985",
   "metadata": {},
   "outputs": [
    {
     "name": "stdout",
     "output_type": "stream",
     "text": [
      "Empleados senior con buen rendimiento:\n",
      "                    nombre  antiguedad  evaluacion  salario\n",
      "empleado_id                                                \n",
      "E002          Carlos López           5         9.2    70000\n",
      "E004            Juan Pérez           7         9.0    75000\n",
      "E006         Pedro Sánchez           6         8.2    67000\n"
     ]
    }
   ],
   "source": [
    "# Empleados senior (antigüedad > 4) con buen rendimiento (evaluación > 8.0)\n",
    "empleados_senior = empleados.loc[\n",
    "    (empleados['antiguedad'] > 4) & \n",
    "    (empleados['evaluacion'] > 8.0),\n",
    "    ['nombre', 'antiguedad', 'evaluacion', 'salario']\n",
    "]\n",
    "print(\"Empleados senior con buen rendimiento:\")\n",
    "print(empleados_senior)"
   ]
  },
  {
   "cell_type": "markdown",
   "id": "f851560c",
   "metadata": {},
   "source": [
    "Técnicas Avanzadas de Selección"
   ]
  },
  {
   "cell_type": "markdown",
   "id": "75c29fb7",
   "metadata": {},
   "source": [
    "Uso de isin() con loc"
   ]
  },
  {
   "cell_type": "code",
   "execution_count": 46,
   "id": "c537555d",
   "metadata": {},
   "outputs": [
    {
     "name": "stdout",
     "output_type": "stream",
     "text": [
      "Empleados de dept. específicos en ciudades principales:\n",
      "                      nombre departamento     ciudad  salario\n",
      "empleado_id                                                  \n",
      "E001              Ana García  Consultoría     Madrid    65000\n",
      "E002            Carlos López           IT  Barcelona    70000\n",
      "E003         María Rodriguez  Consultoría     Madrid    62000\n",
      "E005            Laura Martín           IT  Barcelona    68000\n",
      "E006           Pedro Sánchez  Consultoría     Madrid    67000\n",
      "E008            Diego Torres           IT  Barcelona    69000\n"
     ]
    }
   ],
   "source": [
    "# Empleados de departamentos específicos en ciudades específicas\n",
    "dept_ciudades = empleados.loc[\n",
    "    empleados['departamento'].isin(['Consultoría', 'IT']) & \n",
    "    empleados['ciudad'].isin(['Madrid', 'Barcelona']),\n",
    "    ['nombre', 'departamento', 'ciudad', 'salario']\n",
    "]\n",
    "print(\"Empleados de dept. específicos en ciudades principales:\")\n",
    "print(dept_ciudades)"
   ]
  },
  {
   "cell_type": "markdown",
   "id": "6c47a3db",
   "metadata": {},
   "source": [
    "Selección con Funciones Lambda"
   ]
  },
  {
   "cell_type": "code",
   "execution_count": 47,
   "id": "5aa8e88c",
   "metadata": {},
   "outputs": [
    {
     "name": "stdout",
     "output_type": "stream",
     "text": [
      "Empleados con salario sobre la mediana de su departamento:\n",
      "                    nombre departamento  salario\n",
      "empleado_id                                     \n",
      "E002          Carlos López           IT    70000\n",
      "E004            Juan Pérez     Finanzas    75000\n",
      "E006         Pedro Sánchez  Consultoría    67000\n"
     ]
    }
   ],
   "source": [
    "# Empleados con salario por encima de la mediana de su departamento\n",
    "salario_mediano = empleados.groupby('departamento')['salario'].median()\n",
    "\n",
    "empleados_sobre_mediana = empleados.loc[\n",
    "    empleados.apply(\n",
    "        lambda row: row['salario'] > salario_mediano[row['departamento']], \n",
    "        axis=1\n",
    "    )\n",
    "]\n",
    "print(\"Empleados con salario sobre la mediana de su departamento:\")\n",
    "print(empleados_sobre_mediana[['nombre', 'departamento', 'salario']])"
   ]
  },
  {
   "cell_type": "markdown",
   "id": "c426013a",
   "metadata": {},
   "source": [
    "Selección Dinámica con Variables\n"
   ]
  },
  {
   "cell_type": "code",
   "execution_count": 48,
   "id": "a14ba70a",
   "metadata": {},
   "outputs": [
    {
     "name": "stdout",
     "output_type": "stream",
     "text": [
      "Empleados de Consultoría que cumplen criterios:\n",
      "                    nombre departamento  salario  antiguedad  evaluacion  \\\n",
      "empleado_id                                                                \n",
      "E001            Ana García  Consultoría    65000           3         8.5   \n",
      "E006         Pedro Sánchez  Consultoría    67000           6         8.2   \n",
      "\n",
      "             ciudad  \n",
      "empleado_id          \n",
      "E001         Madrid  \n",
      "E006         Madrid  \n"
     ]
    }
   ],
   "source": [
    "# Definir criterios dinámicamente\n",
    "departamento_objetivo = 'Consultoría'\n",
    "salario_minimo = 63000\n",
    "evaluacion_minima = 8.0\n",
    "\n",
    "criterios_dinamicos = (\n",
    "    (empleados['departamento'] == departamento_objetivo) &\n",
    "    (empleados['salario'] >= salario_minimo) &\n",
    "    (empleados['evaluacion'] >= evaluacion_minima)\n",
    ")\n",
    "\n",
    "empleados_objetivo = empleados.loc[criterios_dinamicos]\n",
    "print(f\"Empleados de {departamento_objetivo} que cumplen criterios:\")\n",
    "print(empleados_objetivo)"
   ]
  },
  {
   "cell_type": "markdown",
   "id": "db5e5638",
   "metadata": {},
   "source": [
    "Casos Prácticos en Consultoría\n",
    "\n",
    "Caso 1: Análisis de Compensación por Departamento"
   ]
  },
  {
   "cell_type": "code",
   "execution_count": 49,
   "id": "5cddc97b",
   "metadata": {},
   "outputs": [
    {
     "name": "stdout",
     "output_type": "stream",
     "text": [
      "Empleados de IT en percentil alto de salario:\n",
      "                   nombre  salario  evaluacion  antiguedad\n",
      "empleado_id                                               \n",
      "E002         Carlos López    70000         9.2           5\n",
      "Percentil 75 de IT: 69500.0\n"
     ]
    }
   ],
   "source": [
    "# Analizar empleados de IT con compensación competitiva\n",
    "empleados_it = empleados.loc[empleados['departamento'] == 'IT']\n",
    "\n",
    "# Calcular percentiles de salario\n",
    "p25_it = empleados_it['salario'].quantile(0.25)\n",
    "p75_it = empleados_it['salario'].quantile(0.75)\n",
    "\n",
    "# Empleados de IT en percentil alto\n",
    "it_alto_salario = empleados.loc[\n",
    "    (empleados['departamento'] == 'IT') & \n",
    "    (empleados['salario'] >= p75_it),\n",
    "    ['nombre', 'salario', 'evaluacion', 'antiguedad']\n",
    "]\n",
    "\n",
    "print(\"Empleados de IT en percentil alto de salario:\")\n",
    "print(it_alto_salario)\n",
    "print(f\"Percentil 75 de IT: {p75_it}\")"
   ]
  },
  {
   "cell_type": "markdown",
   "id": "6f4bdcfb",
   "metadata": {},
   "source": [
    "Caso 2: Identificación de Talento de Alto Potencial"
   ]
  },
  {
   "cell_type": "code",
   "execution_count": 50,
   "id": "cd87f5c8",
   "metadata": {},
   "outputs": [
    {
     "name": "stdout",
     "output_type": "stream",
     "text": [
      "Empleados de alto potencial:\n",
      "                      nombre departamento  evaluacion  antiguedad  salario\n",
      "empleado_id                                                               \n",
      "E001              Ana García  Consultoría         8.5           3    65000\n",
      "E002            Carlos López           IT         9.2           5    70000\n",
      "E005            Laura Martín           IT         8.8           4    68000\n",
      "E007         Sofia Hernández     Finanzas         9.1           3    72000\n"
     ]
    }
   ],
   "source": [
    "# Definir criterios de alto potencial\n",
    "alto_potencial = empleados.loc[\n",
    "    (empleados['evaluacion'] >= 8.5) & \n",
    "    (empleados['antiguedad'] >= 2) & \n",
    "    (empleados['antiguedad'] <= 5),  # No muy senior, no muy junior\n",
    "    ['nombre', 'departamento', 'evaluacion', 'antiguedad', 'salario']\n",
    "]\n",
    "\n",
    "print(\"Empleados de alto potencial:\")\n",
    "print(alto_potencial)"
   ]
  },
  {
   "cell_type": "markdown",
   "id": "eccf59a3",
   "metadata": {},
   "source": [
    "Caso 3: Análisis Geográfico de Recursos"
   ]
  },
  {
   "cell_type": "code",
   "execution_count": 51,
   "id": "2e09bb3c",
   "metadata": {},
   "outputs": [
    {
     "name": "stdout",
     "output_type": "stream",
     "text": [
      "\n",
      "--- Madrid ---\n",
      "                      nombre departamento  salario\n",
      "empleado_id                                       \n",
      "E006           Pedro Sánchez  Consultoría    67000\n",
      "E001              Ana García  Consultoría    65000\n",
      "E003         María Rodriguez  Consultoría    62000\n",
      "\n",
      "--- Barcelona ---\n",
      "                   nombre departamento  salario\n",
      "empleado_id                                    \n",
      "E002         Carlos López           IT    70000\n",
      "E008         Diego Torres           IT    69000\n",
      "E005         Laura Martín           IT    68000\n",
      "\n",
      "--- Valencia ---\n",
      "                      nombre departamento  salario\n",
      "empleado_id                                       \n",
      "E004              Juan Pérez     Finanzas    75000\n",
      "E007         Sofia Hernández     Finanzas    72000\n"
     ]
    }
   ],
   "source": [
    "# Distribución de departamentos por ciudad\n",
    "for ciudad in empleados['ciudad'].unique():\n",
    "    empleados_ciudad = empleados.loc[empleados['ciudad'] == ciudad]\n",
    "    print(f\"\\n--- {ciudad} ---\")\n",
    "    print(empleados_ciudad[['nombre', 'departamento', 'salario']].sort_values('salario', ascending=False))\n"
   ]
  },
  {
   "cell_type": "markdown",
   "id": "d5e98ded",
   "metadata": {},
   "source": [
    "Caso 4: Benchmarking Salarial"
   ]
  },
  {
   "cell_type": "code",
   "execution_count": 52,
   "id": "557a7327",
   "metadata": {},
   "outputs": [
    {
     "name": "stdout",
     "output_type": "stream",
     "text": [
      "Salario promedio por nivel de experiencia:\n",
      "Alta (5+ años): 70667\n",
      "Media (3-4 años): 68333\n",
      "Baja (<3 años): 65500\n"
     ]
    }
   ],
   "source": [
    "# Comparar salarios por años de experiencia\n",
    "experiencia_alta = empleados.loc[empleados['antiguedad'] >= 5]\n",
    "experiencia_media = empleados.loc[\n",
    "    (empleados['antiguedad'] >= 3) & (empleados['antiguedad'] < 5)\n",
    "]\n",
    "experiencia_baja = empleados.loc[empleados['antiguedad'] < 3]\n",
    "\n",
    "print(\"Salario promedio por nivel de experiencia:\")\n",
    "print(f\"Alta (5+ años): {experiencia_alta['salario'].mean():.0f}\")\n",
    "print(f\"Media (3-4 años): {experiencia_media['salario'].mean():.0f}\")\n",
    "print(f\"Baja (<3 años): {experiencia_baja['salario'].mean():.0f}\")"
   ]
  },
  {
   "cell_type": "markdown",
   "id": "cfd77b42",
   "metadata": {},
   "source": [
    "Selección con Índices Multijerárquicos"
   ]
  },
  {
   "cell_type": "code",
   "execution_count": 53,
   "id": "b7a01269",
   "metadata": {},
   "outputs": [
    {
     "name": "stdout",
     "output_type": "stream",
     "text": [
      "Estructura con índice multijerárquico:\n",
      "                       empleado_id           nombre  salario  antiguedad  \\\n",
      "departamento ciudad                                                        \n",
      "Consultoría  Madrid           E001       Ana García    65000           3   \n",
      "IT           Barcelona        E002     Carlos López    70000           5   \n",
      "Consultoría  Madrid           E003  María Rodriguez    62000           2   \n",
      "Finanzas     Valencia         E004       Juan Pérez    75000           7   \n",
      "IT           Barcelona        E005     Laura Martín    68000           4   \n",
      "\n",
      "                        evaluacion  \n",
      "departamento ciudad                 \n",
      "Consultoría  Madrid            8.5  \n",
      "IT           Barcelona         9.2  \n",
      "Consultoría  Madrid            7.8  \n",
      "Finanzas     Valencia          9.0  \n",
      "IT           Barcelona         8.8  \n"
     ]
    }
   ],
   "source": [
    "# Crear un índice multijerárquico para análisis más complejo\n",
    "empleados_multi = empleados.reset_index().set_index(['departamento', 'ciudad'])\n",
    "\n",
    "print(\"Estructura con índice multijerárquico:\")\n",
    "print(empleados_multi.head())"
   ]
  },
  {
   "cell_type": "markdown",
   "id": "70da44b0",
   "metadata": {},
   "source": [
    "Selección en Índices Multijerárquicos"
   ]
  },
  {
   "cell_type": "code",
   "execution_count": 54,
   "id": "62516626",
   "metadata": {},
   "outputs": [
    {
     "name": "stdout",
     "output_type": "stream",
     "text": [
      "Todos los empleados de Consultoría:\n",
      "       empleado_id           nombre  salario  antiguedad  evaluacion\n",
      "ciudad                                                              \n",
      "Madrid        E001       Ana García    65000           3         8.5\n",
      "Madrid        E003  María Rodriguez    62000           2         7.8\n",
      "Madrid        E006    Pedro Sánchez    67000           6         8.2\n",
      "\n",
      "Empleados de IT en Barcelona:\n",
      "                       empleado_id        nombre  salario  antiguedad  \\\n",
      "departamento ciudad                                                     \n",
      "IT           Barcelona        E002  Carlos López    70000           5   \n",
      "             Barcelona        E005  Laura Martín    68000           4   \n",
      "             Barcelona        E008  Diego Torres    69000           1   \n",
      "\n",
      "                        evaluacion  \n",
      "departamento ciudad                 \n",
      "IT           Barcelona         9.2  \n",
      "             Barcelona         8.8  \n",
      "             Barcelona         7.5  \n"
     ]
    },
    {
     "name": "stderr",
     "output_type": "stream",
     "text": [
      "/tmp/ipykernel_25475/1272338859.py:7: PerformanceWarning: indexing past lexsort depth may impact performance.\n",
      "  it_barcelona = empleados_multi.loc[('IT', 'Barcelona')]\n"
     ]
    }
   ],
   "source": [
    "# Seleccionar todos los empleados de Consultoría\n",
    "consultoria = empleados_multi.loc['Consultoría']\n",
    "print(\"Todos los empleados de Consultoría:\")\n",
    "print(consultoria)\n",
    "\n",
    "# Seleccionar empleados de IT en Barcelona\n",
    "it_barcelona = empleados_multi.loc[('IT', 'Barcelona')]\n",
    "print(\"\\nEmpleados de IT en Barcelona:\")\n",
    "print(it_barcelona)"
   ]
  },
  {
   "cell_type": "markdown",
   "id": "18acc553",
   "metadata": {},
   "source": [
    "Modificación de Datos con loc e iloc"
   ]
  },
  {
   "cell_type": "markdown",
   "id": "27a9c976",
   "metadata": {},
   "source": [
    "Actualización de Valores Específicos"
   ]
  },
  {
   "cell_type": "code",
   "execution_count": 55,
   "id": "54539cf6",
   "metadata": {},
   "outputs": [
    {
     "name": "stdout",
     "output_type": "stream",
     "text": [
      "Salario actualizado para E001:\n",
      "70000\n"
     ]
    }
   ],
   "source": [
    "# Actualizar salario de un empleado específico\n",
    "empleados_copia = empleados.copy()\n",
    "empleados_copia.loc['E001', 'salario'] = 70000\n",
    "\n",
    "print(\"Salario actualizado para E001:\")\n",
    "print(empleados_copia.loc['E001', 'salario'])"
   ]
  },
  {
   "cell_type": "markdown",
   "id": "72dba837",
   "metadata": {},
   "source": [
    "Actualización Condicional"
   ]
  },
  {
   "cell_type": "code",
   "execution_count": 56,
   "id": "f4362f92",
   "metadata": {},
   "outputs": [
    {
     "name": "stdout",
     "output_type": "stream",
     "text": [
      "Empleados con bonus (evaluación > 9.0):\n",
      "                      nombre  evaluacion  salario\n",
      "empleado_id                                      \n",
      "E002            Carlos López         9.2    77000\n",
      "E007         Sofia Hernández         9.1    79200\n"
     ]
    }
   ],
   "source": [
    "# Bonus del 10% para empleados con evaluación > 9.0\n",
    "empleados_copia.loc[empleados_copia['evaluacion'] > 9.0, 'salario'] *= 1.10\n",
    "\n",
    "print(\"Empleados con bonus (evaluación > 9.0):\")\n",
    "high_performers = empleados_copia.loc[empleados_copia['evaluacion'] > 9.0]\n",
    "print(high_performers[['nombre', 'evaluacion', 'salario']])"
   ]
  },
  {
   "cell_type": "markdown",
   "id": "9514289c",
   "metadata": {},
   "source": [
    "Ejercicios Prácticos\n",
    "\n",
    "Ejercicio 1: Selección Específica"
   ]
  },
  {
   "cell_type": "code",
   "execution_count": 57,
   "id": "60f9f080",
   "metadata": {},
   "outputs": [
    {
     "name": "stdout",
     "output_type": "stream",
     "text": [
      "Empleados seleccionados (E002, E004, E006):\n",
      "                    nombre departamento  salario\n",
      "empleado_id                                     \n",
      "E002          Carlos López           IT    70000\n",
      "E004            Juan Pérez     Finanzas    75000\n",
      "E006         Pedro Sánchez  Consultoría    67000\n"
     ]
    }
   ],
   "source": [
    "# TODO: Usando loc, selecciona:\n",
    "# 1. Empleados E002, E004, E006\n",
    "# 2. Solo las columnas: nombre, departamento, salario\n",
    "\n",
    "# Tu solución aquí:\n",
    "empleados_seleccionados = empleados.loc[['E002', 'E004', 'E006'], ['nombre', 'departamento', 'salario']]\n",
    "print(\"Empleados seleccionados (E002, E004, E006):\")\n",
    "print(empleados_seleccionados)"
   ]
  },
  {
   "cell_type": "markdown",
   "id": "f259f8f1",
   "metadata": {},
   "source": [
    "Ejercicio 2: Selección Condicional"
   ]
  },
  {
   "cell_type": "code",
   "execution_count": 58,
   "id": "81026f50",
   "metadata": {},
   "outputs": [
    {
     "name": "stdout",
     "output_type": "stream",
     "text": [
      "Empleados en Madrid o Barcelona con evaluación >= 8.0:\n",
      "                    nombre     ciudad  evaluacion  salario\n",
      "empleado_id                                               \n",
      "E001            Ana García     Madrid         8.5    65000\n",
      "E002          Carlos López  Barcelona         9.2    70000\n",
      "E005          Laura Martín  Barcelona         8.8    68000\n",
      "E006         Pedro Sánchez     Madrid         8.2    67000\n"
     ]
    }
   ],
   "source": [
    "# TODO: Encuentra empleados que:\n",
    "# 1. Trabajen en Madrid O Barcelona\n",
    "# 2. Tengan evaluación >= 8.0\n",
    "# 3. Muestren solo: nombre, ciudad, evaluacion, salario\n",
    "\n",
    "# Tu solución aquí:\n",
    "empleados_filtrados = empleados.loc[\n",
    "    ((empleados['ciudad'] == 'Madrid') | (empleados['ciudad'] == 'Barcelona')) &\n",
    "    (empleados['evaluacion'] >= 8.0),\n",
    "    ['nombre', 'ciudad', 'evaluacion', 'salario']\n",
    "]\n",
    "print(\"Empleados en Madrid o Barcelona con evaluación >= 8.0:\")\n",
    "print(empleados_filtrados)\n"
   ]
  },
  {
   "cell_type": "markdown",
   "id": "13025fa5",
   "metadata": {},
   "source": [
    "Ejercicio 3: Análisis con iloc"
   ]
  },
  {
   "cell_type": "code",
   "execution_count": 59,
   "id": "23f76d0e",
   "metadata": {},
   "outputs": [
    {
     "name": "stdout",
     "output_type": "stream",
     "text": [
      "Últimos 3 empleados, primeras 4 columnas:\n",
      "                      nombre departamento  salario  antiguedad\n",
      "empleado_id                                                   \n",
      "E006           Pedro Sánchez  Consultoría    67000           6\n",
      "E007         Sofia Hernández     Finanzas    72000           3\n",
      "E008            Diego Torres           IT    69000           1\n"
     ]
    }
   ],
   "source": [
    "# TODO: Usando iloc:\n",
    "# 1. Selecciona los últimos 3 empleados\n",
    "# 2. Solo las primeras 4 columnas\n",
    "\n",
    "# Tu solución aquí:\n",
    "ultimos_tres = empleados.iloc[-3:, :4]\n",
    "print(\"Últimos 3 empleados, primeras 4 columnas:\")\n",
    "print(ultimos_tres)"
   ]
  }
 ],
 "metadata": {
  "kernelspec": {
   "display_name": "Python 3",
   "language": "python",
   "name": "python3"
  },
  "language_info": {
   "codemirror_mode": {
    "name": "ipython",
    "version": 3
   },
   "file_extension": ".py",
   "mimetype": "text/x-python",
   "name": "python",
   "nbconvert_exporter": "python",
   "pygments_lexer": "ipython3",
   "version": "3.12.1"
  }
 },
 "nbformat": 4,
 "nbformat_minor": 5
}
